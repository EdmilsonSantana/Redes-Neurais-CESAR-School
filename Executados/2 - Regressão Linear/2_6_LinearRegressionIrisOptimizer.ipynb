{
  "cells": [
    {
      "cell_type": "markdown",
      "metadata": {
        "id": "oybr0ygpH3at"
      },
      "source": [
        "# Regressão Linear com PyTorch"
      ]
    },
    {
      "cell_type": "markdown",
      "metadata": {
        "id": "4AZBwvGWH3au"
      },
      "source": [
        "## Objetivos"
      ]
    },
    {
      "cell_type": "markdown",
      "metadata": {
        "id": "PesKBcQYH3av"
      },
      "source": [
        "Este exemplo utiliza regressão linear para estimar o comprimento das sépalas da íris a partir do seu comprimento das pétalas.\n",
        "Utiliza-se:\n",
        "- a função de perda MSE do PyTorch, \n",
        "- treinamento dos parâmetros via gradiente descendente usando o otimizador.\n",
        "- A rede é criada com uma camada nn.Linear()"
      ]
    },
    {
      "cell_type": "markdown",
      "metadata": {
        "id": "rPwFmfTpH3ax"
      },
      "source": [
        "## Importação dos pacotes"
      ]
    },
    {
      "cell_type": "code",
      "execution_count": 1,
      "metadata": {
        "ExecuteTime": {
          "end_time": "2017-10-08T11:23:37.927166Z",
          "start_time": "2017-10-08T11:23:36.900382Z"
        },
        "colab": {
          "base_uri": "https://localhost:8080/"
        },
        "id": "EJa19XZsH3ax",
        "outputId": "14bbe219-d90f-476f-8ce5-1306b837827c"
      },
      "outputs": [
        {
          "output_type": "execute_result",
          "data": {
            "text/plain": [
              "<torch._C.Generator at 0x7f9a392d5610>"
            ]
          },
          "metadata": {},
          "execution_count": 1
        }
      ],
      "source": [
        "%matplotlib inline\n",
        "import torch\n",
        "from torch import nn, optim\n",
        "from torch.autograd import Variable\n",
        "import numpy as np\n",
        "import matplotlib.pyplot as plt\n",
        "from sklearn.datasets import load_iris\n",
        "\n",
        "torch.manual_seed(1234)"
      ]
    },
    {
      "cell_type": "markdown",
      "metadata": {
        "id": "zkVqshBgH3a3"
      },
      "source": [
        "## Leitura dos dados"
      ]
    },
    {
      "cell_type": "code",
      "execution_count": 2,
      "metadata": {
        "ExecuteTime": {
          "end_time": "2017-10-08T11:23:37.946805Z",
          "start_time": "2017-10-08T11:23:37.929142Z"
        },
        "colab": {
          "base_uri": "https://localhost:8080/"
        },
        "id": "FNRdrYnrH3a4",
        "outputId": "1579e5a2-4426-4c1c-c738-bd73e0b77d57"
      },
      "outputs": [
        {
          "output_type": "stream",
          "name": "stdout",
          "text": [
            "x_train.shape: (50, 1) float32\n",
            "y_train.shape: (50, 1) float32\n",
            "x_train[:5]:\n",
            " [[7. ]\n",
            " [6.4]\n",
            " [6.9]\n",
            " [5.5]\n",
            " [6.5]]\n",
            "y_train[:5]:\n",
            " [[4.7]\n",
            " [4.5]\n",
            " [4.9]\n",
            " [4. ]\n",
            " [4.6]]\n"
          ]
        }
      ],
      "source": [
        "iris = load_iris()\n",
        "data = iris.data[iris.target==1,::2]  # comprimento das sépalas e pétalas, indices 0 e 2\n",
        "\n",
        "x_train = data[:,0:1].astype(np.float32)\n",
        "y_train = data[:,1:2].astype(np.float32)\n",
        "\n",
        "n_samples = x_train.shape[0]\n",
        "print('x_train.shape:',x_train.shape, x_train.dtype)\n",
        "print('y_train.shape:',y_train.shape, y_train.dtype)\n",
        "\n",
        "print('x_train[:5]:\\n', x_train[:5])\n",
        "print('y_train[:5]:\\n', y_train[:5])"
      ]
    },
    {
      "cell_type": "markdown",
      "metadata": {
        "id": "CI2oB--zH3a7"
      },
      "source": [
        "### Normalização dos dados"
      ]
    },
    {
      "cell_type": "code",
      "execution_count": 3,
      "metadata": {
        "ExecuteTime": {
          "end_time": "2017-10-08T11:23:37.956211Z",
          "start_time": "2017-10-08T11:23:37.949927Z"
        },
        "id": "VwvLO3hIH3a9"
      },
      "outputs": [],
      "source": [
        "x_train -= x_train.min()\n",
        "x_train /= x_train.max()\n",
        "y_train -= y_train.min()\n",
        "y_train /= y_train.max()\n"
      ]
    },
    {
      "cell_type": "code",
      "execution_count": 5,
      "metadata": {
        "ExecuteTime": {
          "end_time": "2017-10-08T11:23:37.963170Z",
          "start_time": "2017-10-08T11:23:37.958475Z"
        },
        "id": "lKjd3VQNH3a-"
      },
      "outputs": [],
      "source": [
        "x_train_bias = np.hstack([np.ones(shape=(n_samples,1)), x_train])"
      ]
    },
    {
      "cell_type": "code",
      "execution_count": 6,
      "metadata": {
        "ExecuteTime": {
          "end_time": "2017-10-08T11:23:37.970031Z",
          "start_time": "2017-10-08T11:23:37.965786Z"
        },
        "id": "R2gg3Z8zH3bB"
      },
      "outputs": [],
      "source": [
        "x_train_bias = torch.FloatTensor(x_train_bias)\n",
        "y_train      = torch.FloatTensor(y_train)"
      ]
    },
    {
      "cell_type": "markdown",
      "metadata": {
        "id": "Zj_4-yzuH3bE"
      },
      "source": [
        "## Criação do modelo da rede"
      ]
    },
    {
      "cell_type": "code",
      "execution_count": 34,
      "metadata": {
        "ExecuteTime": {
          "end_time": "2017-10-08T11:23:37.978113Z",
          "start_time": "2017-10-08T11:23:37.972879Z"
        },
        "id": "AxkP2_ojH3bE"
      },
      "outputs": [],
      "source": [
        "model = torch.nn.Linear(2, 1, bias=False)"
      ]
    },
    {
      "cell_type": "markdown",
      "metadata": {
        "id": "G4azDkxbH3bI"
      },
      "source": [
        "### Verificando a inicialização dos parâmetros"
      ]
    },
    {
      "cell_type": "code",
      "execution_count": 35,
      "metadata": {
        "ExecuteTime": {
          "end_time": "2017-10-08T11:23:37.989441Z",
          "start_time": "2017-10-08T11:23:37.980969Z"
        },
        "colab": {
          "base_uri": "https://localhost:8080/"
        },
        "id": "hihjBHEFH3bJ",
        "outputId": "731a4ca2-af61-4f0a-d580-f095849b537d"
      },
      "outputs": [
        {
          "output_type": "stream",
          "name": "stderr",
          "text": [
            "/usr/local/lib/python3.7/dist-packages/ipykernel_launcher.py:2: UserWarning: nn.init.uniform is now deprecated in favor of nn.init.uniform_.\n",
            "  \n"
          ]
        },
        {
          "output_type": "execute_result",
          "data": {
            "text/plain": [
              "tensor([[-0.0441,  0.0363]])"
            ]
          },
          "metadata": {},
          "execution_count": 35
        }
      ],
      "source": [
        "model.weight.data = torch.zeros(1,2)\n",
        "torch.nn.init.uniform(model.weight.data, -0.1, 0.1)\n",
        "model.weight.data"
      ]
    },
    {
      "cell_type": "markdown",
      "metadata": {
        "id": "plBKu2guH3bM"
      },
      "source": [
        "### Testando o predict da rede"
      ]
    },
    {
      "cell_type": "code",
      "execution_count": 36,
      "metadata": {
        "ExecuteTime": {
          "end_time": "2017-10-08T11:23:38.041043Z",
          "start_time": "2017-10-08T11:23:37.992008Z"
        },
        "colab": {
          "base_uri": "https://localhost:8080/"
        },
        "id": "o9X_PZ8jH3bM",
        "outputId": "aea582e9-4506-41c2-cfce-0231a72e3f7a"
      },
      "outputs": [
        {
          "output_type": "execute_result",
          "data": {
            "text/plain": [
              "tensor([[-0.0078],\n",
              "        [-0.0078],\n",
              "        [-0.0078],\n",
              "        [-0.0078],\n",
              "        [-0.0078]], grad_fn=<MmBackward0>)"
            ]
          },
          "metadata": {},
          "execution_count": 36
        }
      ],
      "source": [
        "model(Variable(torch.ones((5,2))))"
      ]
    },
    {
      "cell_type": "markdown",
      "metadata": {
        "id": "NDVeAyDCH3bQ"
      },
      "source": [
        "## Treinamento"
      ]
    },
    {
      "cell_type": "markdown",
      "metadata": {
        "id": "8p4jG3kqH3bR"
      },
      "source": [
        "### Definindo função de perda e otimizador"
      ]
    },
    {
      "cell_type": "code",
      "execution_count": 37,
      "metadata": {
        "ExecuteTime": {
          "end_time": "2017-10-08T11:23:38.049936Z",
          "start_time": "2017-10-08T11:23:38.043559Z"
        },
        "id": "yzC5JAvtH3bR"
      },
      "outputs": [],
      "source": [
        "criterion = nn.MSELoss()\n",
        "optimizer = optim.SGD(model.parameters(), lr=0.3)"
      ]
    },
    {
      "cell_type": "markdown",
      "metadata": {
        "id": "JJe4KvCdH3bV"
      },
      "source": [
        "### Laço de treinamento"
      ]
    },
    {
      "cell_type": "code",
      "execution_count": 38,
      "metadata": {
        "ExecuteTime": {
          "end_time": "2017-10-08T11:23:38.128839Z",
          "start_time": "2017-10-08T11:23:38.053061Z"
        },
        "colab": {
          "base_uri": "https://localhost:8080/"
        },
        "id": "P_icCuI9H3bW",
        "outputId": "cf47da69-640a-4fad-8ba8-3196a7375bb6",
        "scrolled": false
      },
      "outputs": [
        {
          "output_type": "stream",
          "name": "stdout",
          "text": [
            "Epoch[20/120], loss: 0.024193\n",
            "Epoch[40/120], loss: 0.022129\n",
            "Epoch[60/120], loss: 0.021474\n",
            "Epoch[80/120], loss: 0.021266\n",
            "Epoch[100/120], loss: 0.021200\n",
            "Epoch[120/120], loss: 0.021179\n"
          ]
        }
      ],
      "source": [
        "num_epochs = 120\n",
        "w0_list = []\n",
        "w1_list = []\n",
        "losses = []\n",
        "\n",
        "for epoch in range(num_epochs):\n",
        "    inputs = Variable(x_train_bias)\n",
        "    target = Variable(y_train)\n",
        "\n",
        "    # forward - predict\n",
        "    out = model(inputs)\n",
        "    \n",
        "    w0_list.append(model.weight.data[0][0].item())\n",
        "    w1_list.append(model.weight.data[0][1].item())\n",
        "\n",
        "    #loss cálculo da função de perda\n",
        "    loss = criterion(out, target)\n",
        "\n",
        "    #capturando as perdas em um vetor\n",
        "    losses.append(loss.item())\n",
        "    \n",
        "    # backward e otimizador\n",
        "    optimizer.zero_grad()\n",
        "    loss.backward()\n",
        "    optimizer.step()\n",
        "\n",
        "    # loss = torch.pow(out - target, 2).mean()\n",
        "    # # backward propagation - cálculo gradiente\n",
        "    # loss.backward()\n",
        "    # # gradiente descendente\n",
        "    # model.weight.data = model.weight.data - learning_rate * model.weight.grad.data\n",
        "    # # zeragem parâmetros próximo cálculo do gradiente\n",
        "    # model.weight.grad.data.zero_()\n",
        "    \n",
        "    # verbose\n",
        "    if (epoch+1) % 20 == 0:\n",
        "        print('Epoch[{}/{}], loss: {:.6f}'\n",
        "              .format(epoch+1, num_epochs, loss.data))"
      ]
    },
    {
      "cell_type": "markdown",
      "metadata": {
        "id": "krvBJhZIH3bd"
      },
      "source": [
        "## Avaliação"
      ]
    },
    {
      "cell_type": "code",
      "execution_count": 12,
      "metadata": {
        "ExecuteTime": {
          "end_time": "2017-10-08T11:23:38.343311Z",
          "start_time": "2017-10-08T11:23:38.131051Z"
        },
        "colab": {
          "base_uri": "https://localhost:8080/",
          "height": 265
        },
        "id": "ImMHVPKMH3bf",
        "outputId": "173df1a0-6a88-4306-d72f-900d916919b0"
      },
      "outputs": [
        {
          "output_type": "display_data",
          "data": {
            "text/plain": [
              "<Figure size 432x288 with 1 Axes>"
            ],
            "image/png": "[encoded data removed]"
          },
          "metadata": {
            "needs_background": "light"
          }
        }
      ],
      "source": [
        "y_pred = model(Variable(x_train_bias))\n",
        "plt.plot(x_train, y_train.numpy(), 'ro', label='Original data')\n",
        "plt.plot(x_train, y_pred.data.numpy(), 'kx-', label='Fitting Line')\n",
        "plt.show()"
      ]
    },
    {
      "cell_type": "code",
      "execution_count": 13,
      "metadata": {
        "colab": {
          "base_uri": "https://localhost:8080/"
        },
        "id": "BcDJ7AhsH3bj",
        "outputId": "cc56309d-e452-4a15-8b28-e10aa59c451c"
      },
      "outputs": [
        {
          "output_type": "stream",
          "name": "stdout",
          "text": [
            "tensor(0.0212, grad_fn=<MseLossBackward0>)\n"
          ]
        }
      ],
      "source": [
        "y_pred = model(Variable(x_train_bias))\n",
        "loss = criterion(y_pred, Variable(y_train))\n",
        "print(loss)"
      ]
    },
    {
      "cell_type": "markdown",
      "metadata": {
        "collapsed": true,
        "id": "bStL-pkSH3bt"
      },
      "source": [
        "# Exercícios"
      ]
    },
    {
      "cell_type": "markdown",
      "metadata": {
        "id": "_nMQjjzmH3bt"
      },
      "source": [
        "- 1) Calcule o valor da função de custo (MSE) depois da rede treinada, utilizando a\n",
        "   função `criterion` utilizada no laço de treinamento."
      ]
    },
    {
      "cell_type": "markdown",
      "metadata": {
        "id": "xovYuu6-H3bu"
      },
      "source": [
        "- 2) Faça igual o exercício do notebook anterior, de plotar um gráfico scatterplot para\n",
        "   mostrar a evolução dos parâmetros durante o treinamento pelo gradiente descendente."
      ]
    },
    {
      "cell_type": "code",
      "execution_count": 14,
      "metadata": {
        "colab": {
          "base_uri": "https://localhost:8080/",
          "height": 267
        },
        "id": "tpXoJNmWCthR",
        "outputId": "92edaa57-8c18-4e50-b7e8-358df5d59223"
      },
      "outputs": [
        {
          "output_type": "display_data",
          "data": {
            "text/plain": [
              "<Figure size 432x288 with 1 Axes>"
            ],
            "image/png": "[encoded data removed]"
          },
          "metadata": {
            "needs_background": "light"
          }
        }
      ],
      "source": [
        "plt.scatter(w0_list,w1_list)\n",
        "w0_old = None\n",
        "for (w0,w1) in zip(w0_list,w1_list):\n",
        "    if w0_old:\n",
        "        plt.arrow(w0_old, w1_old, w0-w0_old, w1-w1_old,\n",
        "                  head_length=0.01,head_width=0.01,shape='full',\n",
        "                  length_includes_head=True)\n",
        "    w0_old,w1_old = w0,w1"
      ]
    },
    {
      "cell_type": "markdown",
      "metadata": {
        "collapsed": true,
        "id": "H23QVayeH3bu"
      },
      "source": [
        "- 3) Crie um gráfico com a evolução da perda com o evoluir das épocas."
      ]
    },
    {
      "cell_type": "code",
      "source": [
        "losses"
      ],
      "metadata": {
        "id": "DwNhSJlQH12j",
        "outputId": "be9f5244-b40a-4589-f9b1-dcb8933b1830",
        "colab": {
          "base_uri": "https://localhost:8080/"
        }
      },
      "execution_count": 39,
      "outputs": [
        {
          "output_type": "execute_result",
          "data": {
            "text/plain": [
              "[0.4383406937122345,\n",
              " 0.054519280791282654,\n",
              " 0.030707331374287605,\n",
              " 0.028838716447353363,\n",
              " 0.028329454362392426,\n",
              " 0.027925023809075356,\n",
              " 0.0275478083640337,\n",
              " 0.027191922068595886,\n",
              " 0.026855910196900368,\n",
              " 0.02653864584863186,\n",
              " 0.02623908594250679,\n",
              " 0.025956232100725174,\n",
              " 0.02568916231393814,\n",
              " 0.025436995550990105,\n",
              " 0.02519889362156391,\n",
              " 0.02497408166527748,\n",
              " 0.024761807173490524,\n",
              " 0.024561379104852676,\n",
              " 0.024372128769755363,\n",
              " 0.02419344335794449,\n",
              " 0.024024726822972298,\n",
              " 0.02386542037129402,\n",
              " 0.023715002462267876,\n",
              " 0.023572979494929314,\n",
              " 0.02343887835741043,\n",
              " 0.02331225946545601,\n",
              " 0.02319270372390747,\n",
              " 0.023079819977283478,\n",
              " 0.022973231971263885,\n",
              " 0.022872595116496086,\n",
              " 0.02277756854891777,\n",
              " 0.022687846794724464,\n",
              " 0.022603129968047142,\n",
              " 0.022523140534758568,\n",
              " 0.022447610273957253,\n",
              " 0.022376298904418945,\n",
              " 0.022308962419629097,\n",
              " 0.022245388478040695,\n",
              " 0.022185353562235832,\n",
              " 0.022128673270344734,\n",
              " 0.02207515761256218,\n",
              " 0.022024620324373245,\n",
              " 0.021976906806230545,\n",
              " 0.021931855008006096,\n",
              " 0.02188931405544281,\n",
              " 0.02184915356338024,\n",
              " 0.02181122824549675,\n",
              " 0.021775417029857635,\n",
              " 0.021741606295108795,\n",
              " 0.021709686145186424,\n",
              " 0.02167954295873642,\n",
              " 0.02165108174085617,\n",
              " 0.021624209359288216,\n",
              " 0.021598832681775093,\n",
              " 0.021574877202510834,\n",
              " 0.021552255377173424,\n",
              " 0.02153089828789234,\n",
              " 0.02151072770357132,\n",
              " 0.021491684019565582,\n",
              " 0.021473705768585205,\n",
              " 0.021456729620695114,\n",
              " 0.021440699696540833,\n",
              " 0.021425563842058182,\n",
              " 0.021411273628473282,\n",
              " 0.021397780627012253,\n",
              " 0.021385040134191513,\n",
              " 0.02137300930917263,\n",
              " 0.02136165089905262,\n",
              " 0.021350927650928497,\n",
              " 0.02134079858660698,\n",
              " 0.021331235766410828,\n",
              " 0.021322209388017654,\n",
              " 0.021313685923814774,\n",
              " 0.021305637434124947,\n",
              " 0.021298035979270935,\n",
              " 0.021290861070156097,\n",
              " 0.021284086629748344,\n",
              " 0.021277688443660736,\n",
              " 0.02127164788544178,\n",
              " 0.021265946328639984,\n",
              " 0.021260559558868408,\n",
              " 0.021255474537611008,\n",
              " 0.02125067263841629,\n",
              " 0.02124614082276821,\n",
              " 0.02124186046421528,\n",
              " 0.021237818524241447,\n",
              " 0.021234001964330673,\n",
              " 0.02123039960861206,\n",
              " 0.021226996555924416,\n",
              " 0.02122378535568714,\n",
              " 0.021220751106739044,\n",
              " 0.021217890083789825,\n",
              " 0.021215185523033142,\n",
              " 0.021212628111243248,\n",
              " 0.021210219711065292,\n",
              " 0.02120794542133808,\n",
              " 0.02120579406619072,\n",
              " 0.021203765645623207,\n",
              " 0.0212018471211195,\n",
              " 0.021200038492679596,\n",
              " 0.0211983323097229,\n",
              " 0.021196721121668816,\n",
              " 0.021195197477936745,\n",
              " 0.02119375951588154,\n",
              " 0.0211923997849226,\n",
              " 0.021191120147705078,\n",
              " 0.021189911291003227,\n",
              " 0.0211887676268816,\n",
              " 0.021187687292695045,\n",
              " 0.021186666563153267,\n",
              " 0.021185703575611115,\n",
              " 0.02118479646742344,\n",
              " 0.021183939650654793,\n",
              " 0.021183127537369728,\n",
              " 0.021182365715503693,\n",
              " 0.021181641146540642,\n",
              " 0.021180961281061172,\n",
              " 0.02118031680583954,\n",
              " 0.02117970958352089,\n",
              " 0.021179134026169777]"
            ]
          },
          "metadata": {},
          "execution_count": 39
        }
      ]
    },
    {
      "cell_type": "code",
      "source": [
        "epochs = range(0,120)\n",
        "plt.plot(epochs, losses, 'g', label='Training loss')\n",
        "plt.title('Training and Validation loss')\n",
        "plt.xlabel('Epochs')\n",
        "plt.ylabel('Loss')\n",
        "plt.legend()\n",
        "plt.show()"
      ],
      "metadata": {
        "id": "g7AvwSziHMfe",
        "outputId": "c2a586d0-f7f6-47c8-ff3b-5664c7aa5ec2",
        "colab": {
          "base_uri": "https://localhost:8080/",
          "height": 295
        }
      },
      "execution_count": 43,
      "outputs": [
        {
          "output_type": "display_data",
          "data": {
            "text/plain": [
              "<Figure size 432x288 with 1 Axes>"
            ],
            "image/png": "[encoded data removed]"
          },
          "metadata": {
            "needs_background": "light"
          }
        }
      ]
    },
    {
      "cell_type": "markdown",
      "metadata": {
        "id": "P_si86jRH3bw"
      },
      "source": [
        "# Aprendizados"
      ]
    },
    {
      "cell_type": "markdown",
      "metadata": {
        "collapsed": true,
        "id": "rrRR4zs3H3bx"
      },
      "source": []
    }
  ],
  "metadata": {
    "colab": {
      "collapsed_sections": [],
      "name": "2.6-LinearRegressionIrisOptimizer.ipynb",
      "provenance": []
    },
    "kernelspec": {
      "display_name": "Python 3.10.2 64-bit",
      "language": "python",
      "name": "python3"
    },
    "language_info": {
      "name": "python",
      "version": "3.10.2"
    },
    "vscode": {
      "interpreter": {
        "hash": "5fe3e6f0cdaab8afdc61c52912fda83f7c0a71baaea1897dd7498e2df01e69ec"
      }
    }
  },
  "nbformat": 4,
  "nbformat_minor": 0
}