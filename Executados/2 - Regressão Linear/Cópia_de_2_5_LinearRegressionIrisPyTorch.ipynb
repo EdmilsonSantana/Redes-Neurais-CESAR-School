{
  "cells": [
    {
      "cell_type": "markdown",
      "metadata": {
        "id": "4PHBzchPHif1"
      },
      "source": [
        "# Regressão Linear com PyTorch"
      ]
    },
    {
      "cell_type": "markdown",
      "metadata": {
        "id": "GujG54RVHif3"
      },
      "source": [
        "## Objetivo"
      ]
    },
    {
      "cell_type": "markdown",
      "metadata": {
        "id": "GGxcJJDOHif4"
      },
      "source": [
        "Este exemplo utiliza regressão linear para estimar o comprimento das sépalas da íris a partir do seu comprimento das pétalas.\n",
        "Utiliza-se \n",
        "- o cálculo do gradiente automático do PyTorch, porém \n",
        "- a função de perda e \n",
        "- atualização dos parâmetros é feita de forma explícita.\n",
        "- A rede é criada com uma camada nn.Linear()"
      ]
    },
    {
      "cell_type": "markdown",
      "metadata": {
        "id": "6Q1aL4eOHif5"
      },
      "source": [
        "![alt text](https://raw.githubusercontent.com/vcasadei/images/master/RegressaoLinear_Otimizacao.png)"
      ]
    },
    {
      "cell_type": "markdown",
      "metadata": {
        "id": "D-OH95H9Hif6"
      },
      "source": [
        "## Importação dos pacotes"
      ]
    },
    {
      "cell_type": "code",
      "execution_count": 1,
      "metadata": {
        "ExecuteTime": {
          "end_time": "2017-11-23T23:50:37.321471Z",
          "start_time": "2017-11-23T23:50:35.620908Z"
        },
        "id": "Rwd6UgfSHif8",
        "colab": {
          "base_uri": "https://localhost:8080/"
        },
        "outputId": "5f67ba24-4a91-4f72-c47a-451a850897b5"
      },
      "outputs": [
        {
          "output_type": "execute_result",
          "data": {
            "text/plain": [
              "<torch._C.Generator at 0x7ffac65aa530>"
            ]
          },
          "metadata": {},
          "execution_count": 1
        }
      ],
      "source": [
        "%matplotlib inline\n",
        "import matplotlib.pyplot as plt\n",
        "\n",
        "import numpy as np\n",
        "from sklearn.datasets import load_iris\n",
        "\n",
        "import torch\n",
        "from torch import nn, optim\n",
        "from torch.autograd import Variable\n",
        "\n",
        "torch.manual_seed(1234)"
      ]
    },
    {
      "cell_type": "markdown",
      "metadata": {
        "id": "tM6s6TDZHigH"
      },
      "source": [
        "## Leitura dos dados"
      ]
    },
    {
      "cell_type": "code",
      "execution_count": 2,
      "metadata": {
        "ExecuteTime": {
          "end_time": "2017-11-23T23:50:37.352459Z",
          "start_time": "2017-11-23T23:50:37.324344Z"
        },
        "id": "e4YFUL0MHigI",
        "colab": {
          "base_uri": "https://localhost:8080/"
        },
        "outputId": "6b37b628-3e99-48b5-f957-af01ace63f41"
      },
      "outputs": [
        {
          "output_type": "stream",
          "name": "stdout",
          "text": [
            "x_train.shape: (50, 1) float32\n",
            "y_train.shape: (50, 1) float32\n",
            "x_train[:5]:\n",
            " [[7. ]\n",
            " [6.4]\n",
            " [6.9]\n",
            " [5.5]\n",
            " [6.5]]\n",
            "y_train[:5]:\n",
            " [[4.7]\n",
            " [4.5]\n",
            " [4.9]\n",
            " [4. ]\n",
            " [4.6]]\n"
          ]
        }
      ],
      "source": [
        "iris = load_iris()\n",
        "data = iris.data[iris.target==1,::2]  # comprimento das sépalas e pétalas, indices 0 e 2\n",
        "\n",
        "x_train = data[:,0:1].astype(np.float32)\n",
        "y_train = data[:,1:2].astype(np.float32)\n",
        "\n",
        "n_samples = x_train.shape[0]\n",
        "print('x_train.shape:',x_train.shape, x_train.dtype)\n",
        "print('y_train.shape:',y_train.shape, y_train.dtype)\n",
        "\n",
        "print('x_train[:5]:\\n', x_train[:5])\n",
        "print('y_train[:5]:\\n', y_train[:5])"
      ]
    },
    {
      "cell_type": "markdown",
      "metadata": {
        "id": "KiBZegbaHigL"
      },
      "source": [
        "### Normalização dos dados"
      ]
    },
    {
      "cell_type": "code",
      "execution_count": 3,
      "metadata": {
        "ExecuteTime": {
          "end_time": "2017-11-23T23:50:37.369738Z",
          "start_time": "2017-11-23T23:50:37.355827Z"
        },
        "id": "LXJmFubQHigN"
      },
      "outputs": [],
      "source": [
        "x_train -= x_train.min()\n",
        "x_train /= x_train.max()\n",
        "y_train -= y_train.min()\n",
        "y_train /= y_train.max()\n"
      ]
    },
    {
      "cell_type": "code",
      "execution_count": 4,
      "metadata": {
        "id": "nYq87NbdHxZF",
        "colab": {
          "base_uri": "https://localhost:8080/"
        },
        "outputId": "cd3d99d9-6294-42aa-bf26-078b2e50072c"
      },
      "outputs": [
        {
          "output_type": "stream",
          "name": "stdout",
          "text": [
            "x_train[:5]:\n",
            " [[1.        ]\n",
            " [0.71428573]\n",
            " [0.952381  ]\n",
            " [0.28571424]\n",
            " [0.7619048 ]]\n",
            "y_train[:5]:\n",
            " [[0.80952376]\n",
            " [0.71428573]\n",
            " [0.90476197]\n",
            " [0.4761905 ]\n",
            " [0.7619048 ]]\n"
          ]
        }
      ],
      "source": [
        "print('x_train[:5]:\\n', x_train[:5])\n",
        "print('y_train[:5]:\\n', y_train[:5])"
      ]
    },
    {
      "cell_type": "code",
      "execution_count": 5,
      "metadata": {
        "ExecuteTime": {
          "end_time": "2017-11-23T23:50:37.381683Z",
          "start_time": "2017-11-23T23:50:37.375245Z"
        },
        "id": "epxtUveAHigP"
      },
      "outputs": [],
      "source": [
        "x_train_bias = np.hstack([np.ones(shape=(n_samples,1)), x_train])"
      ]
    },
    {
      "cell_type": "code",
      "execution_count": 6,
      "metadata": {
        "id": "AgObmWFjH5x7",
        "colab": {
          "base_uri": "https://localhost:8080/"
        },
        "outputId": "ca5dc281-ee56-4f37-e08e-ffe7e7da6b5d"
      },
      "outputs": [
        {
          "output_type": "execute_result",
          "data": {
            "text/plain": [
              "array([[1.        , 1.        ],\n",
              "       [1.        , 0.71428573],\n",
              "       [1.        , 0.95238101],\n",
              "       [1.        , 0.28571424],\n",
              "       [1.        , 0.76190478],\n",
              "       [1.        , 0.38095227],\n",
              "       [1.        , 0.66666675],\n",
              "       [1.        , 0.        ],\n",
              "       [1.        , 0.80952376],\n",
              "       [1.        , 0.14285702],\n",
              "       [1.        , 0.047619  ],\n",
              "       [1.        , 0.47619051],\n",
              "       [1.        , 0.52380949],\n",
              "       [1.        , 0.57142848],\n",
              "       [1.        , 0.33333325],\n",
              "       [1.        , 0.85714275],\n",
              "       [1.        , 0.33333325],\n",
              "       [1.        , 0.42857149],\n",
              "       [1.        , 0.61904752],\n",
              "       [1.        , 0.33333325],\n",
              "       [1.        , 0.47619051],\n",
              "       [1.        , 0.57142848],\n",
              "       [1.        , 0.66666675],\n",
              "       [1.        , 0.57142848],\n",
              "       [1.        , 0.71428573],\n",
              "       [1.        , 0.80952376],\n",
              "       [1.        , 0.90476197],\n",
              "       [1.        , 0.85714275],\n",
              "       [1.        , 0.52380949],\n",
              "       [1.        , 0.38095227],\n",
              "       [1.        , 0.28571424],\n",
              "       [1.        , 0.28571424],\n",
              "       [1.        , 0.42857149],\n",
              "       [1.        , 0.52380949],\n",
              "       [1.        , 0.23809525],\n",
              "       [1.        , 0.52380949],\n",
              "       [1.        , 0.85714275],\n",
              "       [1.        , 0.66666675],\n",
              "       [1.        , 0.33333325],\n",
              "       [1.        , 0.28571424],\n",
              "       [1.        , 0.28571424],\n",
              "       [1.        , 0.57142848],\n",
              "       [1.        , 0.42857149],\n",
              "       [1.        , 0.047619  ],\n",
              "       [1.        , 0.33333325],\n",
              "       [1.        , 0.38095227],\n",
              "       [1.        , 0.38095227],\n",
              "       [1.        , 0.61904752],\n",
              "       [1.        , 0.09523801],\n",
              "       [1.        , 0.38095227]])"
            ]
          },
          "metadata": {},
          "execution_count": 6
        }
      ],
      "source": [
        "x_train_bias"
      ]
    },
    {
      "cell_type": "code",
      "execution_count": 7,
      "metadata": {
        "id": "7seVsEbJIHb3",
        "colab": {
          "base_uri": "https://localhost:8080/"
        },
        "outputId": "6a9b475f-d3b7-41b7-fe2e-3977d405dc7f"
      },
      "outputs": [
        {
          "output_type": "stream",
          "name": "stdout",
          "text": [
            "x_train_bias.shape: (50, 2) float64\n"
          ]
        }
      ],
      "source": [
        "print('x_train_bias.shape:',x_train_bias.shape, x_train_bias.dtype)"
      ]
    },
    {
      "cell_type": "code",
      "execution_count": 8,
      "metadata": {
        "ExecuteTime": {
          "end_time": "2017-11-23T23:50:37.396626Z",
          "start_time": "2017-11-23T23:50:37.389139Z"
        },
        "id": "3Enuu3LxHigR",
        "colab": {
          "base_uri": "https://localhost:8080/"
        },
        "outputId": "46a9b6dd-ca5f-442a-feda-cda8026bffc3"
      },
      "outputs": [
        {
          "output_type": "stream",
          "name": "stdout",
          "text": [
            "tensor([[0.8095],\n",
            "        [0.7143],\n",
            "        [0.9048],\n",
            "        [0.4762],\n",
            "        [0.7619],\n",
            "        [0.7143],\n",
            "        [0.8095],\n",
            "        [0.1429],\n",
            "        [0.7619],\n",
            "        [0.4286],\n",
            "        [0.2381],\n",
            "        [0.5714],\n",
            "        [0.4762],\n",
            "        [0.8095],\n",
            "        [0.2857],\n",
            "        [0.6667],\n",
            "        [0.7143],\n",
            "        [0.5238],\n",
            "        [0.7143],\n",
            "        [0.4286],\n",
            "        [0.8571],\n",
            "        [0.4762],\n",
            "        [0.9048],\n",
            "        [0.8095],\n",
            "        [0.6190],\n",
            "        [0.6667],\n",
            "        [0.8571],\n",
            "        [0.9524],\n",
            "        [0.7143],\n",
            "        [0.2381],\n",
            "        [0.3810],\n",
            "        [0.3333],\n",
            "        [0.4286],\n",
            "        [1.0000],\n",
            "        [0.7143],\n",
            "        [0.7143],\n",
            "        [0.8095],\n",
            "        [0.6667],\n",
            "        [0.5238],\n",
            "        [0.4762],\n",
            "        [0.6667],\n",
            "        [0.7619],\n",
            "        [0.4762],\n",
            "        [0.1429],\n",
            "        [0.5714],\n",
            "        [0.5714],\n",
            "        [0.5714],\n",
            "        [0.6190],\n",
            "        [0.0000],\n",
            "        [0.5238]])\n"
          ]
        }
      ],
      "source": [
        "x_train_bias = torch.FloatTensor(x_train_bias)\n",
        "y_train      = torch.FloatTensor(y_train)\n",
        "print(y_train)"
      ]
    },
    {
      "cell_type": "markdown",
      "metadata": {
        "id": "35kUVzdrHigU"
      },
      "source": [
        "## Model"
      ]
    },
    {
      "cell_type": "markdown",
      "metadata": {
        "id": "8nv8uX7uHigU"
      },
      "source": [
        "![alt text](https://raw.githubusercontent.com/vcasadei/images/master/RegressaoLinearNeuronio.png)"
      ]
    },
    {
      "cell_type": "code",
      "execution_count": 33,
      "metadata": {
        "ExecuteTime": {
          "end_time": "2017-11-23T23:50:37.403510Z",
          "start_time": "2017-11-23T23:50:37.399234Z"
        },
        "id": "Ngq9EEi8HigV"
      },
      "outputs": [],
      "source": [
        "model = torch.nn.Linear(in_features=2, out_features=1, bias=False)"
      ]
    },
    {
      "cell_type": "code",
      "source": [
        "print(model.weight)"
      ],
      "metadata": {
        "colab": {
          "base_uri": "https://localhost:8080/"
        },
        "id": "Yf2gNwoWVR4p",
        "outputId": "a2d2e5c4-5495-4035-c0cf-905c54f565ac"
      },
      "execution_count": 34,
      "outputs": [
        {
          "output_type": "stream",
          "name": "stdout",
          "text": [
            "Parameter containing:\n",
            "tensor([[ 0.4537, -0.3122]], requires_grad=True)\n"
          ]
        }
      ]
    },
    {
      "cell_type": "markdown",
      "metadata": {
        "id": "fz0E6uU2HigY"
      },
      "source": [
        "### Verificando a inicialização dos parâmetros"
      ]
    },
    {
      "cell_type": "code",
      "execution_count": 35,
      "metadata": {
        "ExecuteTime": {
          "end_time": "2017-11-23T23:50:37.418969Z",
          "start_time": "2017-11-23T23:50:37.409713Z"
        },
        "id": "aKnVpTrnHigZ",
        "colab": {
          "base_uri": "https://localhost:8080/"
        },
        "outputId": "8678dcfd-be9a-4a7b-b33d-60abdfd1fd16"
      },
      "outputs": [
        {
          "output_type": "stream",
          "name": "stderr",
          "text": [
            "<ipython-input-35-4472ed23bcd1>:2: UserWarning: nn.init.uniform is now deprecated in favor of nn.init.uniform_.\n",
            "  torch.nn.init.uniform(model.weight.data, -0.1, 0.1)\n"
          ]
        },
        {
          "output_type": "execute_result",
          "data": {
            "text/plain": [
              "Parameter containing:\n",
              "tensor([[ 0.0363, -0.0433]], requires_grad=True)"
            ]
          },
          "metadata": {},
          "execution_count": 35
        }
      ],
      "source": [
        "model.weight.data = torch.zeros(1,2)\n",
        "torch.nn.init.uniform(model.weight.data, -0.1, 0.1)\n",
        "model.weight"
      ]
    },
    {
      "cell_type": "markdown",
      "metadata": {
        "id": "mq22EwyFHigc"
      },
      "source": [
        "### Testando o predict da rede"
      ]
    },
    {
      "cell_type": "code",
      "execution_count": 23,
      "metadata": {
        "ExecuteTime": {
          "end_time": "2017-11-23T23:50:37.497945Z",
          "start_time": "2017-11-23T23:50:37.422209Z"
        },
        "id": "dyCO8PL_Hige",
        "colab": {
          "base_uri": "https://localhost:8080/"
        },
        "outputId": "98f90f9a-7d56-4314-e2c9-2d6962196ab1"
      },
      "outputs": [
        {
          "output_type": "execute_result",
          "data": {
            "text/plain": [
              "tensor([[1., 1.],\n",
              "        [1., 1.],\n",
              "        [1., 1.],\n",
              "        [1., 1.],\n",
              "        [1., 1.]])"
            ]
          },
          "metadata": {},
          "execution_count": 23
        }
      ],
      "source": [
        "xx = torch.ones((5,2))\n",
        "xx"
      ]
    },
    {
      "cell_type": "code",
      "execution_count": 24,
      "metadata": {
        "id": "kpxZmYMsJF7F",
        "colab": {
          "base_uri": "https://localhost:8080/"
        },
        "outputId": "72d22df5-8708-4bf3-e481-434e0e7ad0d1"
      },
      "outputs": [
        {
          "output_type": "execute_result",
          "data": {
            "text/plain": [
              "tensor([[0.0676],\n",
              "        [0.0676],\n",
              "        [0.0676],\n",
              "        [0.0676],\n",
              "        [0.0676]], grad_fn=<MmBackward0>)"
            ]
          },
          "metadata": {},
          "execution_count": 24
        }
      ],
      "source": [
        "model(Variable(xx))"
      ]
    },
    {
      "cell_type": "markdown",
      "metadata": {
        "id": "llozQQShHigg"
      },
      "source": [
        "## Treinamento"
      ]
    },
    {
      "cell_type": "code",
      "execution_count": 36,
      "metadata": {
        "ExecuteTime": {
          "end_time": "2017-11-23T23:50:37.534983Z",
          "start_time": "2017-11-23T23:50:37.501215Z"
        },
        "id": "GEY2W_eaHigh",
        "scrolled": false,
        "colab": {
          "base_uri": "https://localhost:8080/"
        },
        "outputId": "df0c624a-a160-45b4-f8e4-c34611c38a20"
      },
      "outputs": [
        {
          "output_type": "stream",
          "name": "stdout",
          "text": [
            "loss: 0.39492524\n",
            "loss: 0.05733952\n",
            "loss: 0.03422953\n",
            "loss: 0.031736318\n",
            "loss: 0.030678945\n",
            "loss: 0.029797642\n",
            "loss: 0.029002639\n",
            "loss: 0.028281195\n",
            "loss: 0.027626209\n",
            "loss: 0.027031552\n",
            "loss: 0.02649166\n",
            "loss: 0.026001489\n",
            "loss: 0.025556467\n",
            "loss: 0.025152426\n",
            "loss: 0.0247856\n",
            "loss: 0.024452556\n",
            "loss: 0.024150185\n",
            "loss: 0.023875665\n",
            "loss: 0.023626423\n",
            "loss: 0.023400139\n",
            "Epoch[20/100], loss: 0.023400\n",
            "loss: 0.023194693\n",
            "loss: 0.02300817\n",
            "loss: 0.022838822\n",
            "loss: 0.022685075\n",
            "loss: 0.022545485\n",
            "loss: 0.022418752\n",
            "loss: 0.022303691\n",
            "loss: 0.022199228\n",
            "loss: 0.022104388\n",
            "loss: 0.022018278\n",
            "loss: 0.021940097\n",
            "loss: 0.021869123\n",
            "loss: 0.021804681\n",
            "loss: 0.02174617\n",
            "loss: 0.021693058\n",
            "loss: 0.021644829\n",
            "loss: 0.021601046\n",
            "loss: 0.021561293\n",
            "loss: 0.021525204\n",
            "loss: 0.021492437\n",
            "Epoch[40/100], loss: 0.021492\n",
            "loss: 0.021462686\n",
            "loss: 0.021435678\n",
            "loss: 0.021411156\n",
            "loss: 0.021388896\n",
            "loss: 0.02136868\n",
            "loss: 0.02135033\n",
            "loss: 0.02133367\n",
            "loss: 0.021318544\n",
            "loss: 0.021304805\n",
            "loss: 0.021292338\n",
            "loss: 0.02128102\n",
            "loss: 0.02127074\n",
            "loss: 0.02126141\n",
            "loss: 0.021252938\n",
            "loss: 0.021245247\n",
            "loss: 0.021238266\n",
            "loss: 0.021231925\n",
            "loss: 0.021226168\n",
            "loss: 0.021220941\n",
            "loss: 0.021216197\n",
            "Epoch[60/100], loss: 0.021216\n",
            "loss: 0.021211889\n",
            "loss: 0.021207977\n",
            "loss: 0.021204427\n",
            "loss: 0.021201205\n",
            "loss: 0.021198278\n",
            "loss: 0.021195618\n",
            "loss: 0.021193206\n",
            "loss: 0.021191016\n",
            "loss: 0.021189027\n",
            "loss: 0.02118722\n",
            "loss: 0.021185583\n",
            "loss: 0.021184094\n",
            "loss: 0.021182744\n",
            "loss: 0.021181516\n",
            "loss: 0.0211804\n",
            "loss: 0.021179393\n",
            "loss: 0.021178473\n",
            "loss: 0.02117764\n",
            "loss: 0.021176884\n",
            "loss: 0.021176195\n",
            "Epoch[80/100], loss: 0.021176\n",
            "loss: 0.021175573\n",
            "loss: 0.021175005\n",
            "loss: 0.02117449\n",
            "loss: 0.021174025\n",
            "loss: 0.021173598\n",
            "loss: 0.021173216\n",
            "loss: 0.021172866\n",
            "loss: 0.02117255\n",
            "loss: 0.02117226\n",
            "loss: 0.021172002\n",
            "loss: 0.02117176\n",
            "loss: 0.021171547\n",
            "loss: 0.02117135\n",
            "loss: 0.021171175\n",
            "loss: 0.021171015\n",
            "loss: 0.02117087\n",
            "loss: 0.021170733\n",
            "loss: 0.021170614\n",
            "loss: 0.021170504\n",
            "loss: 0.021170406\n",
            "Epoch[100/100], loss: 0.021170\n"
          ]
        }
      ],
      "source": [
        "num_epochs = 100\n",
        "learning_rate = 0.5\n",
        "w0_list = []\n",
        "w1_list = []\n",
        "for epoch in range(num_epochs):\n",
        "    inputs = Variable(x_train_bias)\n",
        "    target = Variable(y_train)\n",
        "\n",
        "    # forward - predict\n",
        "    out = model(inputs)\n",
        "\n",
        "    #loss cálculo da função de perda\n",
        "    loss = torch.pow(out - target, 2).mean()\n",
        "    print('loss:',loss.data.numpy())\n",
        "    \n",
        "    # backward propagation - cálculo gradiente\n",
        "    loss.backward()\n",
        "    \n",
        "    # gradiente descendente\n",
        "    model.weight.data = model.weight.data - learning_rate * model.weight.grad.data\n",
        "\n",
        "    w0_list.append(model.weight.data[0][0])\n",
        "    w1_list.append(model.weight.data[0][1])\n",
        "    \n",
        "    # zeragem parâmetros próximo cálculo do gradiente\n",
        "    model.weight.grad.data.zero_()\n",
        "\n",
        "    # verbose\n",
        "    if (epoch+1) % 20 == 0:\n",
        "        print('Epoch[{}/{}], loss: {:.6f}'\n",
        "              .format(epoch+1, num_epochs, loss.data))"
      ]
    },
    {
      "cell_type": "markdown",
      "metadata": {
        "heading_collapsed": true,
        "id": "OyUB8WAmHigk"
      },
      "source": [
        "## Avaliação"
      ]
    },
    {
      "cell_type": "code",
      "execution_count": 26,
      "metadata": {
        "ExecuteTime": {
          "end_time": "2017-11-23T23:50:37.785652Z",
          "start_time": "2017-11-23T23:50:37.538639Z"
        },
        "hidden": true,
        "id": "9ire-2nCHigl",
        "colab": {
          "base_uri": "https://localhost:8080/",
          "height": 430
        },
        "outputId": "c635acc7-5564-425b-d61c-e4297dc75a7e"
      },
      "outputs": [
        {
          "output_type": "display_data",
          "data": {
            "text/plain": [
              "<Figure size 640x480 with 1 Axes>"
            ],
            "image/png": "[encoded data removed]"
          },
          "metadata": {}
        }
      ],
      "source": [
        "y_pred = model(Variable(x_train_bias))\n",
        "plt.plot(x_train, y_train.numpy(), 'ro', label='Original data')\n",
        "plt.plot(x_train, y_pred.data.numpy(), 'kx-', label='Fitting Line')\n",
        "plt.show()"
      ]
    },
    {
      "cell_type": "markdown",
      "metadata": {
        "hidden": true,
        "id": "-jQncN7PHigp"
      },
      "source": [
        "### Acessando os parâmetros"
      ]
    },
    {
      "cell_type": "code",
      "execution_count": 27,
      "metadata": {
        "ExecuteTime": {
          "end_time": "2017-11-23T23:50:37.797767Z",
          "start_time": "2017-11-23T23:50:37.787839Z"
        },
        "hidden": true,
        "id": "byxPWYlFHigq",
        "colab": {
          "base_uri": "https://localhost:8080/"
        },
        "outputId": "8c3907bd-a603-4d75-9a86-abac431f1d22"
      },
      "outputs": [
        {
          "output_type": "execute_result",
          "data": {
            "text/plain": [
              "OrderedDict([('weight', tensor([[0.2630, 0.6833]]))])"
            ]
          },
          "metadata": {},
          "execution_count": 27
        }
      ],
      "source": [
        "w_dic = model.state_dict()\n",
        "w_dic"
      ]
    },
    {
      "cell_type": "markdown",
      "metadata": {
        "hidden": true,
        "id": "mGK_1QtNHigw"
      },
      "source": [
        "### Parâmetros ótimos, solução analítica"
      ]
    },
    {
      "cell_type": "code",
      "execution_count": 28,
      "metadata": {
        "ExecuteTime": {
          "end_time": "2017-11-23T23:50:37.809980Z",
          "start_time": "2017-11-23T23:50:37.800833Z"
        },
        "hidden": true,
        "id": "5jrFm0pXHigx",
        "colab": {
          "base_uri": "https://localhost:8080/"
        },
        "outputId": "718ca5d9-0995-4960-8f75-7b3dc2f73d70"
      },
      "outputs": [
        {
          "output_type": "stream",
          "name": "stdout",
          "text": [
            "tensor([[0.2613, 0.6865]])\n"
          ]
        }
      ],
      "source": [
        "x_bias = x_train_bias\n",
        "y = y_train\n",
        "x_bias_t = torch.t(x_bias)\n",
        "w_opt = (torch.inverse(x_bias_t.mm(x_bias)).mm(x_bias_t)).mm(y)\n",
        "print(torch.t(w_opt))"
      ]
    },
    {
      "cell_type": "markdown",
      "metadata": {
        "collapsed": true,
        "heading_collapsed": true,
        "id": "AmTLHbBcHig3"
      },
      "source": [
        "# Exercícios"
      ]
    },
    {
      "cell_type": "markdown",
      "metadata": {
        "hidden": true,
        "id": "0826M7y0Hig5"
      },
      "source": [
        "- 1) Por que no final da varredura do laço de treinamento, a perda é impressa utilizando\n",
        "   `loss.data`? Por que precisa do `data`?\n",
        "   "
      ]
    },
    {
      "cell_type": "markdown",
      "metadata": {
        "hidden": true,
        "id": "cUhiv-56Hig5"
      },
      "source": [
        "- 2) Calcule e imprima o valor da perda (MSE) fazendo o predict da rede com os pesos já\n",
        "   treinados."
      ]
    },
    {
      "cell_type": "code",
      "source": [
        "predict = model(Variable(x_train_bias))\n",
        "perda = torch.pow(predict - target, 2).mean()\n",
        "perda"
      ],
      "metadata": {
        "colab": {
          "base_uri": "https://localhost:8080/"
        },
        "id": "PaToshWBWkCj",
        "outputId": "aa4f2891-67a0-405f-84b5-8867a6e6ff14"
      },
      "execution_count": 29,
      "outputs": [
        {
          "output_type": "execute_result",
          "data": {
            "text/plain": [
              "tensor(0.0212, grad_fn=<MeanBackward0>)"
            ]
          },
          "metadata": {},
          "execution_count": 29
        }
      ]
    },
    {
      "cell_type": "markdown",
      "metadata": {
        "hidden": true,
        "id": "pwrS4OGkHig7"
      },
      "source": [
        "- 3) Crie duas listas `w0_list` e `w1_list` para guardar a evolução dos valores dos\n",
        "   parâmetros durante o laço de treinamento.\n",
        "   Modifique o exemplo do gráfico tipo **scatter plot** para visualizar a variação \n",
        "   dos parâmetros do modelo duas dimensões. \n",
        "   Marque neste gráfico o valor ótimo do parâmetro dado pela solução\n",
        "   analítica."
      ]
    },
    {
      "cell_type": "code",
      "source": [
        "print(w0_list, w1_list)"
      ],
      "metadata": {
        "colab": {
          "base_uri": "https://localhost:8080/"
        },
        "id": "YdLtthyXXP8P",
        "outputId": "107dbd02-a7f0-496d-833a-1093c2049c47"
      },
      "execution_count": 37,
      "outputs": [
        {
          "output_type": "stream",
          "name": "stdout",
          "text": [
            "[tensor(0.6213), tensor(0.4577), tensor(0.4859), tensor(0.4657), tensor(0.4585), tensor(0.4486), tensor(0.4399), tensor(0.4315), tensor(0.4234), tensor(0.4158), tensor(0.4085), tensor(0.4016), tensor(0.3950), tensor(0.3887), tensor(0.3827), tensor(0.3769), tensor(0.3715), tensor(0.3663), tensor(0.3613), tensor(0.3566), tensor(0.3521), tensor(0.3478), tensor(0.3438), tensor(0.3399), tensor(0.3362), tensor(0.3326), tensor(0.3293), tensor(0.3261), tensor(0.3230), tensor(0.3201), tensor(0.3173), tensor(0.3147), tensor(0.3122), tensor(0.3098), tensor(0.3075), tensor(0.3053), tensor(0.3033), tensor(0.3013), tensor(0.2994), tensor(0.2976), tensor(0.2959), tensor(0.2943), tensor(0.2927), tensor(0.2912), tensor(0.2898), tensor(0.2885), tensor(0.2872), tensor(0.2860), tensor(0.2848), tensor(0.2837), tensor(0.2827), tensor(0.2816), tensor(0.2807), tensor(0.2798), tensor(0.2789), tensor(0.2781), tensor(0.2773), tensor(0.2765), tensor(0.2758), tensor(0.2751), tensor(0.2745), tensor(0.2739), tensor(0.2733), tensor(0.2727), tensor(0.2722), tensor(0.2717), tensor(0.2712), tensor(0.2707), tensor(0.2703), tensor(0.2699), tensor(0.2695), tensor(0.2691), tensor(0.2687), tensor(0.2684), tensor(0.2680), tensor(0.2677), tensor(0.2674), tensor(0.2671), tensor(0.2669), tensor(0.2666), tensor(0.2663), tensor(0.2661), tensor(0.2659), tensor(0.2657), tensor(0.2655), tensor(0.2653), tensor(0.2651), tensor(0.2649), tensor(0.2647), tensor(0.2646), tensor(0.2644), tensor(0.2643), tensor(0.2641), tensor(0.2640), tensor(0.2639), tensor(0.2638), tensor(0.2637), tensor(0.2635), tensor(0.2634), tensor(0.2633)] [tensor(0.2885), tensor(0.2313), tensor(0.2722), tensor(0.2868), tensor(0.3069), tensor(0.3245), tensor(0.3416), tensor(0.3579), tensor(0.3734), tensor(0.3881), tensor(0.4022), tensor(0.4156), tensor(0.4284), tensor(0.4406), tensor(0.4522), tensor(0.4632), tensor(0.4737), tensor(0.4838), tensor(0.4933), tensor(0.5024), tensor(0.5111), tensor(0.5194), tensor(0.5273), tensor(0.5348), tensor(0.5419), tensor(0.5488), tensor(0.5552), tensor(0.5614), tensor(0.5673), tensor(0.5729), tensor(0.5783), tensor(0.5834), tensor(0.5883), tensor(0.5929), tensor(0.5973), tensor(0.6015), tensor(0.6055), tensor(0.6093), tensor(0.6130), tensor(0.6164), tensor(0.6197), tensor(0.6229), tensor(0.6259), tensor(0.6287), tensor(0.6315), tensor(0.6341), tensor(0.6365), tensor(0.6389), tensor(0.6411), tensor(0.6433), tensor(0.6453), tensor(0.6473), tensor(0.6491), tensor(0.6509), tensor(0.6525), tensor(0.6541), tensor(0.6557), tensor(0.6571), tensor(0.6585), tensor(0.6598), tensor(0.6611), tensor(0.6623), tensor(0.6634), tensor(0.6645), tensor(0.6655), tensor(0.6665), tensor(0.6675), tensor(0.6684), tensor(0.6692), tensor(0.6700), tensor(0.6708), tensor(0.6715), tensor(0.6722), tensor(0.6729), tensor(0.6736), tensor(0.6742), tensor(0.6747), tensor(0.6753), tensor(0.6758), tensor(0.6763), tensor(0.6768), tensor(0.6773), tensor(0.6777), tensor(0.6781), tensor(0.6785), tensor(0.6789), tensor(0.6792), tensor(0.6796), tensor(0.6799), tensor(0.6802), tensor(0.6805), tensor(0.6808), tensor(0.6811), tensor(0.6813), tensor(0.6816), tensor(0.6818), tensor(0.6820), tensor(0.6822), tensor(0.6824), tensor(0.6826)]\n"
          ]
        }
      ]
    },
    {
      "cell_type": "markdown",
      "metadata": {
        "hidden": true,
        "id": "9zKM4-2UHig7"
      },
      "source": [
        "## Ploting vectors"
      ]
    },
    {
      "cell_type": "code",
      "execution_count": 38,
      "metadata": {
        "ExecuteTime": {
          "end_time": "2017-11-23T23:57:26.723894Z",
          "start_time": "2017-11-23T23:57:26.517830Z"
        },
        "hidden": true,
        "id": "hXA1HhnsHig8",
        "colab": {
          "base_uri": "https://localhost:8080/",
          "height": 431
        },
        "outputId": "12ad550d-0f9f-4034-e379-d3e9b5eca291"
      },
      "outputs": [
        {
          "output_type": "display_data",
          "data": {
            "text/plain": [
              "<Figure size 640x480 with 1 Axes>"
            ],
            "image/png": "[encoded data removed]"
          },
          "metadata": {}
        }
      ],
      "source": [
        "# Exemplo\n",
        "# w0_list = [0.1, 0.15, 0.2, 0.3]\n",
        "# w1_list = [0.1, 0.2, 0.18, 0.3]\n",
        "plt.scatter(w0_list,w1_list)\n",
        "w0_old = None\n",
        "for (w0,w1) in zip(w0_list,w1_list):\n",
        "    if w0_old:\n",
        "        plt.arrow(w0_old, w1_old, w0-w0_old, w1-w1_old,\n",
        "                  head_length=0.01,head_width=0.01,shape='full',\n",
        "                  length_includes_head=True)\n",
        "    w0_old,w1_old = w0,w1\n"
      ]
    },
    {
      "cell_type": "markdown",
      "metadata": {
        "heading_collapsed": true,
        "id": "ssef368KHihA"
      },
      "source": [
        "# Aprendizados"
      ]
    },
    {
      "cell_type": "code",
      "execution_count": null,
      "metadata": {
        "hidden": true,
        "id": "CrrRGo2CHihA"
      },
      "outputs": [],
      "source": []
    }
  ],
  "metadata": {
    "accelerator": "TPU",
    "colab": {
      "provenance": []
    },
    "kernelspec": {
      "display_name": "Python 3.10.2 64-bit",
      "language": "python",
      "name": "python3"
    },
    "language_info": {
      "name": "python",
      "version": "3.10.2"
    },
    "vscode": {
      "interpreter": {
        "hash": "5fe3e6f0cdaab8afdc61c52912fda83f7c0a71baaea1897dd7498e2df01e69ec"
      }
    }
  },
  "nbformat": 4,
  "nbformat_minor": 0
}