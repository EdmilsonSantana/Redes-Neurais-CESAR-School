{
  "cells": [
    {
      "cell_type": "markdown",
      "metadata": {
        "id": "gbTOc6cbl-eq"
      },
      "source": [
        "# Regressão Softmax com dados do MNIST utilizando gradiente descendente estocástico por minibatches"
      ]
    },
    {
      "cell_type": "markdown",
      "metadata": {
        "id": "C-IK0yRml-er"
      },
      "source": [
        "O objetivo deste notebook é ilustrar \n",
        "- o uso do gradiente estocástico por mini-batchs\n",
        "- utilizando as classes Dataset e DataLoater.\n",
        "\n",
        "A apresentação da perda nos gráficos é um pouco diferente da usual, mostrando a perda de cada um dos vários minibatches dentro de cada época, de forma que as épocas são apresentadas com valores fracionários."
      ]
    },
    {
      "cell_type": "markdown",
      "metadata": {
        "id": "mqqDXfr4l-et"
      },
      "source": [
        "## Importação das bibliotecas"
      ]
    },
    {
      "cell_type": "code",
      "execution_count": 1,
      "metadata": {
        "ExecuteTime": {
          "end_time": "2017-11-24T22:39:50.314578Z",
          "start_time": "2017-11-24T22:39:48.904460Z"
        },
        "id": "0Iry5pajl-eu"
      },
      "outputs": [],
      "source": [
        "%matplotlib inline\n",
        "import numpy as np\n",
        "import matplotlib.pyplot as plt\n",
        "\n",
        "import torch\n",
        "from torch.autograd import Variable\n",
        "from torch.utils.data import DataLoader\n",
        "\n",
        "import torchvision\n",
        "from torchvision.datasets import MNIST"
      ]
    },
    {
      "cell_type": "markdown",
      "metadata": {
        "id": "QqgILyIkl-ey"
      },
      "source": [
        "## Dataset e dataloader"
      ]
    },
    {
      "cell_type": "markdown",
      "metadata": {
        "id": "VAMBUN5ol-ez"
      },
      "source": [
        "### Definição do tamanho do minibatch"
      ]
    },
    {
      "cell_type": "code",
      "execution_count": 15,
      "metadata": {
        "ExecuteTime": {
          "end_time": "2017-11-24T22:39:50.323379Z",
          "start_time": "2017-11-24T22:39:50.318024Z"
        },
        "id": "1YGmeZtbl-ez"
      },
      "outputs": [],
      "source": [
        "batch_size = 6000"
      ]
    },
    {
      "cell_type": "markdown",
      "metadata": {
        "id": "3uaaezsvl-e5"
      },
      "source": [
        "### Carregamento, criação dataset e do dataloader"
      ]
    },
    {
      "cell_type": "code",
      "execution_count": 3,
      "metadata": {
        "id": "7cuFYxtrmT45",
        "colab": {
          "base_uri": "https://localhost:8080/"
        },
        "outputId": "0c10417d-0ec3-48df-9422-d7ac27067bc6"
      },
      "outputs": [
        {
          "output_type": "stream",
          "name": "stdout",
          "text": [
            "Cloning into 'MNIST'...\n",
            "remote: Enumerating objects: 10, done.\u001b[K\n",
            "remote: Total 10 (delta 0), reused 0 (delta 0), pack-reused 10\u001b[K\n",
            "Unpacking objects: 100% (10/10), 11.01 MiB | 995.00 KiB/s, done.\n"
          ]
        }
      ],
      "source": [
        "! git clone https://github.com/vcasadei/MNIST.git"
      ]
    },
    {
      "cell_type": "code",
      "execution_count": 16,
      "metadata": {
        "ExecuteTime": {
          "end_time": "2017-11-24T22:39:50.400325Z",
          "start_time": "2017-11-24T22:39:50.326019Z"
        },
        "id": "TRXgajEXl-e6",
        "colab": {
          "base_uri": "https://localhost:8080/"
        },
        "outputId": "a8748a8c-3d3f-4c14-df5f-7171e6ff7918"
      },
      "outputs": [
        {
          "output_type": "stream",
          "name": "stdout",
          "text": [
            "Número de minibatches de trenamento: 10\n",
            "\n",
            "Dimensões dos dados de um minibatch: torch.Size([6000, 1, 28, 28])\n",
            "Valores mínimo e máximo dos pixels:  tensor(0.) tensor(1.)\n",
            "Tipo dos dados das imagens:          <class 'torch.Tensor'>\n",
            "Tipo das classes das imagens:        <class 'torch.Tensor'>\n"
          ]
        }
      ],
      "source": [
        "dataset_dir = 'MNIST/'\n",
        "\n",
        "dataset_train = MNIST(dataset_dir, train=True, download=True,\n",
        "                      transform=torchvision.transforms.ToTensor())\n",
        "\n",
        "loader_train = DataLoader(dataset_train, batch_size=batch_size, shuffle=True)\n",
        "\n",
        "print('Número de minibatches de trenamento:', len(loader_train))\n",
        "\n",
        "x_train, y_train = next(iter(loader_train))\n",
        "print(\"\\nDimensões dos dados de um minibatch:\", x_train.size())\n",
        "print(\"Valores mínimo e máximo dos pixels: \", torch.min(x_train), torch.max(x_train))\n",
        "print(\"Tipo dos dados das imagens:         \", type(x_train))\n",
        "print(\"Tipo das classes das imagens:       \", type(y_train))"
      ]
    },
    {
      "cell_type": "markdown",
      "metadata": {
        "id": "Jalws0jHl-fB"
      },
      "source": [
        "### Usando apenas 1000 amostras do MNIST\n",
        "\n",
        "Neste exemplo utilizaremos 1000 amostras de treinamento."
      ]
    },
    {
      "cell_type": "code",
      "execution_count": 17,
      "metadata": {
        "ExecuteTime": {
          "end_time": "2017-11-24T22:39:50.414117Z",
          "start_time": "2017-11-24T22:39:50.402687Z"
        },
        "id": "TnFMMGDKl-fC",
        "colab": {
          "base_uri": "https://localhost:8080/"
        },
        "outputId": "1291b528-76aa-4497-d161-fa946dea64ee"
      },
      "outputs": [
        {
          "output_type": "stream",
          "name": "stdout",
          "text": [
            "Número de minibatches de trenamento: 10\n"
          ]
        },
        {
          "output_type": "stream",
          "name": "stderr",
          "text": [
            "/usr/local/lib/python3.9/dist-packages/torchvision/datasets/mnist.py:75: UserWarning: train_data has been renamed data\n",
            "  warnings.warn(\"train_data has been renamed data\")\n"
          ]
        }
      ],
      "source": [
        "if False:\n",
        "    n_samples_train = 1000\n",
        "\n",
        "    dataset_train.train_data = dataset_train.train_data[:n_samples_train]\n",
        "    dataset_train.train_labels = dataset_train.train_labels[:n_samples_train]\n",
        "\n",
        "print('Número de minibatches de trenamento:', len(loader_train))\n",
        "n_batches_train = len(loader_train)\n",
        "total_samples = dataset_train.train_data.size(0)"
      ]
    },
    {
      "cell_type": "markdown",
      "metadata": {
        "id": "dz6ke_hfl-fF"
      },
      "source": [
        "## Modelo"
      ]
    },
    {
      "cell_type": "code",
      "execution_count": 18,
      "metadata": {
        "ExecuteTime": {
          "end_time": "2017-11-24T22:39:50.422994Z",
          "start_time": "2017-11-24T22:39:50.416568Z"
        },
        "id": "8iCWX43fl-fG"
      },
      "outputs": [],
      "source": [
        "model = torch.nn.Linear(28*28, 10)\n"
      ]
    },
    {
      "cell_type": "code",
      "execution_count": 19,
      "metadata": {
        "id": "GrIFjo18dZ_L",
        "colab": {
          "base_uri": "https://localhost:8080/"
        },
        "outputId": "8319bd5d-eed7-4f4e-e30e-c2a535b953aa"
      },
      "outputs": [
        {
          "output_type": "stream",
          "name": "stdout",
          "text": [
            "torch.Size([1, 784])\n"
          ]
        },
        {
          "output_type": "execute_result",
          "data": {
            "text/plain": [
              "tensor([[-0.3964, -1.6375,  0.0541, -0.1905, -1.0866, -0.4580,  0.4707, -0.5407,\n",
              "          0.4041, -0.2338]], grad_fn=<AddmmBackward0>)"
            ]
          },
          "metadata": {},
          "execution_count": 19
        }
      ],
      "source": [
        "x = torch.ones(28*28).reshape(1, 784)\n",
        "print(x.shape)\n",
        "predict = model(x)\n",
        "predict"
      ]
    },
    {
      "cell_type": "markdown",
      "metadata": {
        "id": "kVDFEZBql-fJ"
      },
      "source": [
        "## Treinamento"
      ]
    },
    {
      "cell_type": "markdown",
      "metadata": {
        "id": "OUAeuSK6l-fJ"
      },
      "source": [
        "### Inicialização dos parâmetros"
      ]
    },
    {
      "cell_type": "code",
      "execution_count": 20,
      "metadata": {
        "ExecuteTime": {
          "end_time": "2017-11-24T22:39:50.433321Z",
          "start_time": "2017-11-24T22:39:50.426167Z"
        },
        "id": "XT5_fSiQl-fK"
      },
      "outputs": [],
      "source": [
        "n_epochs = 10\n",
        "learningRate = 0.5\n",
        "\n",
        "# Utilizaremos CrossEntropyLoss como função de perda\n",
        "criterion = torch.nn.CrossEntropyLoss()\n",
        "\n",
        "# Gradiente descendente\n",
        "optimizer = torch.optim.SGD(model.parameters(), lr=learningRate)"
      ]
    },
    {
      "cell_type": "markdown",
      "metadata": {
        "id": "-OM9OWI6l-fN"
      },
      "source": [
        "### Laço de treinamento dos parâmetros"
      ]
    },
    {
      "cell_type": "code",
      "execution_count": 21,
      "metadata": {
        "ExecuteTime": {
          "end_time": "2017-11-24T22:39:50.984972Z",
          "start_time": "2017-11-24T22:39:50.435673Z"
        },
        "id": "JvNVUUFTl-fQ",
        "colab": {
          "base_uri": "https://localhost:8080/"
        },
        "outputId": "20cb326f-cd28-4821-ee27-7c8f0db240e2"
      },
      "outputs": [
        {
          "output_type": "stream",
          "name": "stdout",
          "text": [
            "Época: 0/9 minibatch: 0/10\n",
            "Época: 0/9 minibatch: 1/10\n",
            "Época: 0/9 minibatch: 2/10\n",
            "Época: 0/9 minibatch: 3/10\n",
            "Época: 0/9 minibatch: 4/10\n",
            "Época: 0/9 minibatch: 5/10\n",
            "Época: 0/9 minibatch: 6/10\n",
            "Época: 0/9 minibatch: 7/10\n",
            "Época: 0/9 minibatch: 8/10\n",
            "Época: 0/9 minibatch: 9/10\n",
            "Época: 1/9 minibatch: 0/10\n",
            "Época: 1/9 minibatch: 1/10\n",
            "Época: 1/9 minibatch: 2/10\n",
            "Época: 1/9 minibatch: 3/10\n",
            "Época: 1/9 minibatch: 4/10\n",
            "Época: 1/9 minibatch: 5/10\n",
            "Época: 1/9 minibatch: 6/10\n",
            "Época: 1/9 minibatch: 7/10\n",
            "Época: 1/9 minibatch: 8/10\n",
            "Época: 1/9 minibatch: 9/10\n",
            "Época: 2/9 minibatch: 0/10\n",
            "Época: 2/9 minibatch: 1/10\n",
            "Época: 2/9 minibatch: 2/10\n",
            "Época: 2/9 minibatch: 3/10\n",
            "Época: 2/9 minibatch: 4/10\n",
            "Época: 2/9 minibatch: 5/10\n",
            "Época: 2/9 minibatch: 6/10\n",
            "Época: 2/9 minibatch: 7/10\n",
            "Época: 2/9 minibatch: 8/10\n",
            "Época: 2/9 minibatch: 9/10\n",
            "Época: 3/9 minibatch: 0/10\n",
            "Época: 3/9 minibatch: 1/10\n",
            "Época: 3/9 minibatch: 2/10\n",
            "Época: 3/9 minibatch: 3/10\n",
            "Época: 3/9 minibatch: 4/10\n",
            "Época: 3/9 minibatch: 5/10\n",
            "Época: 3/9 minibatch: 6/10\n",
            "Época: 3/9 minibatch: 7/10\n",
            "Época: 3/9 minibatch: 8/10\n",
            "Época: 3/9 minibatch: 9/10\n",
            "Época: 4/9 minibatch: 0/10\n",
            "Época: 4/9 minibatch: 1/10\n",
            "Época: 4/9 minibatch: 2/10\n",
            "Época: 4/9 minibatch: 3/10\n",
            "Época: 4/9 minibatch: 4/10\n",
            "Época: 4/9 minibatch: 5/10\n",
            "Época: 4/9 minibatch: 6/10\n",
            "Época: 4/9 minibatch: 7/10\n",
            "Época: 4/9 minibatch: 8/10\n",
            "Época: 4/9 minibatch: 9/10\n",
            "Época: 5/9 minibatch: 0/10\n",
            "Época: 5/9 minibatch: 1/10\n",
            "Época: 5/9 minibatch: 2/10\n",
            "Época: 5/9 minibatch: 3/10\n",
            "Época: 5/9 minibatch: 4/10\n",
            "Época: 5/9 minibatch: 5/10\n",
            "Época: 5/9 minibatch: 6/10\n",
            "Época: 5/9 minibatch: 7/10\n",
            "Época: 5/9 minibatch: 8/10\n",
            "Época: 5/9 minibatch: 9/10\n",
            "Época: 6/9 minibatch: 0/10\n",
            "Época: 6/9 minibatch: 1/10\n",
            "Época: 6/9 minibatch: 2/10\n",
            "Época: 6/9 minibatch: 3/10\n",
            "Época: 6/9 minibatch: 4/10\n",
            "Época: 6/9 minibatch: 5/10\n",
            "Época: 6/9 minibatch: 6/10\n",
            "Época: 6/9 minibatch: 7/10\n",
            "Época: 6/9 minibatch: 8/10\n",
            "Época: 6/9 minibatch: 9/10\n",
            "Época: 7/9 minibatch: 0/10\n",
            "Época: 7/9 minibatch: 1/10\n",
            "Época: 7/9 minibatch: 2/10\n",
            "Época: 7/9 minibatch: 3/10\n",
            "Época: 7/9 minibatch: 4/10\n",
            "Época: 7/9 minibatch: 5/10\n",
            "Época: 7/9 minibatch: 6/10\n",
            "Época: 7/9 minibatch: 7/10\n",
            "Época: 7/9 minibatch: 8/10\n",
            "Época: 7/9 minibatch: 9/10\n",
            "Época: 8/9 minibatch: 0/10\n",
            "Época: 8/9 minibatch: 1/10\n",
            "Época: 8/9 minibatch: 2/10\n",
            "Época: 8/9 minibatch: 3/10\n",
            "Época: 8/9 minibatch: 4/10\n",
            "Época: 8/9 minibatch: 5/10\n",
            "Época: 8/9 minibatch: 6/10\n",
            "Época: 8/9 minibatch: 7/10\n",
            "Época: 8/9 minibatch: 8/10\n",
            "Época: 8/9 minibatch: 9/10\n",
            "Época: 9/9 minibatch: 0/10\n",
            "Época: 9/9 minibatch: 1/10\n",
            "Época: 9/9 minibatch: 2/10\n",
            "Época: 9/9 minibatch: 3/10\n",
            "Época: 9/9 minibatch: 4/10\n",
            "Época: 9/9 minibatch: 5/10\n",
            "Época: 9/9 minibatch: 6/10\n",
            "Época: 9/9 minibatch: 7/10\n",
            "Época: 9/9 minibatch: 8/10\n",
            "Época: 9/9 minibatch: 9/10\n"
          ]
        }
      ],
      "source": [
        "epochs = []\n",
        "losses = []\n",
        "\n",
        "total_trained_samples = 0\n",
        "for i in range(n_epochs):\n",
        "    for k,(x_train, y_train) in enumerate(loader_train):\n",
        "        # Transforma a entrada para uma dimensão\n",
        "        inputs = Variable(x_train.view(-1, 28 * 28))\n",
        "        # predict da rede\n",
        "        outputs = model(inputs)\n",
        "\n",
        "        # calcula a perda\n",
        "        loss = criterion(outputs, Variable(y_train))\n",
        "\n",
        "        # zero, backpropagation, ajusta parâmetros pelo gradiente descendente\n",
        "        optimizer.zero_grad()\n",
        "        loss.backward()\n",
        "        optimizer.step()\n",
        "\n",
        "        total_trained_samples += x_train.size(0)\n",
        "        epochs.append(total_trained_samples / total_samples)\n",
        "        losses.append(loss.data)\n",
        "        \n",
        "        print(f'Época: {i}/{n_epochs-1} minibatch: {k}/{len(loader_train)}')\n"
      ]
    },
    {
      "cell_type": "code",
      "execution_count": 22,
      "metadata": {
        "ExecuteTime": {
          "end_time": "2017-11-24T22:39:50.992302Z",
          "start_time": "2017-11-24T22:39:50.987284Z"
        },
        "id": "aYO4bgVwl-fT",
        "colab": {
          "base_uri": "https://localhost:8080/"
        },
        "outputId": "87c9dc7f-d978-4fea-a665-beeadfe39a18"
      },
      "outputs": [
        {
          "output_type": "stream",
          "name": "stdout",
          "text": [
            "Final loss: tensor(0.3833)\n"
          ]
        }
      ],
      "source": [
        "print('Final loss:', loss.data)"
      ]
    },
    {
      "cell_type": "markdown",
      "metadata": {
        "id": "XEhPdkjAl-fX"
      },
      "source": [
        "### Visualizando gráfico de perda durante o treinamento"
      ]
    },
    {
      "cell_type": "code",
      "execution_count": 23,
      "metadata": {
        "ExecuteTime": {
          "end_time": "2017-11-24T22:39:51.244869Z",
          "start_time": "2017-11-24T22:39:50.995188Z"
        },
        "id": "_fSYP_KXl-fY",
        "colab": {
          "base_uri": "https://localhost:8080/",
          "height": 467
        },
        "outputId": "1e8f11e0-3b15-4595-c0e5-70ef24050fdb"
      },
      "outputs": [
        {
          "output_type": "execute_result",
          "data": {
            "text/plain": [
              "Text(0.5, 0, 'época')"
            ]
          },
          "metadata": {},
          "execution_count": 23
        },
        {
          "output_type": "display_data",
          "data": {
            "text/plain": [
              "<Figure size 640x480 with 1 Axes>"
            ],
            "image/png": "[encoded data removed]"
          },
          "metadata": {}
        }
      ],
      "source": [
        "plt.plot(epochs, losses)\n",
        "plt.xlabel('época')"
      ]
    },
    {
      "cell_type": "markdown",
      "metadata": {
        "id": "eNyGHxAtl-fc"
      },
      "source": [
        "### Visualização usual da perda, somente no final de cada minibatch"
      ]
    },
    {
      "cell_type": "code",
      "execution_count": 12,
      "metadata": {
        "ExecuteTime": {
          "end_time": "2017-11-24T22:39:51.498640Z",
          "start_time": "2017-11-24T22:39:51.246714Z"
        },
        "id": "e2J2aZZVl-fd",
        "colab": {
          "base_uri": "https://localhost:8080/",
          "height": 467
        },
        "outputId": "6bf9d5a9-2a16-4565-c05a-b1856c3c6a34"
      },
      "outputs": [
        {
          "output_type": "execute_result",
          "data": {
            "text/plain": [
              "Text(0.5, 0, 'época')"
            ]
          },
          "metadata": {},
          "execution_count": 12
        },
        {
          "output_type": "display_data",
          "data": {
            "text/plain": [
              "<Figure size 640x480 with 1 Axes>"
            ],
            "image/png": "[encoded data removed]"
          },
          "metadata": {}
        }
      ],
      "source": [
        "plt.plot(epochs[:5 * n_batches_train +1:n_batches_train], losses[:5 * n_batches_train+1:n_batches_train])\n",
        "plt.xlabel('época')"
      ]
    },
    {
      "cell_type": "code",
      "source": [
        "plt.plot(epochs[:5 * n_batches_train +1:n_batches_train], losses[:5 * n_batches_train+1:n_batches_train])\n",
        "plt.xlabel('época')"
      ],
      "metadata": {
        "colab": {
          "base_uri": "https://localhost:8080/",
          "height": 467
        },
        "id": "-9IGslIfNJvx",
        "outputId": "6aa6bc92-7c7b-4c2b-9bcf-4e0bdfe8670e"
      },
      "execution_count": 24,
      "outputs": [
        {
          "output_type": "execute_result",
          "data": {
            "text/plain": [
              "Text(0.5, 0, 'época')"
            ]
          },
          "metadata": {},
          "execution_count": 24
        },
        {
          "output_type": "display_data",
          "data": {
            "text/plain": [
              "<Figure size 640x480 with 1 Axes>"
            ],
            "image/png": "[encoded data removed]"
          },
          "metadata": {}
        }
      ]
    },
    {
      "cell_type": "markdown",
      "metadata": {
        "id": "eHLCXNLml-fg"
      },
      "source": [
        "# Atividades"
      ]
    },
    {
      "cell_type": "markdown",
      "metadata": {
        "id": "ZCs38MOml-fh"
      },
      "source": [
        "## Perguntas"
      ]
    },
    {
      "cell_type": "markdown",
      "metadata": {
        "id": "Ffg58gb7l-fi"
      },
      "source": [
        "1. Qual é o tamanho do mini-batch?\n",
        "\n",
        "R.: 100\n",
        "\n",
        "2. Em uma época, quantos mini-batches existem?\n",
        "\n",
        "R.: 600\n",
        "\n",
        "3. Qual é a definição de época?\n",
        "\n",
        "R.: Iteração sobre os dados (todos os batchs)\n"
      ]
    },
    {
      "cell_type": "markdown",
      "metadata": {
        "id": "DourBpfrl-fl"
      },
      "source": [
        "## Exercícios\n"
      ]
    },
    {
      "cell_type": "markdown",
      "metadata": {
        "id": "Vjh3AaNpl-fn"
      },
      "source": [
        "1. Coloque um print no final de cada minibatch, no mesmo estilo do print do final de época, no seguinte estilo:\n",
        "    - Época: 1/4, batch: 3/10\n",
        "2. Altere o tamanho de minibatch (batch_size) algumas vezes, refaça o treinamento, e compare no gráfico abaixo a queda da perda para cada tamanho de minibatch."
      ]
    },
    {
      "cell_type": "markdown",
      "metadata": {
        "id": "Dite8MBJl-fn"
      },
      "source": [
        "## Conclusões sobre os experimentos deste notebook\n"
      ]
    }
  ],
  "metadata": {
    "accelerator": "TPU",
    "colab": {
      "provenance": []
    },
    "kernelspec": {
      "display_name": "Python 3.10.2 64-bit",
      "language": "python",
      "name": "python3"
    },
    "language_info": {
      "name": "python",
      "version": "3.10.2"
    },
    "vscode": {
      "interpreter": {
        "hash": "5fe3e6f0cdaab8afdc61c52912fda83f7c0a71baaea1897dd7498e2df01e69ec"
      }
    }
  },
  "nbformat": 4,
  "nbformat_minor": 0
}