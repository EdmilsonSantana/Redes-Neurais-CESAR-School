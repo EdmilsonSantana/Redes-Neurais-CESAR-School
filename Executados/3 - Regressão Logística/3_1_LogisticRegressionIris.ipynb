{
  "cells": [
    {
      "cell_type": "markdown",
      "metadata": {
        "id": "wZfbOTOBOkgz"
      },
      "source": [
        "# Iris dataset - Regressão Logística - 3 classes"
      ]
    },
    {
      "cell_type": "markdown",
      "metadata": {
        "id": "uGD4tsGSOkg0"
      },
      "source": [
        "## Objetivos"
      ]
    },
    {
      "cell_type": "markdown",
      "metadata": {
        "id": "4NrY1Xm8Okg2"
      },
      "source": [
        "Este notebook ilustra o problema de classificação.\n",
        "\n",
        "O objetivo é classificar as amostras da Íris em 3 classes.\n",
        "- o alvo é o índice da classe: 0, 1 ou 2\n",
        "- função de perda é Entropia Cruzada\n",
        "- rede é uma camada densa linear com duas entradas e três saídas (n. de classes)"
      ]
    },
    {
      "cell_type": "markdown",
      "metadata": {
        "id": "oIibWckGOkg2"
      },
      "source": [
        "![alt text](https://raw.githubusercontent.com/vcasadei/images/master/RegressaoSoftmax_CrossEntropy_Otimizacao.png)"
      ]
    },
    {
      "cell_type": "markdown",
      "metadata": {
        "id": "KQfaLh-VOkg3"
      },
      "source": [
        "## Importação das bibliotecas"
      ]
    },
    {
      "cell_type": "code",
      "execution_count": 1,
      "metadata": {
        "ExecuteTime": {
          "end_time": "2018-02-04T11:46:09.495857Z",
          "start_time": "2018-02-04T11:46:07.103819Z"
        },
        "id": "Glwg5sw8Okg4"
      },
      "outputs": [],
      "source": [
        "%matplotlib inline\n",
        "import os\n",
        "from sklearn.datasets import load_iris\n",
        "import numpy as np\n",
        "import matplotlib.pyplot as plt\n",
        "import pandas as pd\n",
        "\n",
        "import torch\n",
        "from torch.autograd import Variable\n",
        "import torch.nn as nn\n",
        "import torch.nn.functional as F\n",
        "\n",
        "from IPython import display"
      ]
    },
    {
      "cell_type": "markdown",
      "metadata": {
        "id": "8Ay5TuJFOkg8"
      },
      "source": [
        "## Dataset: Leitura, normalização e visualização dos dados"
      ]
    },
    {
      "cell_type": "code",
      "execution_count": 2,
      "metadata": {
        "ExecuteTime": {
          "end_time": "2018-02-04T11:46:11.955381Z",
          "start_time": "2018-02-04T11:46:11.703390Z"
        },
        "colab": {
          "base_uri": "https://localhost:8080/",
          "height": 279
        },
        "id": "HDcff08yOkg9",
        "outputId": "6f5195f4-ff1a-4153-ef36-8db172602904"
      },
      "outputs": [
        {
          "output_type": "display_data",
          "data": {
            "text/plain": [
              "<Figure size 432x288 with 1 Axes>"
            ],
            "image/png": "[encoded data removed]"
          },
          "metadata": {
            "needs_background": "light"
          }
        }
      ],
      "source": [
        "iris = load_iris()\n",
        "X = iris.data[:,::2]  # comprimento das sépalas e pétalas, indices 0 e 2\n",
        "# normalização\n",
        "Xc = X - X.min(axis=0)\n",
        "Xs = Xc.max(axis=0)\n",
        "Xc = Xc/Xs\n",
        "\n",
        "Y = iris.target\n",
        "colors = np.array(['r','y','b'])\n",
        "plt.scatter(Xc[:, 0], Xc[:, 1], c=colors[Y])\n",
        "plt.xlabel('Sepal length')\n",
        "plt.ylabel('Sepal width')\n",
        "plt.show()"
      ]
    },
    {
      "cell_type": "markdown",
      "metadata": {
        "id": "6Wo3laUYOkhD"
      },
      "source": [
        "### Prepara os dados para o PyTorch"
      ]
    },
    {
      "cell_type": "code",
      "execution_count": 3,
      "metadata": {
        "ExecuteTime": {
          "end_time": "2018-02-04T11:46:13.313748Z",
          "start_time": "2018-02-04T11:46:13.309550Z"
        },
        "id": "uaCDAsKyOkhD"
      },
      "outputs": [],
      "source": [
        "X_tensor = torch.FloatTensor(Xc)  # Entrada é FloatTensor\n",
        "Y_tensor = torch.LongTensor(Y)    # Classe é LongTensor"
      ]
    },
    {
      "cell_type": "code",
      "execution_count": 4,
      "metadata": {
        "colab": {
          "base_uri": "https://localhost:8080/"
        },
        "id": "nqXzwFeJNYpQ",
        "outputId": "603adefe-a74a-4596-da4a-7150347b0c3b"
      },
      "outputs": [
        {
          "output_type": "execute_result",
          "data": {
            "text/plain": [
              "tensor([0, 0, 0, 0, 0, 0, 0, 0, 0, 0, 0, 0, 0, 0, 0, 0, 0, 0, 0, 0, 0, 0, 0, 0,\n",
              "        0, 0, 0, 0, 0, 0, 0, 0, 0, 0, 0, 0, 0, 0, 0, 0, 0, 0, 0, 0, 0, 0, 0, 0,\n",
              "        0, 0, 1, 1, 1, 1, 1, 1, 1, 1, 1, 1, 1, 1, 1, 1, 1, 1, 1, 1, 1, 1, 1, 1,\n",
              "        1, 1, 1, 1, 1, 1, 1, 1, 1, 1, 1, 1, 1, 1, 1, 1, 1, 1, 1, 1, 1, 1, 1, 1,\n",
              "        1, 1, 1, 1, 2, 2, 2, 2, 2, 2, 2, 2, 2, 2, 2, 2, 2, 2, 2, 2, 2, 2, 2, 2,\n",
              "        2, 2, 2, 2, 2, 2, 2, 2, 2, 2, 2, 2, 2, 2, 2, 2, 2, 2, 2, 2, 2, 2, 2, 2,\n",
              "        2, 2, 2, 2, 2, 2])"
            ]
          },
          "metadata": {},
          "execution_count": 4
        }
      ],
      "source": [
        "Y_tensor"
      ]
    },
    {
      "cell_type": "markdown",
      "metadata": {
        "id": "6_0RFDv-OkhG"
      },
      "source": [
        "## Construindo o modelo da rede"
      ]
    },
    {
      "cell_type": "markdown",
      "metadata": {
        "id": "veKDdcEKOkhH"
      },
      "source": [
        "A saída da rede é composta por um neurônio para cada classe. A saída é denominada *scores* ou logitos:\n",
        "\n",
        "![alt text](https://raw.githubusercontent.com/vcasadei/images/master/RegressaoLogisticaRede_2_3.png)"
      ]
    },
    {
      "cell_type": "code",
      "execution_count": 31,
      "metadata": {
        "ExecuteTime": {
          "end_time": "2018-02-04T11:46:15.448116Z",
          "start_time": "2018-02-04T11:46:15.443736Z"
        },
        "id": "DB6CnglJOkhI"
      },
      "outputs": [],
      "source": [
        "model = nn.Linear(2,3)  # 2 entradas e 3 saídas"
      ]
    },
    {
      "cell_type": "code",
      "execution_count": 12,
      "metadata": {
        "colab": {
          "base_uri": "https://localhost:8080/"
        },
        "id": "-KHsLTmYOkhL",
        "outputId": "5f1e3a10-8fbb-4d94-f19e-8cdd52b6a2e1"
      },
      "outputs": [
        {
          "output_type": "execute_result",
          "data": {
            "text/plain": [
              "OrderedDict([('weight', tensor([[-0.5326,  0.4064],\n",
              "                      [ 0.6454,  0.5846],\n",
              "                      [-0.0967,  0.2107]])),\n",
              "             ('bias', tensor([-0.1613, -0.4790,  0.6614]))])"
            ]
          },
          "metadata": {},
          "execution_count": 12
        }
      ],
      "source": [
        "model.state_dict()"
      ]
    },
    {
      "cell_type": "markdown",
      "metadata": {
        "id": "arIc2kO1OkhW"
      },
      "source": [
        "### Fazendo um predict"
      ]
    },
    {
      "cell_type": "code",
      "execution_count": 13,
      "metadata": {
        "ExecuteTime": {
          "end_time": "2018-02-04T11:46:17.414393Z",
          "start_time": "2018-02-04T11:46:17.340054Z"
        },
        "colab": {
          "base_uri": "https://localhost:8080/"
        },
        "id": "8PcvgpEnOkhX",
        "outputId": "3a31de1f-5e52-4fdb-93f9-3c67b1fb96bc"
      },
      "outputs": [
        {
          "output_type": "execute_result",
          "data": {
            "text/plain": [
              "tensor([[-0.2521, -0.2960,  0.6542],\n",
              "        [-0.2225, -0.3318,  0.6596],\n",
              "        [-0.1998, -0.3776,  0.6614],\n",
              "        [-0.1712, -0.3757,  0.6712]], grad_fn=<AddmmBackward0>)"
            ]
          },
          "metadata": {},
          "execution_count": 13
        }
      ],
      "source": [
        "out = model(Variable(X_tensor[:4,:])) # 4 amostras\n",
        "out"
      ]
    },
    {
      "cell_type": "code",
      "execution_count": 14,
      "metadata": {
        "colab": {
          "base_uri": "https://localhost:8080/"
        },
        "id": "nVWuAGOANyJl",
        "outputId": "02a6ede3-5635-4a73-95a0-81864f2166aa"
      },
      "outputs": [
        {
          "output_type": "execute_result",
          "data": {
            "text/plain": [
              "tensor([[0.2256, 0.2159, 0.5585],\n",
              "        [0.2319, 0.2079, 0.5602],\n",
              "        [0.2379, 0.1992, 0.5629],\n",
              "        [0.2417, 0.1970, 0.5613]], grad_fn=<SoftmaxBackward0>)"
            ]
          },
          "metadata": {},
          "execution_count": 14
        }
      ],
      "source": [
        "oo = F.softmax(out,dim=1)\n",
        "oo"
      ]
    },
    {
      "cell_type": "markdown",
      "metadata": {
        "id": "BSBbcIN8Okhb"
      },
      "source": [
        "### Calculando as probabilidades com Softmax"
      ]
    },
    {
      "cell_type": "markdown",
      "metadata": {
        "id": "V6e6DAGqOkhb"
      },
      "source": [
        "- [Wikipedia:Softmax_function](https://en.wikipedia.org/wiki/Softmax_function)"
      ]
    },
    {
      "cell_type": "markdown",
      "metadata": {
        "id": "esnpg-lKOkhc"
      },
      "source": [
        "![alt text](https://raw.githubusercontent.com/vcasadei/images/master/softmax.png)"
      ]
    },
    {
      "cell_type": "code",
      "execution_count": 15,
      "metadata": {
        "ExecuteTime": {
          "end_time": "2018-02-04T11:47:54.834103Z",
          "start_time": "2018-02-04T11:47:54.826668Z"
        },
        "colab": {
          "base_uri": "https://localhost:8080/"
        },
        "id": "6twxGJ7sOkhd",
        "outputId": "6f2d47d0-499e-4eb0-af62-753b063fb5bc"
      },
      "outputs": [
        {
          "output_type": "execute_result",
          "data": {
            "text/plain": [
              "tensor([[22.5616, 21.5932, 55.8452],\n",
              "        [23.1886, 20.7874, 56.0241],\n",
              "        [23.7915, 19.9165, 56.2920],\n",
              "        [24.1709, 19.7014, 56.1277]], grad_fn=<MulBackward0>)"
            ]
          },
          "metadata": {},
          "execution_count": 15
        }
      ],
      "source": [
        "F.softmax(out,dim=1)*100"
      ]
    },
    {
      "cell_type": "markdown",
      "metadata": {
        "id": "CvuTGIh0Okhg"
      },
      "source": [
        "### Predição da classe"
      ]
    },
    {
      "cell_type": "code",
      "execution_count": 39,
      "metadata": {
        "ExecuteTime": {
          "end_time": "2018-02-04T11:48:06.008337Z",
          "start_time": "2018-02-04T11:48:06.000230Z"
        },
        "colab": {
          "base_uri": "https://localhost:8080/"
        },
        "id": "cynvYmnBOkhh",
        "outputId": "e315d400-1c37-4127-c221-35d7a1baf23e"
      },
      "outputs": [
        {
          "output_type": "stream",
          "name": "stdout",
          "text": [
            "tensor([2, 2, 2, 2])\n",
            "tensor([0.5585, 0.5602, 0.5629, 0.5613], grad_fn=<MaxBackward0>)\n"
          ]
        }
      ],
      "source": [
        "prob,y_pred = torch.max(F.softmax(out,dim=1),dim=1)\n",
        "print(y_pred) \n",
        "print(prob)"
      ]
    },
    {
      "cell_type": "markdown",
      "metadata": {
        "id": "IImLpO9VOkhn"
      },
      "source": [
        "## Treinamento"
      ]
    },
    {
      "cell_type": "markdown",
      "metadata": {
        "id": "ieLSCz-dOkho"
      },
      "source": [
        "### Classe para visualização dinâmica"
      ]
    },
    {
      "cell_type": "code",
      "execution_count": 17,
      "metadata": {
        "ExecuteTime": {
          "end_time": "2018-02-04T11:50:09.068304Z",
          "start_time": "2018-02-04T11:50:08.890987Z"
        },
        "id": "0MPP0hq4Okho"
      },
      "outputs": [],
      "source": [
        "def predict(model, inputs):\n",
        "    outputs = model(Variable(inputs))\n",
        "    _, predicts = torch.max(outputs, 1)\n",
        "    \n",
        "    return predicts.data.numpy()\n",
        "\n",
        "def predict_prob(model, inputs):\n",
        "    outputs = model(Variable(inputs))\n",
        "    outputs = F.softmax(outputs,dim=1)\n",
        "    predicts, _ = torch.max(outputs, 1)\n",
        "    \n",
        "    return predicts.data.numpy()\n",
        "\n",
        "class MyPlotter():\n",
        "    def __init__(self, model, X, Y, n_epoch, filepath=None, h = .01):\n",
        "        self.model = model\n",
        "        self.X = X\n",
        "        self.Y = Y\n",
        "        self.n_epoch = n_epoch\n",
        "        self.filepath = filepath\n",
        "        x_min, x_max = X[:, 0].min() - .5, X[:, 0].max() + .5\n",
        "        y_min, y_max = X[:, 1].min() - .5, X[:, 1].max() + .5\n",
        "        self.xx, self.yy = np.meshgrid(np.arange(x_min, x_max, h), np.arange(y_min, y_max, h))\n",
        "        self.loss_hist = []\n",
        "        self.val_loss_hist = []\n",
        "        self.X_grid = np.c_[self.xx.ravel(), self.yy.ravel()]\n",
        "        \n",
        "        #Gráficos a serem mostrados pelo callback\n",
        "        self.fig = plt.figure(figsize=(12, 4), dpi=100)\n",
        "        self.ax1 = self.fig.add_subplot(1, 3, 1)\n",
        "        self.ax1.set_xlim(0, nb_epoch)\n",
        "        self.ax1.set_xlabel('Epoca')#,fontsize=28)\n",
        "        self.ax1.set_ylabel('Perda')#,fontsize=28)\n",
        "        self.ax1.set_title('Perda x Época')\n",
        "        self.ax1.plot([],[],'b',linewidth = 2.0,label = \"Treino\")\n",
        "        self.ax1.grid(True)\n",
        "\n",
        "        self.ax2 = self.fig.add_subplot(1, 3, 2)\n",
        "        self.ax2.set_xlim(Xc[:,0].min(), Xc[:,0].max())\n",
        "        self.ax2.set_ylim(Xc[:,1].min(), Xc[:,1].max())\n",
        "        self.ax2.set_xlabel('Comprimento da Sepala')#,fontsize=28)\n",
        "        self.ax2.set_ylabel('Largura da Sepala')#,fontsize=28)\n",
        "        self.ax2.set_title('Fronteiras de decisão')\n",
        "\n",
        "        self.ax3 = self.fig.add_subplot(1, 3, 3)\n",
        "        self.ax3.set_xlim(Xc[:,0].min(), Xc[:,0].max())\n",
        "        self.ax3.set_ylim(Xc[:,1].min(), Xc[:,1].max())\n",
        "        self.ax3.set_xlabel('Comprimento da Sepala')#,fontsize=28)\n",
        "        self.ax3.set_ylabel('Largura da Sepala')#,fontsize=28)\n",
        "        self.ax3.set_title('Máxima probabilidade')\n",
        "\n",
        "    def on_train_begin(self, logs={}):\n",
        "        display.display(self.fig)\n",
        "        display.clear_output(wait=True)\n",
        "\n",
        "    def on_epoch_end(self, epoch, logs={}):\n",
        "        if 'loss' in logs.keys():\n",
        "            self.loss_hist.append(logs['loss'])\n",
        "            \n",
        "            if epoch%250==0:\n",
        "                self.ax1.plot(np.arange(epoch+1), self.loss_hist, 'b', linewidth = 2.0)\n",
        "                \n",
        "                #Z = predict(self.model, torch.from_numpy(self.X_grid).type(torch.FloatTensor))\n",
        "                Zc = predict(self.model,torch.FloatTensor(self.X_grid))\n",
        "                Zc = Zc.reshape(self.xx.shape)\n",
        "                \n",
        "                self.ax2.pcolormesh(self.xx, self.yy, Zc, cmap=plt.cm.Paired)\n",
        "                colors = np.array(['r','y','b'])\n",
        "                self.ax2.scatter(self.X[:, 0], self.X[:, 1], s=40, c=colors[self.Y], edgecolors='k', cmap=plt.cm.Paired)\n",
        "                    \n",
        "                Zp = predict_prob(self.model,torch.FloatTensor(self.X_grid))\n",
        "                Zp = Zp.reshape(self.xx.shape)\n",
        "\n",
        "                self.ax3.pcolormesh(self.xx, self.yy, Zp, cmap=plt.cm.magma)\n",
        "                colors = np.array(['r','y','b'])\n",
        "                self.ax3.scatter(self.X[:, 0], self.X[:, 1], s=40, c=colors[self.Y], edgecolors='k', cmap=plt.cm.Paired)\n",
        "\n",
        "                display.display(self.fig)\n",
        "                display.clear_output(wait=True)"
      ]
    },
    {
      "cell_type": "markdown",
      "metadata": {
        "id": "_TWIYVdcOkhr"
      },
      "source": [
        "### Laço principal de treinamento da Regressão Logística por Softmax"
      ]
    },
    {
      "cell_type": "code",
      "execution_count": 32,
      "metadata": {
        "ExecuteTime": {
          "end_time": "2018-02-04T11:50:11.056698Z",
          "start_time": "2018-02-04T11:50:11.052258Z"
        },
        "id": "a39nrl9IOkht"
      },
      "outputs": [],
      "source": [
        "lr = 0.15\n",
        "\n",
        "optimizer = torch.optim.SGD(model.parameters(), lr=lr)\n",
        "criterion = nn.CrossEntropyLoss()"
      ]
    },
    {
      "cell_type": "code",
      "execution_count": 33,
      "metadata": {
        "ExecuteTime": {
          "end_time": "2018-02-04T11:50:28.287162Z",
          "start_time": "2018-02-04T11:50:11.745725Z"
        },
        "colab": {
          "base_uri": "https://localhost:8080/",
          "height": 424
        },
        "id": "bSzrD-H4Okhv",
        "outputId": "745202ae-ff7a-45c3-81c9-6af961203c48",
        "scrolled": false
      },
      "outputs": [
        {
          "output_type": "stream",
          "name": "stdout",
          "text": [
            "Final loss: 0.20708787441253662\n"
          ]
        },
        {
          "output_type": "display_data",
          "data": {
            "text/plain": [
              "<Figure size 1200x400 with 3 Axes>"
            ],
            "image/png": "[encoded data removed]"
          },
          "metadata": {
            "needs_background": "light"
          }
        }
      ],
      "source": [
        "nb_epoch = 10000\n",
        "\n",
        "#Definindo o plotter\n",
        "my_plot = MyPlotter(model, Xc, Y, nb_epoch)\n",
        "\n",
        "losses = []\n",
        "for i in range(nb_epoch):\n",
        "    # predict da rede\n",
        "    output = model(Variable(X_tensor))\n",
        "\n",
        "    # calcula a perda\n",
        "    loss = criterion(output, Variable(Y_tensor))\n",
        "\n",
        "    # Faz o backpropagation para calcular os gradientes e otimizar parâmetros\n",
        "    optimizer.zero_grad()\n",
        "    loss.backward()\n",
        "    optimizer.step()\n",
        "    \n",
        "    losses.append(loss.data.item())\n",
        "    \n",
        "    my_plot.on_epoch_end(i, {'loss': loss.data.item()});\n",
        "    final_loss = loss.data.item()\n",
        "    \n",
        "print('Final loss:', final_loss)"
      ]
    },
    {
      "cell_type": "markdown",
      "metadata": {
        "id": "dVyFTWbkOkh0"
      },
      "source": [
        "## Avaliação"
      ]
    },
    {
      "cell_type": "markdown",
      "metadata": {
        "id": "BJAHo2ZtOkh2"
      },
      "source": [
        "### Parâmetros após treinamento"
      ]
    },
    {
      "cell_type": "code",
      "execution_count": 28,
      "metadata": {
        "ExecuteTime": {
          "end_time": "2018-02-04T11:50:34.067229Z",
          "start_time": "2018-02-04T11:50:34.059140Z"
        },
        "colab": {
          "base_uri": "https://localhost:8080/"
        },
        "id": "Pjl9d3wHOkh2",
        "outputId": "431bff02-22db-438c-973e-708f081ecdf1",
        "scrolled": false
      },
      "outputs": [
        {
          "output_type": "execute_result",
          "data": {
            "text/plain": [
              "OrderedDict([('weight', tensor([[0., 0.],\n",
              "                      [0., 0.],\n",
              "                      [0., 0.]])),\n",
              "             ('bias', tensor([  9.0352,   2.7649, -11.1596]))])"
            ]
          },
          "metadata": {},
          "execution_count": 28
        }
      ],
      "source": [
        "model.state_dict()"
      ]
    },
    {
      "cell_type": "markdown",
      "metadata": {
        "id": "0qCiheSgOkh7"
      },
      "source": [
        "### Salvando os parâmetros treinados"
      ]
    },
    {
      "cell_type": "code",
      "execution_count": 34,
      "metadata": {
        "ExecuteTime": {
          "end_time": "2018-02-04T11:50:38.047207Z",
          "start_time": "2018-02-04T11:50:38.039612Z"
        },
        "id": "OR6sWjH7Okh8"
      },
      "outputs": [],
      "source": [
        "os.makedirs('models',exist_ok=True)\n",
        "torch.save(model.state_dict(),'models/RegrLog_Iris.pt')"
      ]
    },
    {
      "cell_type": "code",
      "execution_count": 26,
      "metadata": {
        "colab": {
          "base_uri": "https://localhost:8080/"
        },
        "id": "p5WhV6IGKRJm",
        "outputId": "ef70fa63-078e-474b-abe0-b99aebc0215c"
      },
      "outputs": [
        {
          "output_type": "stream",
          "name": "stdout",
          "text": [
            "RegrLog_Iris.pt\n"
          ]
        }
      ],
      "source": [
        "! ls models/"
      ]
    },
    {
      "cell_type": "code",
      "execution_count": 35,
      "metadata": {
        "ExecuteTime": {
          "end_time": "2018-02-04T11:50:39.408147Z",
          "start_time": "2018-02-04T11:50:39.401670Z"
        },
        "colab": {
          "base_uri": "https://localhost:8080/"
        },
        "id": "4JJNU5tKOkh_",
        "outputId": "2ee2c1fc-a881-4f9a-d2d4-7329bdb264ef"
      },
      "outputs": [
        {
          "output_type": "stream",
          "name": "stderr",
          "text": [
            "/usr/local/lib/python3.7/dist-packages/ipykernel_launcher.py:1: UserWarning: nn.init.constant is now deprecated in favor of nn.init.constant_.\n",
            "  \"\"\"Entry point for launching an IPython kernel.\n",
            "/usr/local/lib/python3.7/dist-packages/ipykernel_launcher.py:2: UserWarning: nn.init.constant is now deprecated in favor of nn.init.constant_.\n",
            "  \n"
          ]
        },
        {
          "output_type": "execute_result",
          "data": {
            "text/plain": [
              "OrderedDict([('weight', tensor([[0., 0.],\n",
              "                      [0., 0.],\n",
              "                      [0., 0.]])), ('bias', tensor([0., 0., 0.]))])"
            ]
          },
          "metadata": {},
          "execution_count": 35
        }
      ],
      "source": [
        "nn.init.constant(model.weight,0)\n",
        "nn.init.constant(model.bias,0)\n",
        "model.state_dict()"
      ]
    },
    {
      "cell_type": "markdown",
      "metadata": {
        "id": "urk2L9U-OkiC"
      },
      "source": [
        "### Recuperando os pesos salvos"
      ]
    },
    {
      "cell_type": "code",
      "execution_count": 36,
      "metadata": {
        "ExecuteTime": {
          "end_time": "2018-02-04T11:50:41.170391Z",
          "start_time": "2018-02-04T11:50:41.164336Z"
        },
        "colab": {
          "base_uri": "https://localhost:8080/"
        },
        "id": "Xtx7PShLOkiD",
        "outputId": "5fc2b9b8-014c-430b-99fc-29332c7b8e35"
      },
      "outputs": [
        {
          "output_type": "execute_result",
          "data": {
            "text/plain": [
              "OrderedDict([('weight', tensor([[ -3.2534, -14.7002],\n",
              "                      [  1.5642,  -0.6663],\n",
              "                      [  1.0747,  15.3708]])),\n",
              "             ('bias', tensor([ 6.5191,  1.1322, -9.1288]))])"
            ]
          },
          "metadata": {},
          "execution_count": 36
        }
      ],
      "source": [
        "param_saved = torch.load('models/RegrLog_Iris.pt')\n",
        "model.load_state_dict(param_saved)\n",
        "model.state_dict()"
      ]
    },
    {
      "cell_type": "markdown",
      "metadata": {
        "id": "3JqG76-gOkiG"
      },
      "source": [
        "### Exatidão (acurácia) do classificador"
      ]
    },
    {
      "cell_type": "markdown",
      "metadata": {
        "id": "plZ2PIYtOkiH"
      },
      "source": [
        "Acurácia indica o número de acertos sobre o número total de amostras"
      ]
    },
    {
      "cell_type": "code",
      "execution_count": 37,
      "metadata": {
        "ExecuteTime": {
          "end_time": "2018-02-04T11:50:49.806051Z",
          "start_time": "2018-02-04T11:50:49.798847Z"
        },
        "colab": {
          "base_uri": "https://localhost:8080/"
        },
        "id": "YSiENBugOkiJ",
        "outputId": "db37bda1-2dc5-4a9b-9377-2602ae747389"
      },
      "outputs": [
        {
          "output_type": "stream",
          "name": "stdout",
          "text": [
            "Training Accuracy:  0.96\n"
          ]
        }
      ],
      "source": [
        "Y_pred = predict(model, X_tensor)\n",
        "accuracy = (Y_pred == Y).mean()\n",
        "print('Training Accuracy: ', accuracy)"
      ]
    },
    {
      "cell_type": "markdown",
      "metadata": {
        "id": "hJG9whYcOkiQ"
      },
      "source": [
        "### Matriz de confusão"
      ]
    },
    {
      "cell_type": "code",
      "execution_count": 38,
      "metadata": {
        "ExecuteTime": {
          "end_time": "2018-02-04T11:50:52.164289Z",
          "start_time": "2018-02-04T11:50:52.138337Z"
        },
        "colab": {
          "base_uri": "https://localhost:8080/",
          "height": 175
        },
        "id": "AxD98LU2OkiS",
        "outputId": "22029a80-424b-4157-bc2e-33d072d25b01"
      },
      "outputs": [
        {
          "output_type": "execute_result",
          "data": {
            "text/plain": [
              "col_0   0   1   2\n",
              "row_0            \n",
              "0      50   0   0\n",
              "1       0  47   3\n",
              "2       0   3  47"
            ],
            "text/html": [
              "\n",
              "  <div id=\"df-aaa0d269-02a1-46cb-8c22-e22388b78e71\">\n",
              "    <div class=\"colab-df-container\">\n",
              "      <div>\n",
              "<style scoped>\n",
              "    .dataframe tbody tr th:only-of-type {\n",
              "        vertical-align: middle;\n",
              "    }\n",
              "\n",
              "    .dataframe tbody tr th {\n",
              "        vertical-align: top;\n",
              "    }\n",
              "\n",
              "    .dataframe thead th {\n",
              "        text-align: right;\n",
              "    }\n",
              "</style>\n",
              "<table border=\"1\" class=\"dataframe\">\n",
              "  <thead>\n",
              "    <tr style=\"text-align: right;\">\n",
              "      <th>col_0</th>\n",
              "      <th>0</th>\n",
              "      <th>1</th>\n",
              "      <th>2</th>\n",
              "    </tr>\n",
              "    <tr>\n",
              "      <th>row_0</th>\n",
              "      <th></th>\n",
              "      <th></th>\n",
              "      <th></th>\n",
              "    </tr>\n",
              "  </thead>\n",
              "  <tbody>\n",
              "    <tr>\n",
              "      <th>0</th>\n",
              "      <td>50</td>\n",
              "      <td>0</td>\n",
              "      <td>0</td>\n",
              "    </tr>\n",
              "    <tr>\n",
              "      <th>1</th>\n",
              "      <td>0</td>\n",
              "      <td>47</td>\n",
              "      <td>3</td>\n",
              "    </tr>\n",
              "    <tr>\n",
              "      <th>2</th>\n",
              "      <td>0</td>\n",
              "      <td>3</td>\n",
              "      <td>47</td>\n",
              "    </tr>\n",
              "  </tbody>\n",
              "</table>\n",
              "</div>\n",
              "      <button class=\"colab-df-convert\" onclick=\"convertToInteractive('df-aaa0d269-02a1-46cb-8c22-e22388b78e71')\"\n",
              "              title=\"Convert this dataframe to an interactive table.\"\n",
              "              style=\"display:none;\">\n",
              "        \n",
              "  <svg xmlns=\"http://www.w3.org/2000/svg\" height=\"24px\"viewBox=\"0 0 24 24\"\n",
              "       width=\"24px\">\n",
              "    <path d=\"M0 0h24v24H0V0z\" fill=\"none\"/>\n",
              "    <path d=\"M18.56 5.44l.94 2.06.94-2.06 2.06-.94-2.06-.94-.94-2.06-.94 2.06-2.06.94zm-11 1L8.5 8.5l.94-2.06 2.06-.94-2.06-.94L8.5 2.5l-.94 2.06-2.06.94zm10 10l.94 2.06.94-2.06 2.06-.94-2.06-.94-.94-2.06-.94 2.06-2.06.94z\"/><path d=\"M17.41 7.96l-1.37-1.37c-.4-.4-.92-.59-1.43-.59-.52 0-1.04.2-1.43.59L10.3 9.45l-7.72 7.72c-.78.78-.78 2.05 0 2.83L4 21.41c.39.39.9.59 1.41.59.51 0 1.02-.2 1.41-.59l7.78-7.78 2.81-2.81c.8-.78.8-2.07 0-2.86zM5.41 20L4 18.59l7.72-7.72 1.47 1.35L5.41 20z\"/>\n",
              "  </svg>\n",
              "      </button>\n",
              "      \n",
              "  <style>\n",
              "    .colab-df-container {\n",
              "      display:flex;\n",
              "      flex-wrap:wrap;\n",
              "      gap: 12px;\n",
              "    }\n",
              "\n",
              "    .colab-df-convert {\n",
              "      background-color: #E8F0FE;\n",
              "      border: none;\n",
              "      border-radius: 50%;\n",
              "      cursor: pointer;\n",
              "      display: none;\n",
              "      fill: #1967D2;\n",
              "      height: 32px;\n",
              "      padding: 0 0 0 0;\n",
              "      width: 32px;\n",
              "    }\n",
              "\n",
              "    .colab-df-convert:hover {\n",
              "      background-color: #E2EBFA;\n",
              "      box-shadow: 0px 1px 2px rgba(60, 64, 67, 0.3), 0px 1px 3px 1px rgba(60, 64, 67, 0.15);\n",
              "      fill: #174EA6;\n",
              "    }\n",
              "\n",
              "    [theme=dark] .colab-df-convert {\n",
              "      background-color: #3B4455;\n",
              "      fill: #D2E3FC;\n",
              "    }\n",
              "\n",
              "    [theme=dark] .colab-df-convert:hover {\n",
              "      background-color: #434B5C;\n",
              "      box-shadow: 0px 1px 3px 1px rgba(0, 0, 0, 0.15);\n",
              "      filter: drop-shadow(0px 1px 2px rgba(0, 0, 0, 0.3));\n",
              "      fill: #FFFFFF;\n",
              "    }\n",
              "  </style>\n",
              "\n",
              "      <script>\n",
              "        const buttonEl =\n",
              "          document.querySelector('#df-aaa0d269-02a1-46cb-8c22-e22388b78e71 button.colab-df-convert');\n",
              "        buttonEl.style.display =\n",
              "          google.colab.kernel.accessAllowed ? 'block' : 'none';\n",
              "\n",
              "        async function convertToInteractive(key) {\n",
              "          const element = document.querySelector('#df-aaa0d269-02a1-46cb-8c22-e22388b78e71');\n",
              "          const dataTable =\n",
              "            await google.colab.kernel.invokeFunction('convertToInteractive',\n",
              "                                                     [key], {});\n",
              "          if (!dataTable) return;\n",
              "\n",
              "          const docLinkHtml = 'Like what you see? Visit the ' +\n",
              "            '<a target=\"_blank\" href=https://colab.research.google.com/notebooks/data_table.ipynb>data table notebook</a>'\n",
              "            + ' to learn more about interactive tables.';\n",
              "          element.innerHTML = '';\n",
              "          dataTable['output_type'] = 'display_data';\n",
              "          await google.colab.output.renderOutput(dataTable, element);\n",
              "          const docLink = document.createElement('div');\n",
              "          docLink.innerHTML = docLinkHtml;\n",
              "          element.appendChild(docLink);\n",
              "        }\n",
              "      </script>\n",
              "    </div>\n",
              "  </div>\n",
              "  "
            ]
          },
          "metadata": {},
          "execution_count": 38
        }
      ],
      "source": [
        "import pandas as pd\n",
        "pd.crosstab(Y_pred, Y)"
      ]
    },
    {
      "cell_type": "markdown",
      "metadata": {
        "id": "gkyHe2a-Okic"
      },
      "source": [
        "## Atividades"
      ]
    },
    {
      "cell_type": "markdown",
      "metadata": {
        "id": "9fPSAFKYOkig"
      },
      "source": [
        "### Perguntas:"
      ]
    },
    {
      "cell_type": "markdown",
      "metadata": {
        "id": "eRLS3kQ8Okii"
      },
      "source": [
        "1. Observe que se após o treinamento, a célula for executada novamente, ela continua utilizando os parâmetros treinados até sua última execução. O que é preciso fazer para que o treinamento comece deste o início, como da primeira vez que foi executado?\n",
        "2. Quantos parâmetros possui esta rede? Quantos são da camada densa e quantos são de bias?\n",
        "3. Quantas entradas e quantas saídas esta rede possui?\n",
        "4. Como se pode calcular a acurácia a partir da matriz de confusão?\n",
        "5. O que faz a função `torch.max`? Quantos parâmetros ela retorna e quais seus significados?\n",
        "    - http://pytorch.org/docs/master/torch.html?highlight=torch%20max#torch.max"
      ]
    },
    {
      "cell_type": "markdown",
      "metadata": {
        "id": "-rC96Z8BOkij"
      },
      "source": [
        "### Exercícios:"
      ]
    },
    {
      "cell_type": "markdown",
      "metadata": {
        "id": "91eMzKc-Okil"
      },
      "source": [
        "1. Experimente refazer o treinamento com diferentes valores de learning rate\n",
        "2. Na opção de mostrar o valor das probabilidades no gráfico do espaço de atributos,\n",
        "troque a tabela de cores **magma** utilizada no `pcolormesh` que está com o parâmetro `cmap=plt.cm.magma`. Escolha a tabela de cores consultando o manual do matplotlib:\n",
        "    - https://matplotlib.org/users/colormaps.html\n",
        "3. Observando o gráfico de máxima probabilidade, responda:\n",
        "    1. Qual é a amostra classificada corretamente, com maior probabilidade?\n",
        "    R.: 0,0\n",
        "    2. Qual é a amostra classificada erradamente, com maior probabilidade?\n",
        "    \n",
        "    3. Qual é a amostra classificada corretamente, com menor probabilidade?\n",
        "    4. Qual é a amostra classificada erradamente, com menor probabilidade?"
      ]
    },
    {
      "cell_type": "markdown",
      "metadata": {
        "id": "CGE2Q6cJOkiq"
      },
      "source": [
        "## Principais aprendizados"
      ]
    },
    {
      "cell_type": "markdown",
      "metadata": {
        "collapsed": true,
        "id": "0Fcaga1JOkir"
      },
      "source": [
        "1. Usa-se a rede Linear, com um neurônio para cada classe prevista.\n",
        "2. O bloco Softmax é responsável por converter a saída da rede (scores) para probabilidades.\n",
        "3. Cuidado no uso do eixo de normalização do Softmax (eixo de atributos)\n",
        "4. Acurácia (exatidão) e matriz de confusão são métricas para medir o desempenho de classificadores."
      ]
    },
    {
      "cell_type": "code",
      "execution_count": null,
      "metadata": {
        "id": "RcPGkGcPOkiu"
      },
      "outputs": [],
      "source": []
    }
  ],
  "metadata": {
    "accelerator": "GPU",
    "colab": {
      "name": "3.1-LogisticRegressionIris.ipynb",
      "provenance": []
    },
    "kernelspec": {
      "display_name": "Python 3.10.2 64-bit",
      "language": "python",
      "name": "python3"
    },
    "language_info": {
      "name": "python",
      "version": "3.10.2"
    },
    "vscode": {
      "interpreter": {
        "hash": "5fe3e6f0cdaab8afdc61c52912fda83f7c0a71baaea1897dd7498e2df01e69ec"
      }
    }
  },
  "nbformat": 4,
  "nbformat_minor": 0
}