{
  "nbformat": 4,
  "nbformat_minor": 0,
  "metadata": {
    "colab": {
      "name": "4.5-optimizer.ipynb",
      "provenance": [],
      "collapsed_sections": []
    },
    "kernelspec": {
      "name": "python3",
      "display_name": "Python 3"
    },
    "accelerator": "GPU"
  },
  "cells": [
    {
      "metadata": {
        "id": "gPc-W2lo2-Fj"
      },
      "cell_type": "markdown",
      "source": [
        "# Otimizadores do gradiente descendente"
      ]
    },
    {
      "metadata": {
        "id": "xjMOB6ST2-Fq"
      },
      "cell_type": "markdown",
      "source": [
        "Este exercício foi inspirado no tutorial apresentado em: https://morvanzhou.github.io/tutorials/\n",
        "\n",
        "Este post tem uma excelente descrição dos principais métodos de otimização:\n",
        "http://ruder.io/optimizing-gradient-descent/\n"
      ]
    },
    {
      "metadata": {
        "id": "ZUyin9Mu2-Fr"
      },
      "cell_type": "markdown",
      "source": [
        "## Gradiente descendente"
      ]
    },
    {
      "metadata": {
        "ExecuteTime": {
          "end_time": "2017-10-10T13:31:45.257229",
          "start_time": "2017-10-10T13:31:45.253164"
        },
        "id": "Ry627s_t2-Fs"
      },
      "cell_type": "markdown",
      "source": [
        "$$ W_{t+1} = W_t - \\eta \\nabla J(W_t) $$"
      ]
    },
    {
      "metadata": {
        "id": "J3htfbEu2-Ft"
      },
      "cell_type": "markdown",
      "source": [
        "## Gradiente descendente - Momentum\n"
      ]
    },
    {
      "metadata": {
        "ExecuteTime": {
          "end_time": "2017-10-10T13:31:45.257229",
          "start_time": "2017-10-10T13:31:45.253164"
        },
        "id": "Vfgp7yj_2-Fv"
      },
      "cell_type": "markdown",
      "source": [
        "$$ v_{t+1} = \\gamma v_t + \\nabla J(W_t) $$\n",
        "$$ W_{t+1} = W_t - \\eta v_{t+1}$$"
      ]
    },
    {
      "metadata": {
        "id": "4f1PG3Tw2-Fw"
      },
      "cell_type": "markdown",
      "source": [
        "## Gradiente descendente - Momentum - Nesterov"
      ]
    },
    {
      "metadata": {
        "ExecuteTime": {
          "end_time": "2017-10-10T13:31:45.257229",
          "start_time": "2017-10-10T13:31:45.253164"
        },
        "id": "fuDD_hkB2-Fx"
      },
      "cell_type": "markdown",
      "source": [
        "$$ v_{t+1} = \\gamma v_{t} + \\nabla J(W_t - \\gamma v_{t}) $$\n",
        "$$ W_{t+1} = W_{t} - \\eta v_{t+1}$$"
      ]
    },
    {
      "metadata": {
        "id": "n87kb3zV2-Fy"
      },
      "cell_type": "markdown",
      "source": [
        "## Gradiente descendente - Métodos com learning rates diferentes para cada dimensão do gradiente"
      ]
    },
    {
      "metadata": {
        "ExecuteTime": {
          "end_time": "2017-10-10T13:31:45.257229",
          "start_time": "2017-10-10T13:31:45.253164"
        },
        "id": "HN2Nw7T32-Fy"
      },
      "cell_type": "markdown",
      "source": [
        "\n",
        "$$ W_{t+1,i} = W_{t,i} - \\frac{\\eta}{\\sqrt{G_{t,ii} + \\epsilon}} \\nabla J(W_t)$$"
      ]
    },
    {
      "metadata": {
        "id": "1JJoQJgv2-F0"
      },
      "cell_type": "markdown",
      "source": [
        "- Adagrad: Termo $G_{t,ii}$ é soma do quadrado dos gradientes na época\n",
        "- RMSprop e Adadelta: Termo $G_{t,ii}$ é média móvel do termo $G$ passada (possui termo momentum)\n",
        "- Adam: adiciona a média móvel tanto no termo $G$ mas também no gradiente $\\nabla J(W)$"
      ]
    },
    {
      "metadata": {
        "ExecuteTime": {
          "end_time": "2017-10-10T16:47:08.945542Z",
          "start_time": "2017-10-10T16:47:07.977867Z"
        },
        "id": "VtNHph3b2-F3"
      },
      "cell_type": "code",
      "source": [
        "import torch\n",
        "import torch.utils.data\n",
        "import torch.nn.functional as F\n",
        "from torch.autograd import Variable\n",
        "import matplotlib.pyplot as plt\n",
        "%matplotlib inline"
      ],
      "execution_count": 1,
      "outputs": []
    },
    {
      "metadata": {
        "ExecuteTime": {
          "end_time": "2017-10-10T16:47:08.952216Z",
          "start_time": "2017-10-10T16:47:08.948121Z"
        },
        "id": "1S2hprVO2-F8"
      },
      "cell_type": "code",
      "source": [
        "torch.manual_seed(1);    #semente do gerador pseudoaleatório "
      ],
      "execution_count": 2,
      "outputs": []
    },
    {
      "metadata": {
        "ExecuteTime": {
          "end_time": "2017-10-10T16:47:08.958886Z",
          "start_time": "2017-10-10T16:47:08.954206Z"
        },
        "id": "rF1THoV72-F-"
      },
      "cell_type": "code",
      "source": [
        "LR = 0.01\n",
        "BATCH_SIZE = 50\n",
        "EPOCH = 6\n",
        "REGR_RN = True  # opção: True: Regressão Linear, False: Rede neural 2 camadas"
      ],
      "execution_count": 12,
      "outputs": []
    },
    {
      "metadata": {
        "id": "Okt4HNHk2-GD"
      },
      "cell_type": "markdown",
      "source": [
        "## Geração sintética do dataset"
      ]
    },
    {
      "metadata": {
        "ExecuteTime": {
          "end_time": "2017-10-10T16:47:09.201693Z",
          "start_time": "2017-10-10T16:47:08.960821Z"
        },
        "id": "GotYaEP92-GF",
        "outputId": "30c27f4e-6db6-4d9a-b007-c1e477be75e4",
        "colab": {
          "base_uri": "https://localhost:8080/",
          "height": 265
        }
      },
      "cell_type": "code",
      "source": [
        "x = torch.unsqueeze(torch.linspace(-1, 1, 500), dim=1)\n",
        "if REGR_RN:\n",
        "    y = 0.25 * x + 0.68 + 0.1*torch.normal(torch.zeros(*x.size()))\n",
        "else:\n",
        "    y = x.pow(2) + 0.1*torch.normal(torch.zeros(*x.size()))\n",
        "\n",
        "plt.scatter(x.numpy(), y.numpy())\n",
        "plt.show()"
      ],
      "execution_count": 13,
      "outputs": [
        {
          "output_type": "display_data",
          "data": {
            "text/plain": [
              "<Figure size 432x288 with 1 Axes>"
            ],
            "image/png": "[encoded data removed]"
          },
          "metadata": {
            "needs_background": "light"
          }
        }
      ]
    },
    {
      "metadata": {
        "id": "G8YBIzAX2-GU"
      },
      "cell_type": "markdown",
      "source": [
        "## Criando dataset e loader"
      ]
    },
    {
      "metadata": {
        "ExecuteTime": {
          "end_time": "2017-10-10T16:47:09.209042Z",
          "start_time": "2017-10-10T16:47:09.204204Z"
        },
        "id": "vd9Sa6iy2-GV"
      },
      "cell_type": "code",
      "source": [
        "torch_dataset = torch.utils.data.TensorDataset(x, y)\n",
        "loader = torch.utils.data.DataLoader(\n",
        "    dataset=torch_dataset, \n",
        "    batch_size=BATCH_SIZE, \n",
        "    shuffle=True)"
      ],
      "execution_count": 14,
      "outputs": []
    },
    {
      "metadata": {
        "id": "I5qw7mxI2-GX"
      },
      "cell_type": "markdown",
      "source": [
        "## Rede neural 2 camadas"
      ]
    },
    {
      "metadata": {
        "ExecuteTime": {
          "end_time": "2017-10-10T16:47:09.231538Z",
          "start_time": "2017-10-10T16:47:09.211116Z"
        },
        "id": "Cbw1EeSg2-GY"
      },
      "cell_type": "code",
      "source": [
        "class Net1(torch.nn.Module):\n",
        "    def __init__(self):\n",
        "        super(Net1, self).__init__()\n",
        "        self.predict = torch.nn.Linear(1, 1)   # saída\n",
        "        torch.nn.init.constant(self.predict.weight,0) # peso em 0\n",
        "        torch.nn.init.constant(self.predict.bias,0.)  # bias em 0\n",
        "\n",
        "    def forward(self, x):\n",
        "        x = self.predict(x) \n",
        "        return x"
      ],
      "execution_count": 15,
      "outputs": []
    },
    {
      "metadata": {
        "ExecuteTime": {
          "end_time": "2017-10-10T16:47:09.243440Z",
          "start_time": "2017-10-10T16:47:09.233359Z"
        },
        "id": "s6qSGvU82-Gb"
      },
      "cell_type": "code",
      "source": [
        "class Net2(torch.nn.Module):\n",
        "    def __init__(self):\n",
        "        super(Net2, self).__init__()\n",
        "        self.hidden = torch.nn.Linear(1, 20)    # camada escondida\n",
        "        self.predict = torch.nn.Linear(20, 1)   # saída\n",
        "        torch.nn.init.constant(self.predict.weight,0) # peso em 0\n",
        "        torch.nn.init.constant(self.predict.bias,0.)  # bias em 0\n",
        "\n",
        "    def forward(self, x):\n",
        "        x = F.relu(self.hidden(x))      # activation function for hidden layer\n",
        "        x = self.predict(x)             # linear output\n",
        "        return x"
      ],
      "execution_count": 16,
      "outputs": []
    },
    {
      "metadata": {
        "id": "cHElgTDS2-Gg"
      },
      "cell_type": "markdown",
      "source": [
        "## Uma rede com otimizador diferente"
      ]
    },
    {
      "metadata": {
        "ExecuteTime": {
          "end_time": "2017-10-10T16:47:09.308480Z",
          "start_time": "2017-10-10T16:47:09.245535Z"
        },
        "id": "yL3oXnPT2-Gh",
        "outputId": "256a5d72-ccb9-4c22-e353-650873f239a5",
        "colab": {
          "base_uri": "https://localhost:8080/"
        }
      },
      "cell_type": "code",
      "source": [
        "net_SGD         = Net1() if REGR_RN else Net2()\n",
        "net_Momentum    = Net1() if REGR_RN else Net2()\n",
        "net_Nesterov    = Net1() if REGR_RN else Net2()\n",
        "net_RMSprop     = Net1() if REGR_RN else Net2()\n",
        "net_Adam        = Net1() if REGR_RN else Net2()\n",
        "nets = [net_SGD, net_Momentum, net_Nesterov, net_RMSprop, net_Adam]"
      ],
      "execution_count": 17,
      "outputs": [
        {
          "output_type": "stream",
          "name": "stderr",
          "text": [
            "/usr/local/lib/python3.7/dist-packages/ipykernel_launcher.py:5: UserWarning: nn.init.constant is now deprecated in favor of nn.init.constant_.\n",
            "  \"\"\"\n",
            "/usr/local/lib/python3.7/dist-packages/ipykernel_launcher.py:6: UserWarning: nn.init.constant is now deprecated in favor of nn.init.constant_.\n",
            "  \n"
          ]
        }
      ]
    },
    {
      "metadata": {
        "id": "foD-UGJI2-Gl"
      },
      "cell_type": "markdown",
      "source": [
        "## Cinco otimizadores, um para cada rede"
      ]
    },
    {
      "metadata": {
        "ExecuteTime": {
          "end_time": "2017-10-10T16:47:09.318542Z",
          "start_time": "2017-10-10T16:47:09.311176Z"
        },
        "id": "JoO38VOG2-Gn"
      },
      "cell_type": "code",
      "source": [
        "opt_SGD      = torch.optim.SGD(net_SGD.parameters(), lr=LR)\n",
        "opt_Momentum = torch.optim.SGD(net_Momentum.parameters(), lr=LR, momentum=0.9)\n",
        "opt_Nesterov = torch.optim.SGD(net_Nesterov.parameters(), lr=LR, momentum=0.9, nesterov=True)\n",
        "opt_RMSprop  = torch.optim.RMSprop(net_RMSprop.parameters(), lr=LR, alpha=0.9)\n",
        "opt_Adam     = torch.optim.Adam(net_Adam.parameters(), lr=LR, betas=(0.9, 0.99))\n",
        "optimizers   = [opt_SGD, opt_Momentum, opt_Nesterov, opt_RMSprop, opt_Adam]"
      ],
      "execution_count": 18,
      "outputs": []
    },
    {
      "metadata": {
        "ExecuteTime": {
          "end_time": "2017-10-10T16:47:09.326056Z",
          "start_time": "2017-10-10T16:47:09.320914Z"
        },
        "id": "JrXXubbQ2-Gq"
      },
      "cell_type": "code",
      "source": [
        "loss_func = torch.nn.MSELoss()\n",
        "losses_his = [[], [], [], [], []]   # record loss\n",
        "ws_his = [[],[],[],[],[]] # record w\n",
        "bs_his = [[],[],[],[],[]] # record b"
      ],
      "execution_count": 19,
      "outputs": []
    },
    {
      "metadata": {
        "id": "DZZHFD3I2-Gx"
      },
      "cell_type": "markdown",
      "source": [
        "## training"
      ]
    },
    {
      "metadata": {
        "ExecuteTime": {
          "end_time": "2017-10-10T16:47:10.186560Z",
          "start_time": "2017-10-10T16:47:09.328458Z"
        },
        "id": "-s2a214f2-Gy",
        "outputId": "81262d54-88d6-4d70-9fd8-f140af0f0746",
        "colab": {
          "base_uri": "https://localhost:8080/",
          "height": 383
        }
      },
      "cell_type": "code",
      "source": [
        "for epoch in range(EPOCH):\n",
        "    print('Epoch: ', epoch)\n",
        "    for step, (batch_x, batch_y) in enumerate(loader):          # for each training step\n",
        "        b_x = Variable(batch_x)\n",
        "        b_y = Variable(batch_y)\n",
        "\n",
        "        for net, opt, l_his, w_his, b_his in zip(nets, optimizers, losses_his, ws_his, bs_his):\n",
        "            output = net(b_x)              # get output for every net\n",
        "            loss = loss_func(output, b_y)  # compute loss for every net\n",
        "            opt.zero_grad()                # clear gradients for next train\n",
        "            loss.backward()                # backpropagation, compute gradients\n",
        "            opt.step()                     # apply gradients\n",
        "            l_his.append(loss.data)     # loss recoder\n",
        "            w = net.predict.weight.data.numpy()[0,0]\n",
        "            w_his.append(w)\n",
        "            b = net.predict.bias.data.numpy()[0]\n",
        "            b_his.append(b)\n",
        "\n",
        "labels = ['SGD', 'Momentum', 'Nesterov', 'RMSprop', 'Adam']\n",
        "if REGR_RN:\n",
        "    for i, (w_his, b_his) in enumerate(zip(ws_his,bs_his)):\n",
        "        plt.scatter(b_his,w_his,label=labels[i])\n",
        "else:\n",
        "    for i, l_his in enumerate(losses_his):\n",
        "        plt.plot(l_his, label=labels[i])\n",
        "plt.legend(loc='best')\n",
        "plt.xlabel('Steps')\n",
        "plt.ylabel('Loss')\n",
        "plt.show()"
      ],
      "execution_count": 20,
      "outputs": [
        {
          "output_type": "stream",
          "name": "stdout",
          "text": [
            "Epoch:  0\n",
            "Epoch:  1\n",
            "Epoch:  2\n",
            "Epoch:  3\n",
            "Epoch:  4\n",
            "Epoch:  5\n"
          ]
        },
        {
          "output_type": "display_data",
          "data": {
            "text/plain": [
              "<Figure size 432x288 with 1 Axes>"
            ],
            "image/png": "[encoded data removed]"
          },
          "metadata": {
            "needs_background": "light"
          }
        }
      ]
    }
  ]
}