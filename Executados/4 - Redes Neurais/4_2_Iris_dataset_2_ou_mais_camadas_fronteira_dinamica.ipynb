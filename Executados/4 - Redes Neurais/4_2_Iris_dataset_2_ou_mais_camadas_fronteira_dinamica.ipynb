{
  "nbformat": 4,
  "nbformat_minor": 0,
  "metadata": {
    "colab": {
      "name": "4.2-Iris-dataset-2-ou-mais-camadas-fronteira-dinamica.ipynb",
      "provenance": [],
      "collapsed_sections": []
    },
    "kernelspec": {
      "name": "python3",
      "display_name": "Python 3"
    },
    "accelerator": "GPU"
  },
  "cells": [
    {
      "metadata": {
        "id": "3WJk5yG0qPxJ"
      },
      "cell_type": "markdown",
      "source": [
        "# Rede neural com camadas escondidas - Classificação do Iris dataset"
      ]
    },
    {
      "metadata": {
        "id": "eDCTSL77qPxL"
      },
      "cell_type": "markdown",
      "source": [
        "O objetivo desse experimento é ilustrar o uso de rede neural que tenha mais de uma camada. Isso é conseguido com a inserção de uma ativação não linear entre as camadas.\n",
        "\n",
        "Datasets utilizados:\n",
        "    - Iris - 3 classes\n",
        "    - Sintéticos:\n",
        "        - meia luas\n",
        "        - círculos circunscritos\n",
        "        - blobs"
      ]
    },
    {
      "metadata": {
        "ExecuteTime": {
          "end_time": "2017-10-17T11:35:30.295471",
          "start_time": "2017-10-17T11:35:30.291532"
        },
        "id": "vj4XiGaSqPxL"
      },
      "cell_type": "markdown",
      "source": [
        "![alt text](https://raw.githubusercontent.com/vcasadei/images/master/Net2RegressaoSoftmaxArgmaxRede.png)"
      ]
    },
    {
      "metadata": {
        "id": "z0ukeDbBqPxN"
      },
      "cell_type": "markdown",
      "source": [
        "## Importando as bibliotecas"
      ]
    },
    {
      "metadata": {
        "ExecuteTime": {
          "end_time": "2017-11-24T22:54:25.345600Z",
          "start_time": "2017-11-24T22:54:22.586145Z"
        },
        "id": "mDQyvYiAqPxQ"
      },
      "cell_type": "code",
      "source": [
        "%matplotlib inline\n",
        "from sklearn import datasets\n",
        "from IPython import display\n",
        "import numpy as np\n",
        "import matplotlib.pyplot as plt\n",
        "import pandas as pd\n",
        "\n",
        "import torch\n",
        "from torch.autograd import Variable\n",
        "import torch.nn as nn"
      ],
      "execution_count": 58,
      "outputs": []
    },
    {
      "metadata": {
        "id": "fKXjG5D3qPxW"
      },
      "cell_type": "markdown",
      "source": [
        "## Leitura, normalização e visualização dos dados"
      ]
    },
    {
      "metadata": {
        "ExecuteTime": {
          "end_time": "2017-11-24T22:55:12.042681Z",
          "start_time": "2017-11-24T22:55:11.740459Z"
        },
        "id": "gPP93sUfqPxY",
        "outputId": "6b8f6abd-ea33-4e79-9bba-bb7436a96aeb",
        "colab": {
          "base_uri": "https://localhost:8080/",
          "height": 279
        }
      },
      "cell_type": "code",
      "source": [
        "n_samples = 150\n",
        "options = ['iris', 'moon', 'circles', 'blobs']\n",
        "option = options[1]\n",
        "if option is 'iris':\n",
        "    iris = datasets.load_iris()\n",
        "    X = iris.data[:,:2]  # comprimento das sépalas e pétalas, indices 0 e 2\n",
        "    Xc = X - X.min(axis=0)\n",
        "    Xc /= Xc.max(axis=0)\n",
        "    Y = iris.target\n",
        "elif option is 'moon':\n",
        "    Xc,Y = datasets.make_moons(n_samples=n_samples, noise=.15)\n",
        "elif option is 'circles':\n",
        "    Xc,Y = datasets.make_circles(n_samples=n_samples, factor=.5, noise=.1)\n",
        "elif option is 'blobs':\n",
        "    Xc,Y = datasets.make_blobs(n_samples=n_samples,centers=3,cluster_std=1.2)\n",
        "\n",
        "colors = np.array(['r','y','b'])\n",
        "plt.scatter(Xc[:, 0], Xc[:, 1], c=colors[Y])\n",
        "plt.xlabel('Sepal length')\n",
        "plt.ylabel('Sepal width')\n",
        "plt.show()"
      ],
      "execution_count": 66,
      "outputs": [
        {
          "output_type": "display_data",
          "data": {
            "text/plain": [
              "<Figure size 432x288 with 1 Axes>"
            ],
            "image/png": "[encoded data removed]"
          },
          "metadata": {
            "needs_background": "light"
          }
        }
      ]
    },
    {
      "metadata": {
        "id": "FOyBKZNQqPxf"
      },
      "cell_type": "markdown",
      "source": [
        "### Prepara os dados para o PyTorch"
      ]
    },
    {
      "metadata": {
        "ExecuteTime": {
          "end_time": "2017-11-24T22:55:14.149481Z",
          "start_time": "2017-11-24T22:55:14.144744Z"
        },
        "id": "zPIJSS1tqPxg"
      },
      "cell_type": "code",
      "source": [
        "X_tensor = torch.FloatTensor(Xc)\n",
        "Y_tensor = torch.LongTensor(Y)"
      ],
      "execution_count": 3,
      "outputs": []
    },
    {
      "metadata": {
        "id": "lANO2532qPxl"
      },
      "cell_type": "markdown",
      "source": [
        "## Construindo o modelo da rede"
      ]
    },
    {
      "metadata": {
        "ExecuteTime": {
          "end_time": "2017-11-24T22:56:02.316425Z",
          "start_time": "2017-11-24T22:56:02.304537Z"
        },
        "id": "iFMjzgJnqPxl",
        "outputId": "ac43bc64-ea08-420b-941f-90f565da9603",
        "colab": {
          "base_uri": "https://localhost:8080/"
        }
      },
      "cell_type": "code",
      "source": [
        "class Modelo(nn.Module):\n",
        "    def __init__(self):\n",
        "        super(Modelo, self).__init__()\n",
        "        self.dense = nn.Sequential(\n",
        "            nn.Linear(2, 5),\n",
        "            nn.ReLU(),\n",
        "            nn.Linear(5, 5),\n",
        "            nn.ReLU(),\n",
        "            nn.Linear(5, 3),\n",
        "        )\n",
        "    \n",
        "    def forward(self, x):\n",
        "        x = self.dense(x)\n",
        "        \n",
        "        return x\n",
        "    \n",
        "model = Modelo()\n",
        "print(model)"
      ],
      "execution_count": 80,
      "outputs": [
        {
          "output_type": "stream",
          "name": "stdout",
          "text": [
            "Modelo(\n",
            "  (dense): Sequential(\n",
            "    (0): Linear(in_features=2, out_features=5, bias=True)\n",
            "    (1): ReLU()\n",
            "    (2): Linear(in_features=5, out_features=5, bias=True)\n",
            "    (3): ReLU()\n",
            "    (4): Linear(in_features=5, out_features=3, bias=True)\n",
            "  )\n",
            ")\n"
          ]
        }
      ]
    },
    {
      "metadata": {
        "id": "Ywd3m8vtqPxp"
      },
      "cell_type": "markdown",
      "source": [
        "## _predict_ utilizada para predição de classes e na visualização"
      ]
    },
    {
      "metadata": {
        "ExecuteTime": {
          "end_time": "2017-11-24T23:03:18.751565Z",
          "start_time": "2017-11-24T23:03:18.738772Z"
        },
        "id": "5K0uADyfqPxq"
      },
      "cell_type": "code",
      "source": [
        "def predict(model, inputs):\n",
        "    outputs = model(Variable(inputs))\n",
        "    _, predicts = torch.max(outputs, 1)\n",
        "    \n",
        "    return predicts.data.numpy()"
      ],
      "execution_count": 18,
      "outputs": []
    },
    {
      "metadata": {
        "id": "Vm5I3jgTqPxt"
      },
      "cell_type": "markdown",
      "source": [
        "## Classe para visualização dinâmica"
      ]
    },
    {
      "metadata": {
        "ExecuteTime": {
          "end_time": "2017-11-24T22:56:03.915101Z",
          "start_time": "2017-11-24T22:56:03.815986Z"
        },
        "id": "LVBiMIjzqPxu"
      },
      "cell_type": "code",
      "source": [
        "class BoundaryPlotter():\n",
        "    def __init__(self, model, X, Y, n_epoch, filepath=None, h = .01):\n",
        "        self.model = model\n",
        "        self.X = X\n",
        "        self.Y = Y\n",
        "        self.n_epoch = n_epoch\n",
        "        self.filepath = filepath\n",
        "        x_min, x_max = X[:, 0].min() - .5, X[:, 0].max() + .5\n",
        "        y_min, y_max = X[:, 1].min() - .5, X[:, 1].max() + .5\n",
        "        self.xx, self.yy = np.meshgrid(np.arange(x_min, x_max, h), np.arange(y_min, y_max, h))\n",
        "        self.loss_hist = []\n",
        "        self.val_loss_hist = []\n",
        "        self.X_grid = np.c_[self.xx.ravel(), self.yy.ravel()]\n",
        "        \n",
        "        #Gráficos a serem mostrados pelo callback\n",
        "        self.fig = plt.figure(figsize=(8, 4), dpi=100)\n",
        "        self.ax1 = self.fig.add_subplot(1, 2, 1)\n",
        "        self.ax1.set_xlim(0, nb_epoch)\n",
        "        self.ax1.set_xlabel('Epoca')#,fontsize=28)\n",
        "        self.ax1.set_ylabel('Perda')#,fontsize=28)\n",
        "        self.ax1.plot([],[],'b',linewidth = 2.0,label = \"Treino\")\n",
        "        self.ax1.grid(True)\n",
        "\n",
        "        self.ax2 = self.fig.add_subplot(1, 2, 2)\n",
        "        self.ax2.set_xlim(Xc[:,0].min(), Xc[:,0].max())\n",
        "        self.ax2.set_ylim(Xc[:,1].min(), Xc[:,1].max())\n",
        "        self.ax2.set_xlabel('Comprimento da Sepala')#,fontsize=28)\n",
        "        self.ax2.set_ylabel('Largura da Sepala')#,fontsize=28)\n",
        "\n",
        "    def on_train_begin(self, logs={}):\n",
        "        display.display(self.fig)\n",
        "        display.clear_output(wait=True)\n",
        "\n",
        "    def on_epoch_end(self, epoch, logs={}):\n",
        "        if 'loss' in logs.keys():\n",
        "            self.loss_hist.append(logs['loss'])\n",
        "            \n",
        "            if epoch%250==0:\n",
        "                self.ax1.plot(np.arange(epoch+1), self.loss_hist, 'b', linewidth = 2.0)\n",
        "                \n",
        "                Z = predict(self.model, torch.from_numpy(self.X_grid).type(torch.FloatTensor))\n",
        "#                 Z = torch.max(self.model(Variable(torch.FloatTensor(self.X_grid))).data, dim=1)[1].numpy()\n",
        "                Z = Z.reshape(self.xx.shape)\n",
        "                \n",
        "                self.ax2.pcolormesh(self.xx, self.yy, Z, cmap=plt.cm.Paired)\n",
        "                colors = np.array(['r','y','b'])\n",
        "                self.ax2.scatter(self.X[:, 0], self.X[:, 1], s=40, c=colors[self.Y], edgecolors='k', cmap=plt.cm.Paired)\n",
        "                \n",
        "                display.display(self.fig)\n",
        "                display.clear_output(wait=True)"
      ],
      "execution_count": 14,
      "outputs": []
    },
    {
      "metadata": {
        "id": "wtdQ9FmAqPx5"
      },
      "cell_type": "markdown",
      "source": [
        "## Treinamento"
      ]
    },
    {
      "metadata": {
        "ExecuteTime": {
          "end_time": "2017-11-24T22:56:04.840289Z",
          "start_time": "2017-11-24T22:56:04.834859Z"
        },
        "id": "2SGMyetvqPx5"
      },
      "cell_type": "code",
      "source": [
        "lr = 0.15\n",
        "\n",
        "optimizer = torch.optim.SGD(model.parameters(), lr=lr)\n",
        "\n",
        "criterion = nn.CrossEntropyLoss()"
      ],
      "execution_count": 81,
      "outputs": []
    },
    {
      "metadata": {
        "id": "t5TeUTkoqPx9"
      },
      "cell_type": "markdown",
      "source": [
        "### Laço principal de treinamento"
      ]
    },
    {
      "metadata": {
        "ExecuteTime": {
          "end_time": "2017-11-24T22:56:23.125460Z",
          "start_time": "2017-11-24T22:56:05.793330Z"
        },
        "scrolled": false,
        "id": "foxIW5cgqPx9",
        "outputId": "f6cae5a2-4eed-4f75-a75b-015b5952dd20",
        "colab": {
          "base_uri": "https://localhost:8080/",
          "height": 402
        }
      },
      "cell_type": "code",
      "source": [
        "batch_size = 150\n",
        "nb_epoch = 3000\n",
        "\n",
        "#Definindo o plotter\n",
        "boundary_plot = BoundaryPlotter(model, Xc, Y, nb_epoch)\n",
        "\n",
        "boundary_plot.on_train_begin()\n",
        "losses = []\n",
        "for i in range(nb_epoch):\n",
        "    # predict da rede\n",
        "    output = model(Variable(X_tensor))\n",
        "\n",
        "    loss = criterion(output, Variable(Y_tensor))\n",
        "\n",
        "    # zero, backpropagation gradient, atualiza param gradiente descendente\n",
        "    optimizer.zero_grad()\n",
        "    loss.backward()\n",
        "    optimizer.step()\n",
        "    \n",
        "    losses.append(loss.data)\n",
        "\n",
        "    boundary_plot.on_epoch_end(i, {'loss': loss.data})\n",
        "    \n",
        "print('Final loss:', loss.data)"
      ],
      "execution_count": 82,
      "outputs": [
        {
          "output_type": "stream",
          "name": "stdout",
          "text": [
            "Final loss: tensor(0.0143)\n"
          ]
        },
        {
          "output_type": "display_data",
          "data": {
            "text/plain": [
              "<Figure size 800x400 with 2 Axes>"
            ],
            "image/png": "[encoded data removed]"
          },
          "metadata": {
            "needs_background": "light"
          }
        }
      ]
    },
    {
      "metadata": {
        "id": "f9HPXeFiqPyD"
      },
      "cell_type": "markdown",
      "source": [
        "## Avaliação"
      ]
    },
    {
      "metadata": {
        "id": "9wmk8Y5PqPyE"
      },
      "cell_type": "markdown",
      "source": [
        "### Imprimindo pesos finais"
      ]
    },
    {
      "metadata": {
        "ExecuteTime": {
          "end_time": "2017-11-24T23:00:11.608903Z",
          "start_time": "2017-11-24T23:00:11.601057Z"
        },
        "scrolled": false,
        "id": "IeUgTxF4qPyF",
        "outputId": "33c74b8d-3240-4c8b-9631-22ba56501091",
        "colab": {
          "base_uri": "https://localhost:8080/"
        }
      },
      "cell_type": "code",
      "source": [
        "for name, w in model.state_dict().items():\n",
        "    print('{:16}{}'.format(name, w.size()))\n",
        "    print(w)"
      ],
      "execution_count": 32,
      "outputs": [
        {
          "output_type": "stream",
          "name": "stdout",
          "text": [
            "dense.0.weight  torch.Size([15, 2])\n",
            "tensor([[ 0.6211, -0.0942],\n",
            "        [-1.9616, -0.3157],\n",
            "        [ 0.6871, -0.4616],\n",
            "        [-1.9770, -0.8574],\n",
            "        [ 0.1499, -0.4236],\n",
            "        [-0.2630,  0.3599],\n",
            "        [-0.5756,  0.3676],\n",
            "        [-0.3878,  0.3678],\n",
            "        [-0.2891,  0.1214],\n",
            "        [ 0.0577,  0.4090],\n",
            "        [ 0.5964, -0.1798],\n",
            "        [-0.1850, -0.3599],\n",
            "        [ 0.8764,  0.5666],\n",
            "        [ 0.2718, -0.6119],\n",
            "        [-0.7711,  0.7104]])\n",
            "dense.0.bias    torch.Size([15])\n",
            "tensor([ 0.3320,  1.8390,  0.5608,  0.2042,  0.4426, -0.1081,  0.9179,  0.5690,\n",
            "         0.4939, -0.5615,  0.3194, -0.4505, -0.1719, -0.1582,  1.1433])\n",
            "dense.2.weight  torch.Size([20, 15])\n",
            "tensor([[ 0.0843, -0.9815, -0.1236,  0.8494, -0.1427, -0.0291,  0.3425, -0.0019,\n",
            "          0.2460, -0.2516, -0.2297, -0.1403,  0.1024,  0.1785,  0.5335],\n",
            "        [-0.1447, -0.6638, -0.1315,  0.6841,  0.0078,  0.0999,  0.4104,  0.3273,\n",
            "          0.2911,  0.0863, -0.1979, -0.1419,  0.3429, -0.1876,  0.3729],\n",
            "        [ 0.0122,  0.0393, -0.0201, -0.1725,  0.0099,  0.2184, -0.1367, -0.0471,\n",
            "          0.0159, -0.0424, -0.0814,  0.0031, -0.2385, -0.0721, -0.1382],\n",
            "        [-0.0084, -0.2447, -0.2003, -0.1117,  0.0270, -0.0357, -0.0737, -0.0136,\n",
            "          0.1132, -0.1467, -0.1260, -0.0376,  0.0164,  0.1406, -0.1779],\n",
            "        [ 0.2324,  0.9923,  0.5143, -0.3899,  0.0885, -0.3665,  0.1076, -0.2193,\n",
            "          0.0641, -0.0688,  0.2933, -0.0596,  0.0471,  0.2419,  0.0440],\n",
            "        [-0.2400, -0.0640, -0.2252, -0.1291, -0.1077,  0.1236,  0.1856, -0.1481,\n",
            "         -0.1834,  0.0105,  0.0270,  0.0896, -0.0521,  0.2237, -0.1407],\n",
            "        [-0.2470,  0.3861,  0.1265, -0.0684,  0.3040, -0.3122, -0.0049,  0.3417,\n",
            "          0.1581,  0.1090,  0.0566,  0.0702, -0.5297, -0.2216,  0.4221],\n",
            "        [ 0.1609,  0.1645, -0.0241,  0.3190, -0.2761, -0.1416, -0.0913,  0.1707,\n",
            "         -0.0342, -0.2091,  0.1126,  0.1990,  0.0228,  0.0048,  0.1715],\n",
            "        [ 0.0033, -0.3173, -0.0811,  0.4875, -0.2482, -0.0476,  0.3037,  0.0975,\n",
            "          0.0790,  0.1962, -0.0600,  0.1565,  0.0824,  0.2654,  0.1989],\n",
            "        [-0.5269,  0.5450, -0.3367,  0.4973, -0.3791,  0.0392,  0.0879,  0.2465,\n",
            "         -0.0331, -0.1239, -0.4775,  0.0479, -0.0468,  0.0915,  0.0356],\n",
            "        [-0.3222, -1.4047, -0.0528,  1.1701,  0.0211,  0.0989,  0.6958,  0.4643,\n",
            "          0.0820, -0.2179, -0.0567, -0.2124,  0.3324, -0.0823,  0.8023],\n",
            "        [-0.1678,  0.0251, -0.2480, -0.0025, -0.1497,  0.0140, -0.1065,  0.1732,\n",
            "         -0.1579, -0.1153, -0.2217, -0.1078,  0.0035, -0.1926, -0.0216],\n",
            "        [-0.0535,  0.2270,  0.1311, -0.1380,  0.0614, -0.1538, -0.2317,  0.1344,\n",
            "          0.1063,  0.0047,  0.1722, -0.0946,  0.1580,  0.0882,  0.1633],\n",
            "        [ 0.2625,  1.0377,  0.5170, -0.5577, -0.1029, -0.2479, -0.0522, -0.0759,\n",
            "         -0.2234, -0.2478,  0.2392, -0.0189, -0.1372,  0.1798, -0.3370],\n",
            "        [-0.0773, -0.1827, -0.1310, -0.1658,  0.0360, -0.1773, -0.0260,  0.1536,\n",
            "         -0.2374,  0.2128, -0.2120,  0.1482,  0.1043,  0.0929, -0.0424],\n",
            "        [-0.1568,  0.0345, -0.2131, -0.2125, -0.0222, -0.1911, -0.1004,  0.1276,\n",
            "         -0.2543,  0.1236, -0.2072, -0.1583, -0.0465,  0.0449, -0.2468],\n",
            "        [-0.0271,  0.1942, -0.2532,  0.0855, -0.0407, -0.1130, -0.2310, -0.0654,\n",
            "          0.0430,  0.1197, -0.0788, -0.1991, -0.0825, -0.0447, -0.0683],\n",
            "        [-0.2419, -0.1388,  0.0179, -0.1299, -0.1440,  0.0460,  0.1001, -0.0726,\n",
            "         -0.0592,  0.0185,  0.0840,  0.2315,  0.0384, -0.1173,  0.1541],\n",
            "        [-0.3504,  0.4766, -0.2528,  0.6457,  0.0555,  0.2632,  0.0184,  0.0335,\n",
            "          0.0236,  0.1349, -0.2648,  0.2262, -0.1522, -0.1527,  0.3096],\n",
            "        [ 0.0424,  0.0277,  0.0166, -0.0376, -0.1365,  0.0937,  0.0258,  0.0228,\n",
            "         -0.2127, -0.1611,  0.0301,  0.1141, -0.0979,  0.1301, -0.2503]])\n",
            "dense.2.bias    torch.Size([20])\n",
            "tensor([ 0.5710,  0.4690,  0.0959,  0.1023, -0.1586,  0.0207,  0.0007,  0.1399,\n",
            "         0.1962,  0.1394,  0.3624, -0.0392,  0.1571,  0.0124, -0.0146, -0.0328,\n",
            "        -0.2542, -0.2372, -0.3330, -0.0830])\n",
            "dense.4.weight  torch.Size([15, 20])\n",
            "tensor([[-7.9620e-02, -1.3789e-01, -1.6645e-01,  1.9541e-01,  3.4613e-01,\n",
            "          1.9490e-01,  3.0849e-01,  1.7645e-01, -2.5372e-02, -9.2316e-02,\n",
            "         -3.1773e-01,  1.7261e-01,  2.5540e-01,  2.4375e-01, -9.7282e-03,\n",
            "         -1.3908e-01,  1.8748e-01, -1.0970e-01, -2.6478e-02, -1.0103e-01],\n",
            "        [-6.4510e-02, -1.7768e-01,  3.7053e-02,  1.2757e-01,  3.2082e-01,\n",
            "          4.6243e-02,  2.2632e-01,  8.8222e-02, -1.2553e-01, -5.0940e-02,\n",
            "         -4.0739e-01, -2.0521e-01, -3.6941e-02,  2.1964e-01,  4.4992e-02,\n",
            "          1.4957e-01, -1.8959e-01,  1.3849e-01, -2.5350e-01,  1.7533e-01],\n",
            "        [-1.5291e-01,  7.8223e-03, -4.6228e-02,  2.0226e-02,  1.5644e-01,\n",
            "          1.4800e-01,  2.1212e-01, -2.1054e-01, -2.4196e-02,  1.8327e-01,\n",
            "         -2.2597e-01, -1.3150e-01, -1.4781e-01,  7.2391e-02, -1.0745e-02,\n",
            "         -1.7884e-01,  2.6060e-02,  1.3909e-01,  2.0601e-01, -1.2342e-01],\n",
            "        [ 8.9575e-01,  8.3228e-01,  5.8728e-02,  1.4831e-01, -2.6409e-01,\n",
            "          6.2990e-02, -4.1922e-01,  4.3226e-02,  1.9438e-01,  7.0166e-01,\n",
            "          1.0806e+00, -1.6873e-01,  2.5304e-02, -4.3704e-01,  9.1851e-02,\n",
            "         -2.1820e-01, -1.4713e-01,  3.2872e-02,  6.5534e-01,  9.0554e-02],\n",
            "        [-6.6515e-02, -1.4990e-01,  1.0705e-01,  2.0610e-01, -1.4573e-02,\n",
            "         -1.6676e-01, -3.2098e-02, -1.1368e-01, -6.0648e-02, -5.9979e-02,\n",
            "         -2.7907e-03, -6.1848e-02, -2.0429e-01, -9.1418e-02, -1.6071e-01,\n",
            "         -1.0451e-01, -1.0249e-01, -5.8058e-02, -2.1888e-01,  9.1288e-02],\n",
            "        [ 5.0934e-01,  2.0841e-01,  1.4739e-01, -8.2653e-02, -1.6066e-02,\n",
            "          4.5667e-02, -2.5820e-01,  1.8383e-01,  2.9009e-01,  3.3127e-01,\n",
            "          5.9897e-01,  9.6314e-02,  1.2029e-01, -1.6194e-01,  2.1900e-01,\n",
            "          1.6569e-01, -8.7676e-02, -1.7538e-01,  2.8212e-01, -2.6999e-02],\n",
            "        [-1.6333e-02,  3.3465e-02, -8.7955e-03, -8.9247e-02,  1.8736e-01,\n",
            "          3.3361e-02, -1.1929e-01,  1.9385e-01, -1.0007e-01, -4.8836e-03,\n",
            "          2.0794e-01, -2.0914e-01, -2.0292e-01, -2.4452e-01,  4.3612e-02,\n",
            "         -1.0834e-01,  2.1163e-01,  2.0163e-01,  2.5693e-01, -8.4222e-02],\n",
            "        [-5.1935e-01, -2.5006e-01, -6.0596e-02, -6.4762e-02,  5.1663e-01,\n",
            "          1.0099e-02,  1.9106e-01, -1.3775e-01,  4.8089e-02, -3.6805e-01,\n",
            "         -4.4967e-01,  4.4489e-02,  1.5750e-01,  2.8771e-01,  6.7786e-02,\n",
            "         -2.1290e-01,  7.7237e-02,  1.7960e-01, -1.2614e-01,  1.4776e-01],\n",
            "        [-2.2131e-01, -1.7463e-02, -3.1299e-02,  1.1477e-01,  1.3842e-01,\n",
            "          1.7903e-01, -2.0406e-01, -1.7606e-01, -1.2773e-01,  1.3259e-01,\n",
            "         -1.0788e-01, -2.0230e-01, -2.0491e-02, -1.7661e-01, -1.4609e-01,\n",
            "         -2.1965e-01,  6.5936e-02,  4.4091e-02, -1.6081e-01, -7.1588e-02],\n",
            "        [-1.0115e-03,  3.2379e-01,  1.7609e-01, -3.9891e-02,  3.5320e-01,\n",
            "         -5.1294e-02,  1.4357e-01,  2.2076e-01, -1.3589e-02,  2.2628e-01,\n",
            "          3.7297e-01, -7.3775e-02,  1.8132e-01,  3.1778e-01,  2.8954e-02,\n",
            "          4.9669e-02, -1.3690e-01, -2.1445e-01,  1.3960e-01,  2.0916e-01],\n",
            "        [-4.9830e-01, -3.6134e-01, -1.8782e-01,  5.2969e-03,  9.4810e-01,\n",
            "         -1.6117e-01,  3.8149e-01,  2.2606e-02, -5.0629e-01, -5.1836e-01,\n",
            "         -1.0597e+00, -1.8605e-01,  3.0373e-01,  1.0010e+00,  6.7282e-02,\n",
            "          2.1145e-01,  1.9394e-01,  5.9846e-03, -5.3281e-01,  2.0193e-01],\n",
            "        [-1.2464e-01, -1.1596e-01, -1.1238e-01,  1.0839e-01,  1.9731e-01,\n",
            "         -2.9031e-02, -1.2959e-01, -1.1823e-01, -1.8238e-01,  3.6415e-02,\n",
            "          9.9537e-02, -2.2190e-03,  1.2053e-02,  4.8761e-02, -3.9060e-02,\n",
            "         -8.9099e-02,  6.3288e-03,  7.3284e-02, -2.0303e-01,  5.6110e-02],\n",
            "        [ 2.6890e-01,  3.8534e-01,  1.9747e-01,  1.6787e-01,  1.9949e-01,\n",
            "          1.1681e-01,  2.8267e-02, -3.8060e-02,  3.9410e-02,  1.2153e-01,\n",
            "          5.1350e-01, -3.2576e-02,  6.5771e-02, -5.4231e-02, -1.8985e-01,\n",
            "          1.1749e-01,  2.5569e-02, -1.6041e-01, -1.9969e-02,  1.0947e-02],\n",
            "        [-1.1236e-01, -8.1144e-02,  4.5792e-02, -1.6824e-01, -2.5515e-02,\n",
            "          1.8945e-01,  1.5382e-01, -6.1755e-02, -2.5955e-01, -1.2153e-01,\n",
            "          6.2051e-02,  1.8144e-01,  1.0277e-01,  1.7134e-01,  1.0363e-01,\n",
            "         -1.5956e-01, -6.9406e-02, -4.1756e-02, -8.8526e-02, -1.0139e-02],\n",
            "        [ 4.6735e-01,  2.6252e-01, -1.8051e-01,  2.1441e-02, -8.5984e-02,\n",
            "          2.6175e-02, -3.7214e-01, -5.9833e-03,  9.7742e-02,  3.8678e-01,\n",
            "          3.4649e-01,  6.1354e-02, -6.0412e-02, -2.7066e-01, -2.2957e-03,\n",
            "          3.5030e-02, -5.9337e-02,  1.4329e-01,  2.4524e-01, -2.1787e-01]])\n",
            "dense.4.bias    torch.Size([15])\n",
            "tensor([ 0.1742,  0.1005, -0.1179,  0.4294,  0.0005,  0.2993,  0.0570,  0.1934,\n",
            "        -0.0796,  0.1855,  0.2692, -0.2066,  0.3776,  0.2002,  0.4368])\n",
            "dense.6.weight  torch.Size([3, 15])\n",
            "tensor([[-0.3023, -0.3097, -0.2436,  1.5261,  0.1139,  0.9027,  0.0942, -0.5834,\n",
            "          0.1302,  0.3901, -1.1653, -0.0451,  0.5909, -0.1269,  0.6632],\n",
            "        [ 0.4177,  0.5962, -0.2498, -1.2459, -0.1641, -0.3841, -0.2531,  0.7481,\n",
            "         -0.2136,  0.1835,  1.5884,  0.0069, -0.1005,  0.2117, -0.5488],\n",
            "        [-0.3631,  0.1149,  0.1582, -0.0645,  0.1009, -0.2195,  0.1496, -0.1491,\n",
            "         -0.2481, -0.5870, -0.5108,  0.0097, -0.4313, -0.0615, -0.2457]])\n",
            "dense.6.bias    torch.Size([3])\n",
            "tensor([ 0.5922,  0.1912, -0.9460])\n"
          ]
        }
      ]
    },
    {
      "metadata": {
        "id": "vbe9fLdFqPyI"
      },
      "cell_type": "markdown",
      "source": [
        "### Avaliação do classificador"
      ]
    },
    {
      "metadata": {
        "ExecuteTime": {
          "end_time": "2017-11-24T23:03:18.751565Z",
          "start_time": "2017-11-24T23:03:18.738772Z"
        },
        "id": "11HpA4w8qPyJ",
        "outputId": "0e58f271-b9bb-4777-ee83-4a4aedd65f36",
        "colab": {
          "base_uri": "https://localhost:8080/"
        }
      },
      "cell_type": "code",
      "source": [
        "Y_hat = predict(model, X_tensor)\n",
        "accuracy = (Y_hat == Y).mean()\n",
        "print() \n",
        "print('Training Accuracy: ', accuracy)"
      ],
      "execution_count": 53,
      "outputs": [
        {
          "output_type": "stream",
          "name": "stdout",
          "text": [
            "\n",
            "Training Accuracy:  0.9866666666666667\n"
          ]
        }
      ]
    },
    {
      "metadata": {
        "id": "vuv5rBJSqPyN"
      },
      "cell_type": "markdown",
      "source": [
        "### Matriz de confusão"
      ]
    },
    {
      "metadata": {
        "ExecuteTime": {
          "end_time": "2017-11-24T23:03:11.553510Z",
          "start_time": "2017-11-24T23:03:11.528223Z"
        },
        "id": "WF5EA25GqPyO",
        "outputId": "fc8b5a44-1ee1-405b-c136-8b797d21dfcc",
        "colab": {
          "base_uri": "https://localhost:8080/",
          "height": 143
        }
      },
      "cell_type": "code",
      "source": [
        "import pandas as pd\n",
        "pd.crosstab(Y_hat, Y)"
      ],
      "execution_count": 34,
      "outputs": [
        {
          "output_type": "execute_result",
          "data": {
            "text/plain": [
              "col_0   0   1\n",
              "row_0        \n",
              "0      75   1\n",
              "1       0  74"
            ],
            "text/html": [
              "\n",
              "  <div id=\"df-968e62c8-36a8-4965-be9f-a98adf9082bc\">\n",
              "    <div class=\"colab-df-container\">\n",
              "      <div>\n",
              "<style scoped>\n",
              "    .dataframe tbody tr th:only-of-type {\n",
              "        vertical-align: middle;\n",
              "    }\n",
              "\n",
              "    .dataframe tbody tr th {\n",
              "        vertical-align: top;\n",
              "    }\n",
              "\n",
              "    .dataframe thead th {\n",
              "        text-align: right;\n",
              "    }\n",
              "</style>\n",
              "<table border=\"1\" class=\"dataframe\">\n",
              "  <thead>\n",
              "    <tr style=\"text-align: right;\">\n",
              "      <th>col_0</th>\n",
              "      <th>0</th>\n",
              "      <th>1</th>\n",
              "    </tr>\n",
              "    <tr>\n",
              "      <th>row_0</th>\n",
              "      <th></th>\n",
              "      <th></th>\n",
              "    </tr>\n",
              "  </thead>\n",
              "  <tbody>\n",
              "    <tr>\n",
              "      <th>0</th>\n",
              "      <td>75</td>\n",
              "      <td>1</td>\n",
              "    </tr>\n",
              "    <tr>\n",
              "      <th>1</th>\n",
              "      <td>0</td>\n",
              "      <td>74</td>\n",
              "    </tr>\n",
              "  </tbody>\n",
              "</table>\n",
              "</div>\n",
              "      <button class=\"colab-df-convert\" onclick=\"convertToInteractive('df-968e62c8-36a8-4965-be9f-a98adf9082bc')\"\n",
              "              title=\"Convert this dataframe to an interactive table.\"\n",
              "              style=\"display:none;\">\n",
              "        \n",
              "  <svg xmlns=\"http://www.w3.org/2000/svg\" height=\"24px\"viewBox=\"0 0 24 24\"\n",
              "       width=\"24px\">\n",
              "    <path d=\"M0 0h24v24H0V0z\" fill=\"none\"/>\n",
              "    <path d=\"M18.56 5.44l.94 2.06.94-2.06 2.06-.94-2.06-.94-.94-2.06-.94 2.06-2.06.94zm-11 1L8.5 8.5l.94-2.06 2.06-.94-2.06-.94L8.5 2.5l-.94 2.06-2.06.94zm10 10l.94 2.06.94-2.06 2.06-.94-2.06-.94-.94-2.06-.94 2.06-2.06.94z\"/><path d=\"M17.41 7.96l-1.37-1.37c-.4-.4-.92-.59-1.43-.59-.52 0-1.04.2-1.43.59L10.3 9.45l-7.72 7.72c-.78.78-.78 2.05 0 2.83L4 21.41c.39.39.9.59 1.41.59.51 0 1.02-.2 1.41-.59l7.78-7.78 2.81-2.81c.8-.78.8-2.07 0-2.86zM5.41 20L4 18.59l7.72-7.72 1.47 1.35L5.41 20z\"/>\n",
              "  </svg>\n",
              "      </button>\n",
              "      \n",
              "  <style>\n",
              "    .colab-df-container {\n",
              "      display:flex;\n",
              "      flex-wrap:wrap;\n",
              "      gap: 12px;\n",
              "    }\n",
              "\n",
              "    .colab-df-convert {\n",
              "      background-color: #E8F0FE;\n",
              "      border: none;\n",
              "      border-radius: 50%;\n",
              "      cursor: pointer;\n",
              "      display: none;\n",
              "      fill: #1967D2;\n",
              "      height: 32px;\n",
              "      padding: 0 0 0 0;\n",
              "      width: 32px;\n",
              "    }\n",
              "\n",
              "    .colab-df-convert:hover {\n",
              "      background-color: #E2EBFA;\n",
              "      box-shadow: 0px 1px 2px rgba(60, 64, 67, 0.3), 0px 1px 3px 1px rgba(60, 64, 67, 0.15);\n",
              "      fill: #174EA6;\n",
              "    }\n",
              "\n",
              "    [theme=dark] .colab-df-convert {\n",
              "      background-color: #3B4455;\n",
              "      fill: #D2E3FC;\n",
              "    }\n",
              "\n",
              "    [theme=dark] .colab-df-convert:hover {\n",
              "      background-color: #434B5C;\n",
              "      box-shadow: 0px 1px 3px 1px rgba(0, 0, 0, 0.15);\n",
              "      filter: drop-shadow(0px 1px 2px rgba(0, 0, 0, 0.3));\n",
              "      fill: #FFFFFF;\n",
              "    }\n",
              "  </style>\n",
              "\n",
              "      <script>\n",
              "        const buttonEl =\n",
              "          document.querySelector('#df-968e62c8-36a8-4965-be9f-a98adf9082bc button.colab-df-convert');\n",
              "        buttonEl.style.display =\n",
              "          google.colab.kernel.accessAllowed ? 'block' : 'none';\n",
              "\n",
              "        async function convertToInteractive(key) {\n",
              "          const element = document.querySelector('#df-968e62c8-36a8-4965-be9f-a98adf9082bc');\n",
              "          const dataTable =\n",
              "            await google.colab.kernel.invokeFunction('convertToInteractive',\n",
              "                                                     [key], {});\n",
              "          if (!dataTable) return;\n",
              "\n",
              "          const docLinkHtml = 'Like what you see? Visit the ' +\n",
              "            '<a target=\"_blank\" href=https://colab.research.google.com/notebooks/data_table.ipynb>data table notebook</a>'\n",
              "            + ' to learn more about interactive tables.';\n",
              "          element.innerHTML = '';\n",
              "          dataTable['output_type'] = 'display_data';\n",
              "          await google.colab.output.renderOutput(dataTable, element);\n",
              "          const docLink = document.createElement('div');\n",
              "          docLink.innerHTML = docLinkHtml;\n",
              "          element.appendChild(docLink);\n",
              "        }\n",
              "      </script>\n",
              "    </div>\n",
              "  </div>\n",
              "  "
            ]
          },
          "metadata": {},
          "execution_count": 34
        }
      ]
    },
    {
      "metadata": {
        "id": "-UlZfJ5QqPyU"
      },
      "cell_type": "markdown",
      "source": [
        "## Atividades"
      ]
    },
    {
      "metadata": {
        "id": "0GTv2_sKqPyW"
      },
      "cell_type": "markdown",
      "source": [
        "### Experimentos:"
      ]
    },
    {
      "metadata": {
        "id": "p-m7IuPzqPyW"
      },
      "cell_type": "markdown",
      "source": [
        "1. Troque o dataset, utilizado. Veja que tem vários para escolher.\n",
        "2. Faça alterações na rede, alterando o número de neurônios, de camadas.\n",
        "3. No lugar da ReLU, coloque Sigmoid e observe a diferença\n",
        "4. O que ocorre quando não se utiliza ativação não linear entre camadas."
      ]
    },
    {
      "metadata": {
        "id": "qT-59-fVqPyX"
      },
      "cell_type": "markdown",
      "source": [
        "## Principais aprendizados"
      ]
    },
    {
      "metadata": {
        "id": "HtWp1NmEqPya"
      },
      "cell_type": "code",
      "source": [],
      "execution_count": null,
      "outputs": []
    }
  ]
}