{
 "cells": [
  {
   "cell_type": "markdown",
   "id": "c6e55629",
   "metadata": {
    "id": "4PHBzchPHif1",
    "papermill": {
     "duration": 0.012146,
     "end_time": "2023-04-18T01:16:55.091835",
     "exception": false,
     "start_time": "2023-04-18T01:16:55.079689",
     "status": "completed"
    },
    "tags": []
   },
   "source": [
    "# Regressão Linear com PyTorch"
   ]
  },
  {
   "cell_type": "markdown",
   "id": "c8839242",
   "metadata": {
    "id": "GujG54RVHif3",
    "papermill": {
     "duration": 0.012109,
     "end_time": "2023-04-18T01:16:55.114305",
     "exception": false,
     "start_time": "2023-04-18T01:16:55.102196",
     "status": "completed"
    },
    "tags": []
   },
   "source": [
    "## Objetivo"
   ]
  },
  {
   "cell_type": "markdown",
   "id": "021a9af6",
   "metadata": {
    "id": "GGxcJJDOHif4",
    "papermill": {
     "duration": 0.013553,
     "end_time": "2023-04-18T01:16:55.137986",
     "exception": false,
     "start_time": "2023-04-18T01:16:55.124433",
     "status": "completed"
    },
    "tags": []
   },
   "source": [
    "Este exemplo utiliza regressão linear para estimar o comprimento das sépalas da íris a partir do seu comprimento das pétalas.\n",
    "Utiliza-se \n",
    "- o cálculo do gradiente automático do PyTorch, porém \n",
    "- a função de perda e \n",
    "- atualização dos parâmetros é feita de forma explícita.\n",
    "- A rede é criada com uma camada nn.Linear()"
   ]
  },
  {
   "cell_type": "markdown",
   "id": "182cc7ff",
   "metadata": {
    "id": "6Q1aL4eOHif5",
    "papermill": {
     "duration": 0.011777,
     "end_time": "2023-04-18T01:16:55.160642",
     "exception": false,
     "start_time": "2023-04-18T01:16:55.148865",
     "status": "completed"
    },
    "tags": []
   },
   "source": [
    "![alt text](https://raw.githubusercontent.com/vcasadei/images/master/RegressaoLinear_Otimizacao.png)"
   ]
  },
  {
   "cell_type": "markdown",
   "id": "29c7674e",
   "metadata": {
    "id": "D-OH95H9Hif6",
    "papermill": {
     "duration": 0.0141,
     "end_time": "2023-04-18T01:16:55.187887",
     "exception": false,
     "start_time": "2023-04-18T01:16:55.173787",
     "status": "completed"
    },
    "tags": []
   },
   "source": [
    "## Importação dos pacotes"
   ]
  },
  {
   "cell_type": "code",
   "execution_count": 1,
   "id": "b28640d0",
   "metadata": {
    "ExecuteTime": {
     "end_time": "2017-11-23T23:50:37.321471Z",
     "start_time": "2017-11-23T23:50:35.620908Z"
    },
    "execution": {
     "iopub.execute_input": "2023-04-18T01:16:55.218071Z",
     "iopub.status.busy": "2023-04-18T01:16:55.216219Z",
     "iopub.status.idle": "2023-04-18T01:16:58.508529Z",
     "shell.execute_reply": "2023-04-18T01:16:58.507397Z"
    },
    "executionInfo": {
     "elapsed": 1365,
     "status": "ok",
     "timestamp": 1625177361448,
     "user": {
      "displayName": "Vitor Casadei",
      "photoUrl": "https://lh3.googleusercontent.com/a-/AOh14Gi_Qc3i7yEtToSZf9tx_rm0RRTInE8NwNIA5CwhEDM=s64",
      "userId": "15557768782438349168"
     },
     "user_tz": 180
    },
    "id": "Rwd6UgfSHif8",
    "outputId": "6f27f9b8-1889-4984-f692-7b3dc60757c8",
    "papermill": {
     "duration": 3.310264,
     "end_time": "2023-04-18T01:16:58.511281",
     "exception": false,
     "start_time": "2023-04-18T01:16:55.201017",
     "status": "completed"
    },
    "tags": []
   },
   "outputs": [
    {
     "data": {
      "text/plain": [
       "<torch._C.Generator at 0x71b68e56fef0>"
      ]
     },
     "execution_count": 1,
     "metadata": {},
     "output_type": "execute_result"
    }
   ],
   "source": [
    "%matplotlib inline\n",
    "import matplotlib.pyplot as plt\n",
    "\n",
    "import numpy as np\n",
    "from sklearn.datasets import load_iris\n",
    "\n",
    "import torch\n",
    "from torch import nn, optim\n",
    "from torch.autograd import Variable\n",
    "\n",
    "torch.manual_seed(1234)"
   ]
  },
  {
   "cell_type": "markdown",
   "id": "1074e3ca",
   "metadata": {
    "id": "tM6s6TDZHigH",
    "papermill": {
     "duration": 0.00989,
     "end_time": "2023-04-18T01:16:58.531639",
     "exception": false,
     "start_time": "2023-04-18T01:16:58.521749",
     "status": "completed"
    },
    "tags": []
   },
   "source": [
    "## Leitura dos dados"
   ]
  },
  {
   "cell_type": "code",
   "execution_count": 2,
   "id": "baab2052",
   "metadata": {
    "ExecuteTime": {
     "end_time": "2017-11-23T23:50:37.352459Z",
     "start_time": "2017-11-23T23:50:37.324344Z"
    },
    "execution": {
     "iopub.execute_input": "2023-04-18T01:16:58.554009Z",
     "iopub.status.busy": "2023-04-18T01:16:58.553397Z",
     "iopub.status.idle": "2023-04-18T01:16:58.568801Z",
     "shell.execute_reply": "2023-04-18T01:16:58.567330Z"
    },
    "executionInfo": {
     "elapsed": 13,
     "status": "ok",
     "timestamp": 1625177361449,
     "user": {
      "displayName": "Vitor Casadei",
      "photoUrl": "https://lh3.googleusercontent.com/a-/AOh14Gi_Qc3i7yEtToSZf9tx_rm0RRTInE8NwNIA5CwhEDM=s64",
      "userId": "15557768782438349168"
     },
     "user_tz": 180
    },
    "id": "e4YFUL0MHigI",
    "outputId": "b1d8d7e2-b934-4d8e-a14f-a5dad53dafc5",
    "papermill": {
     "duration": 0.029958,
     "end_time": "2023-04-18T01:16:58.571797",
     "exception": false,
     "start_time": "2023-04-18T01:16:58.541839",
     "status": "completed"
    },
    "tags": []
   },
   "outputs": [
    {
     "name": "stdout",
     "output_type": "stream",
     "text": [
      "x_train.shape: (50, 1) float32\n",
      "y_train.shape: (50, 1) float32\n",
      "x_train[:5]:\n",
      " [[7. ]\n",
      " [6.4]\n",
      " [6.9]\n",
      " [5.5]\n",
      " [6.5]]\n",
      "y_train[:5]:\n",
      " [[4.7]\n",
      " [4.5]\n",
      " [4.9]\n",
      " [4. ]\n",
      " [4.6]]\n"
     ]
    }
   ],
   "source": [
    "iris = load_iris()\n",
    "data = iris.data[iris.target==1,::2]  # comprimento das sépalas e pétalas, indices 0 e 2\n",
    "\n",
    "x_train = data[:,0:1].astype(np.float32)\n",
    "y_train = data[:,1:2].astype(np.float32)\n",
    "\n",
    "n_samples = x_train.shape[0]\n",
    "print('x_train.shape:',x_train.shape, x_train.dtype)\n",
    "print('y_train.shape:',y_train.shape, y_train.dtype)\n",
    "\n",
    "print('x_train[:5]:\\n', x_train[:5])\n",
    "print('y_train[:5]:\\n', y_train[:5])"
   ]
  },
  {
   "cell_type": "markdown",
   "id": "1c491cc4",
   "metadata": {
    "id": "KiBZegbaHigL",
    "papermill": {
     "duration": 0.010034,
     "end_time": "2023-04-18T01:16:58.592609",
     "exception": false,
     "start_time": "2023-04-18T01:16:58.582575",
     "status": "completed"
    },
    "tags": []
   },
   "source": [
    "### Normalização dos dados"
   ]
  },
  {
   "cell_type": "code",
   "execution_count": 3,
   "id": "208f9df9",
   "metadata": {
    "ExecuteTime": {
     "end_time": "2017-11-23T23:50:37.369738Z",
     "start_time": "2017-11-23T23:50:37.355827Z"
    },
    "execution": {
     "iopub.execute_input": "2023-04-18T01:16:58.614883Z",
     "iopub.status.busy": "2023-04-18T01:16:58.614462Z",
     "iopub.status.idle": "2023-04-18T01:16:58.619696Z",
     "shell.execute_reply": "2023-04-18T01:16:58.618795Z"
    },
    "executionInfo": {
     "elapsed": 205,
     "status": "ok",
     "timestamp": 1625177385699,
     "user": {
      "displayName": "Vitor Casadei",
      "photoUrl": "https://lh3.googleusercontent.com/a-/AOh14Gi_Qc3i7yEtToSZf9tx_rm0RRTInE8NwNIA5CwhEDM=s64",
      "userId": "15557768782438349168"
     },
     "user_tz": 180
    },
    "id": "LXJmFubQHigN",
    "papermill": {
     "duration": 0.018803,
     "end_time": "2023-04-18T01:16:58.621726",
     "exception": false,
     "start_time": "2023-04-18T01:16:58.602923",
     "status": "completed"
    },
    "tags": []
   },
   "outputs": [],
   "source": [
    "x_train -= x_train.min()\n",
    "x_train /= x_train.max()\n",
    "y_train -= y_train.min()\n",
    "y_train /= y_train.max()\n"
   ]
  },
  {
   "cell_type": "code",
   "execution_count": 4,
   "id": "fbbfc8c2",
   "metadata": {
    "execution": {
     "iopub.execute_input": "2023-04-18T01:16:58.644662Z",
     "iopub.status.busy": "2023-04-18T01:16:58.643927Z",
     "iopub.status.idle": "2023-04-18T01:16:58.650056Z",
     "shell.execute_reply": "2023-04-18T01:16:58.648960Z"
    },
    "executionInfo": {
     "elapsed": 231,
     "status": "ok",
     "timestamp": 1625177399856,
     "user": {
      "displayName": "Vitor Casadei",
      "photoUrl": "https://lh3.googleusercontent.com/a-/AOh14Gi_Qc3i7yEtToSZf9tx_rm0RRTInE8NwNIA5CwhEDM=s64",
      "userId": "15557768782438349168"
     },
     "user_tz": 180
    },
    "id": "nYq87NbdHxZF",
    "outputId": "46a89607-8ba1-46d0-b926-383177afb07a",
    "papermill": {
     "duration": 0.019942,
     "end_time": "2023-04-18T01:16:58.652107",
     "exception": false,
     "start_time": "2023-04-18T01:16:58.632165",
     "status": "completed"
    },
    "tags": []
   },
   "outputs": [
    {
     "name": "stdout",
     "output_type": "stream",
     "text": [
      "x_train[:5]:\n",
      " [[1.        ]\n",
      " [0.71428573]\n",
      " [0.952381  ]\n",
      " [0.28571424]\n",
      " [0.7619048 ]]\n",
      "y_train[:5]:\n",
      " [[0.80952376]\n",
      " [0.71428573]\n",
      " [0.90476197]\n",
      " [0.4761905 ]\n",
      " [0.7619048 ]]\n"
     ]
    }
   ],
   "source": [
    "print('x_train[:5]:\\n', x_train[:5])\n",
    "print('y_train[:5]:\\n', y_train[:5])"
   ]
  },
  {
   "cell_type": "code",
   "execution_count": 5,
   "id": "1e5f71e7",
   "metadata": {
    "ExecuteTime": {
     "end_time": "2017-11-23T23:50:37.381683Z",
     "start_time": "2017-11-23T23:50:37.375245Z"
    },
    "execution": {
     "iopub.execute_input": "2023-04-18T01:16:58.676619Z",
     "iopub.status.busy": "2023-04-18T01:16:58.675873Z",
     "iopub.status.idle": "2023-04-18T01:16:58.680642Z",
     "shell.execute_reply": "2023-04-18T01:16:58.679795Z"
    },
    "executionInfo": {
     "elapsed": 200,
     "status": "ok",
     "timestamp": 1625177409193,
     "user": {
      "displayName": "Vitor Casadei",
      "photoUrl": "https://lh3.googleusercontent.com/a-/AOh14Gi_Qc3i7yEtToSZf9tx_rm0RRTInE8NwNIA5CwhEDM=s64",
      "userId": "15557768782438349168"
     },
     "user_tz": 180
    },
    "id": "epxtUveAHigP",
    "papermill": {
     "duration": 0.020339,
     "end_time": "2023-04-18T01:16:58.682753",
     "exception": false,
     "start_time": "2023-04-18T01:16:58.662414",
     "status": "completed"
    },
    "tags": []
   },
   "outputs": [],
   "source": [
    "x_train_bias = np.hstack([np.ones(shape=(n_samples,1)), x_train])"
   ]
  },
  {
   "cell_type": "code",
   "execution_count": 6,
   "id": "58cc918b",
   "metadata": {
    "execution": {
     "iopub.execute_input": "2023-04-18T01:16:58.705736Z",
     "iopub.status.busy": "2023-04-18T01:16:58.705000Z",
     "iopub.status.idle": "2023-04-18T01:16:58.712512Z",
     "shell.execute_reply": "2023-04-18T01:16:58.711648Z"
    },
    "executionInfo": {
     "elapsed": 224,
     "status": "ok",
     "timestamp": 1625177435828,
     "user": {
      "displayName": "Vitor Casadei",
      "photoUrl": "https://lh3.googleusercontent.com/a-/AOh14Gi_Qc3i7yEtToSZf9tx_rm0RRTInE8NwNIA5CwhEDM=s64",
      "userId": "15557768782438349168"
     },
     "user_tz": 180
    },
    "id": "AgObmWFjH5x7",
    "outputId": "e67d0bf7-d653-4253-c3a0-a53eab0d6ba8",
    "papermill": {
     "duration": 0.021272,
     "end_time": "2023-04-18T01:16:58.714565",
     "exception": false,
     "start_time": "2023-04-18T01:16:58.693293",
     "status": "completed"
    },
    "tags": []
   },
   "outputs": [
    {
     "data": {
      "text/plain": [
       "array([[1.        , 1.        ],\n",
       "       [1.        , 0.71428573],\n",
       "       [1.        , 0.95238101],\n",
       "       [1.        , 0.28571424],\n",
       "       [1.        , 0.76190478],\n",
       "       [1.        , 0.38095227],\n",
       "       [1.        , 0.66666675],\n",
       "       [1.        , 0.        ],\n",
       "       [1.        , 0.80952376],\n",
       "       [1.        , 0.14285702],\n",
       "       [1.        , 0.047619  ],\n",
       "       [1.        , 0.47619051],\n",
       "       [1.        , 0.52380949],\n",
       "       [1.        , 0.57142848],\n",
       "       [1.        , 0.33333325],\n",
       "       [1.        , 0.85714275],\n",
       "       [1.        , 0.33333325],\n",
       "       [1.        , 0.42857149],\n",
       "       [1.        , 0.61904752],\n",
       "       [1.        , 0.33333325],\n",
       "       [1.        , 0.47619051],\n",
       "       [1.        , 0.57142848],\n",
       "       [1.        , 0.66666675],\n",
       "       [1.        , 0.57142848],\n",
       "       [1.        , 0.71428573],\n",
       "       [1.        , 0.80952376],\n",
       "       [1.        , 0.90476197],\n",
       "       [1.        , 0.85714275],\n",
       "       [1.        , 0.52380949],\n",
       "       [1.        , 0.38095227],\n",
       "       [1.        , 0.28571424],\n",
       "       [1.        , 0.28571424],\n",
       "       [1.        , 0.42857149],\n",
       "       [1.        , 0.52380949],\n",
       "       [1.        , 0.23809525],\n",
       "       [1.        , 0.52380949],\n",
       "       [1.        , 0.85714275],\n",
       "       [1.        , 0.66666675],\n",
       "       [1.        , 0.33333325],\n",
       "       [1.        , 0.28571424],\n",
       "       [1.        , 0.28571424],\n",
       "       [1.        , 0.57142848],\n",
       "       [1.        , 0.42857149],\n",
       "       [1.        , 0.047619  ],\n",
       "       [1.        , 0.33333325],\n",
       "       [1.        , 0.38095227],\n",
       "       [1.        , 0.38095227],\n",
       "       [1.        , 0.61904752],\n",
       "       [1.        , 0.09523801],\n",
       "       [1.        , 0.38095227]])"
      ]
     },
     "execution_count": 6,
     "metadata": {},
     "output_type": "execute_result"
    }
   ],
   "source": [
    "x_train_bias"
   ]
  },
  {
   "cell_type": "code",
   "execution_count": 7,
   "id": "8794018f",
   "metadata": {
    "execution": {
     "iopub.execute_input": "2023-04-18T01:16:58.737552Z",
     "iopub.status.busy": "2023-04-18T01:16:58.737106Z",
     "iopub.status.idle": "2023-04-18T01:16:58.743560Z",
     "shell.execute_reply": "2023-04-18T01:16:58.742141Z"
    },
    "executionInfo": {
     "elapsed": 233,
     "status": "ok",
     "timestamp": 1625177501302,
     "user": {
      "displayName": "Vitor Casadei",
      "photoUrl": "https://lh3.googleusercontent.com/a-/AOh14Gi_Qc3i7yEtToSZf9tx_rm0RRTInE8NwNIA5CwhEDM=s64",
      "userId": "15557768782438349168"
     },
     "user_tz": 180
    },
    "id": "7seVsEbJIHb3",
    "outputId": "ef3ceea2-2268-4071-a131-fbbebfe1b2ff",
    "papermill": {
     "duration": 0.020619,
     "end_time": "2023-04-18T01:16:58.745769",
     "exception": false,
     "start_time": "2023-04-18T01:16:58.725150",
     "status": "completed"
    },
    "tags": []
   },
   "outputs": [
    {
     "name": "stdout",
     "output_type": "stream",
     "text": [
      "x_train_bias.shape: (50, 2) float64\n"
     ]
    }
   ],
   "source": [
    "print('x_train_bias.shape:',x_train_bias.shape, x_train_bias.dtype)"
   ]
  },
  {
   "cell_type": "code",
   "execution_count": 8,
   "id": "72d475aa",
   "metadata": {
    "ExecuteTime": {
     "end_time": "2017-11-23T23:50:37.396626Z",
     "start_time": "2017-11-23T23:50:37.389139Z"
    },
    "execution": {
     "iopub.execute_input": "2023-04-18T01:16:58.769594Z",
     "iopub.status.busy": "2023-04-18T01:16:58.768396Z",
     "iopub.status.idle": "2023-04-18T01:16:58.867913Z",
     "shell.execute_reply": "2023-04-18T01:16:58.866620Z"
    },
    "executionInfo": {
     "elapsed": 212,
     "status": "ok",
     "timestamp": 1625177523036,
     "user": {
      "displayName": "Vitor Casadei",
      "photoUrl": "https://lh3.googleusercontent.com/a-/AOh14Gi_Qc3i7yEtToSZf9tx_rm0RRTInE8NwNIA5CwhEDM=s64",
      "userId": "15557768782438349168"
     },
     "user_tz": 180
    },
    "id": "3Enuu3LxHigR",
    "outputId": "58c1b2a3-0c3c-4b80-8334-2fcd93d31564",
    "papermill": {
     "duration": 0.113701,
     "end_time": "2023-04-18T01:16:58.870239",
     "exception": false,
     "start_time": "2023-04-18T01:16:58.756538",
     "status": "completed"
    },
    "tags": []
   },
   "outputs": [
    {
     "name": "stdout",
     "output_type": "stream",
     "text": [
      "tensor([[0.8095],\n",
      "        [0.7143],\n",
      "        [0.9048],\n",
      "        [0.4762],\n",
      "        [0.7619],\n",
      "        [0.7143],\n",
      "        [0.8095],\n",
      "        [0.1429],\n",
      "        [0.7619],\n",
      "        [0.4286],\n",
      "        [0.2381],\n",
      "        [0.5714],\n",
      "        [0.4762],\n",
      "        [0.8095],\n",
      "        [0.2857],\n",
      "        [0.6667],\n",
      "        [0.7143],\n",
      "        [0.5238],\n",
      "        [0.7143],\n",
      "        [0.4286],\n",
      "        [0.8571],\n",
      "        [0.4762],\n",
      "        [0.9048],\n",
      "        [0.8095],\n",
      "        [0.6190],\n",
      "        [0.6667],\n",
      "        [0.8571],\n",
      "        [0.9524],\n",
      "        [0.7143],\n",
      "        [0.2381],\n",
      "        [0.3810],\n",
      "        [0.3333],\n",
      "        [0.4286],\n",
      "        [1.0000],\n",
      "        [0.7143],\n",
      "        [0.7143],\n",
      "        [0.8095],\n",
      "        [0.6667],\n",
      "        [0.5238],\n",
      "        [0.4762],\n",
      "        [0.6667],\n",
      "        [0.7619],\n",
      "        [0.4762],\n",
      "        [0.1429],\n",
      "        [0.5714],\n",
      "        [0.5714],\n",
      "        [0.5714],\n",
      "        [0.6190],\n",
      "        [0.0000],\n",
      "        [0.5238]])\n"
     ]
    }
   ],
   "source": [
    "x_train_bias = torch.FloatTensor(x_train_bias)\n",
    "y_train      = torch.FloatTensor(y_train)\n",
    "print(y_train)"
   ]
  },
  {
   "cell_type": "markdown",
   "id": "a9fd7419",
   "metadata": {
    "id": "35kUVzdrHigU",
    "papermill": {
     "duration": 0.010832,
     "end_time": "2023-04-18T01:16:58.891784",
     "exception": false,
     "start_time": "2023-04-18T01:16:58.880952",
     "status": "completed"
    },
    "tags": []
   },
   "source": [
    "## Model"
   ]
  },
  {
   "cell_type": "markdown",
   "id": "6b04f1e4",
   "metadata": {
    "id": "8nv8uX7uHigU",
    "papermill": {
     "duration": 0.010421,
     "end_time": "2023-04-18T01:16:58.913064",
     "exception": false,
     "start_time": "2023-04-18T01:16:58.902643",
     "status": "completed"
    },
    "tags": []
   },
   "source": [
    "![alt text](https://raw.githubusercontent.com/vcasadei/images/master/RegressaoLinearNeuronio.png)"
   ]
  },
  {
   "cell_type": "code",
   "execution_count": 9,
   "id": "43ea28ab",
   "metadata": {
    "ExecuteTime": {
     "end_time": "2017-11-23T23:50:37.403510Z",
     "start_time": "2017-11-23T23:50:37.399234Z"
    },
    "execution": {
     "iopub.execute_input": "2023-04-18T01:16:58.936941Z",
     "iopub.status.busy": "2023-04-18T01:16:58.935642Z",
     "iopub.status.idle": "2023-04-18T01:16:58.947533Z",
     "shell.execute_reply": "2023-04-18T01:16:58.946280Z"
    },
    "executionInfo": {
     "elapsed": 221,
     "status": "ok",
     "timestamp": 1625177618294,
     "user": {
      "displayName": "Vitor Casadei",
      "photoUrl": "https://lh3.googleusercontent.com/a-/AOh14Gi_Qc3i7yEtToSZf9tx_rm0RRTInE8NwNIA5CwhEDM=s64",
      "userId": "15557768782438349168"
     },
     "user_tz": 180
    },
    "id": "Ngq9EEi8HigV",
    "papermill": {
     "duration": 0.026429,
     "end_time": "2023-04-18T01:16:58.950166",
     "exception": false,
     "start_time": "2023-04-18T01:16:58.923737",
     "status": "completed"
    },
    "tags": []
   },
   "outputs": [],
   "source": [
    "model = torch.nn.Linear(in_features=2, out_features=1, bias=False)"
   ]
  },
  {
   "cell_type": "markdown",
   "id": "23acbaac",
   "metadata": {
    "id": "fz0E6uU2HigY",
    "papermill": {
     "duration": 0.010293,
     "end_time": "2023-04-18T01:16:58.971289",
     "exception": false,
     "start_time": "2023-04-18T01:16:58.960996",
     "status": "completed"
    },
    "tags": []
   },
   "source": [
    "### Verificando a inicialização dos parâmetros"
   ]
  },
  {
   "cell_type": "code",
   "execution_count": 10,
   "id": "0b537b37",
   "metadata": {
    "ExecuteTime": {
     "end_time": "2017-11-23T23:50:37.418969Z",
     "start_time": "2017-11-23T23:50:37.409713Z"
    },
    "execution": {
     "iopub.execute_input": "2023-04-18T01:16:58.994209Z",
     "iopub.status.busy": "2023-04-18T01:16:58.993778Z",
     "iopub.status.idle": "2023-04-18T01:16:59.003613Z",
     "shell.execute_reply": "2023-04-18T01:16:59.002662Z"
    },
    "executionInfo": {
     "elapsed": 5,
     "status": "ok",
     "timestamp": 1625177689418,
     "user": {
      "displayName": "Vitor Casadei",
      "photoUrl": "https://lh3.googleusercontent.com/a-/AOh14Gi_Qc3i7yEtToSZf9tx_rm0RRTInE8NwNIA5CwhEDM=s64",
      "userId": "15557768782438349168"
     },
     "user_tz": 180
    },
    "id": "aKnVpTrnHigZ",
    "outputId": "761fcf6c-0d13-4b2a-815d-80977e2a15b5",
    "papermill": {
     "duration": 0.023662,
     "end_time": "2023-04-18T01:16:59.005614",
     "exception": false,
     "start_time": "2023-04-18T01:16:58.981952",
     "status": "completed"
    },
    "tags": []
   },
   "outputs": [
    {
     "name": "stderr",
     "output_type": "stream",
     "text": [
      "/opt/conda/lib/python3.7/site-packages/ipykernel_launcher.py:2: UserWarning: nn.init.uniform is now deprecated in favor of nn.init.uniform_.\n",
      "  \n"
     ]
    },
    {
     "data": {
      "text/plain": [
       "Parameter containing:\n",
       "tensor([[-0.0480, -0.0267]], requires_grad=True)"
      ]
     },
     "execution_count": 10,
     "metadata": {},
     "output_type": "execute_result"
    }
   ],
   "source": [
    "model.weight.data = torch.zeros(1,2)\n",
    "torch.nn.init.uniform(model.weight.data, -0.1, 0.1)\n",
    "model.weight"
   ]
  },
  {
   "cell_type": "markdown",
   "id": "e6874581",
   "metadata": {
    "id": "mq22EwyFHigc",
    "papermill": {
     "duration": 0.010401,
     "end_time": "2023-04-18T01:16:59.026872",
     "exception": false,
     "start_time": "2023-04-18T01:16:59.016471",
     "status": "completed"
    },
    "tags": []
   },
   "source": [
    "### Testando o predict da rede"
   ]
  },
  {
   "cell_type": "code",
   "execution_count": 11,
   "id": "a2555a22",
   "metadata": {
    "ExecuteTime": {
     "end_time": "2017-11-23T23:50:37.497945Z",
     "start_time": "2017-11-23T23:50:37.422209Z"
    },
    "execution": {
     "iopub.execute_input": "2023-04-18T01:16:59.050904Z",
     "iopub.status.busy": "2023-04-18T01:16:59.049557Z",
     "iopub.status.idle": "2023-04-18T01:16:59.059413Z",
     "shell.execute_reply": "2023-04-18T01:16:59.058348Z"
    },
    "executionInfo": {
     "elapsed": 221,
     "status": "ok",
     "timestamp": 1625177748542,
     "user": {
      "displayName": "Vitor Casadei",
      "photoUrl": "https://lh3.googleusercontent.com/a-/AOh14Gi_Qc3i7yEtToSZf9tx_rm0RRTInE8NwNIA5CwhEDM=s64",
      "userId": "15557768782438349168"
     },
     "user_tz": 180
    },
    "id": "dyCO8PL_Hige",
    "outputId": "600803f5-0466-4ca9-fba1-ed8cce354a19",
    "papermill": {
     "duration": 0.023916,
     "end_time": "2023-04-18T01:16:59.061517",
     "exception": false,
     "start_time": "2023-04-18T01:16:59.037601",
     "status": "completed"
    },
    "tags": []
   },
   "outputs": [
    {
     "data": {
      "text/plain": [
       "tensor([[1., 1.],\n",
       "        [1., 1.],\n",
       "        [1., 1.],\n",
       "        [1., 1.],\n",
       "        [1., 1.]])"
      ]
     },
     "execution_count": 11,
     "metadata": {},
     "output_type": "execute_result"
    }
   ],
   "source": [
    "xx = torch.ones((5,2))\n",
    "xx"
   ]
  },
  {
   "cell_type": "code",
   "execution_count": 12,
   "id": "c1fd9dbc",
   "metadata": {
    "execution": {
     "iopub.execute_input": "2023-04-18T01:16:59.086289Z",
     "iopub.status.busy": "2023-04-18T01:16:59.085144Z",
     "iopub.status.idle": "2023-04-18T01:16:59.109397Z",
     "shell.execute_reply": "2023-04-18T01:16:59.108029Z"
    },
    "executionInfo": {
     "elapsed": 4,
     "status": "ok",
     "timestamp": 1625177796173,
     "user": {
      "displayName": "Vitor Casadei",
      "photoUrl": "https://lh3.googleusercontent.com/a-/AOh14Gi_Qc3i7yEtToSZf9tx_rm0RRTInE8NwNIA5CwhEDM=s64",
      "userId": "15557768782438349168"
     },
     "user_tz": 180
    },
    "id": "kpxZmYMsJF7F",
    "outputId": "537d9a22-7365-4bb0-a660-b5a77786de15",
    "papermill": {
     "duration": 0.039197,
     "end_time": "2023-04-18T01:16:59.111649",
     "exception": false,
     "start_time": "2023-04-18T01:16:59.072452",
     "status": "completed"
    },
    "tags": []
   },
   "outputs": [
    {
     "data": {
      "text/plain": [
       "tensor([[-0.0747],\n",
       "        [-0.0747],\n",
       "        [-0.0747],\n",
       "        [-0.0747],\n",
       "        [-0.0747]], grad_fn=<MmBackward0>)"
      ]
     },
     "execution_count": 12,
     "metadata": {},
     "output_type": "execute_result"
    }
   ],
   "source": [
    "model(Variable(xx))"
   ]
  },
  {
   "cell_type": "markdown",
   "id": "1d9cb750",
   "metadata": {
    "id": "llozQQShHigg",
    "papermill": {
     "duration": 0.010714,
     "end_time": "2023-04-18T01:16:59.133403",
     "exception": false,
     "start_time": "2023-04-18T01:16:59.122689",
     "status": "completed"
    },
    "tags": []
   },
   "source": [
    "## Treinamento"
   ]
  },
  {
   "cell_type": "code",
   "execution_count": 13,
   "id": "183cbfa9",
   "metadata": {
    "ExecuteTime": {
     "end_time": "2017-11-23T23:50:37.534983Z",
     "start_time": "2017-11-23T23:50:37.501215Z"
    },
    "execution": {
     "iopub.execute_input": "2023-04-18T01:16:59.157475Z",
     "iopub.status.busy": "2023-04-18T01:16:59.156971Z",
     "iopub.status.idle": "2023-04-18T01:16:59.211321Z",
     "shell.execute_reply": "2023-04-18T01:16:59.209883Z"
    },
    "executionInfo": {
     "elapsed": 216,
     "status": "ok",
     "timestamp": 1625177958125,
     "user": {
      "displayName": "Vitor Casadei",
      "photoUrl": "https://lh3.googleusercontent.com/a-/AOh14Gi_Qc3i7yEtToSZf9tx_rm0RRTInE8NwNIA5CwhEDM=s64",
      "userId": "15557768782438349168"
     },
     "user_tz": 180
    },
    "id": "GEY2W_eaHigh",
    "outputId": "c9b22f26-990e-4bc7-f094-ba0036d6f515",
    "papermill": {
     "duration": 0.070179,
     "end_time": "2023-04-18T01:16:59.214528",
     "exception": false,
     "start_time": "2023-04-18T01:16:59.144349",
     "status": "completed"
    },
    "tags": []
   },
   "outputs": [
    {
     "name": "stdout",
     "output_type": "stream",
     "text": [
      "loss: 0.4884517\n",
      "loss: 0.061238233\n",
      "loss: 0.03248372\n",
      "loss: 0.029806472\n",
      "loss: 0.028904334\n",
      "loss: 0.028185003\n",
      "loss: 0.027538426\n",
      "loss: 0.026951823\n",
      "loss: 0.026419273\n",
      "loss: 0.025935767\n",
      "loss: 0.025496798\n",
      "loss: 0.025098253\n",
      "loss: 0.02473642\n",
      "loss: 0.0244079\n",
      "loss: 0.024109647\n",
      "loss: 0.023838855\n",
      "loss: 0.023593009\n",
      "loss: 0.023369798\n",
      "loss: 0.02316715\n",
      "loss: 0.022983162\n",
      "Epoch[20/100], loss: 0.022983\n",
      "loss: 0.022816122\n",
      "loss: 0.022664463\n",
      "loss: 0.022526773\n",
      "loss: 0.022401761\n",
      "loss: 0.022288265\n",
      "loss: 0.022185221\n",
      "loss: 0.02209167\n",
      "loss: 0.022006733\n",
      "loss: 0.021929614\n",
      "loss: 0.021859605\n",
      "loss: 0.02179604\n",
      "loss: 0.021738332\n",
      "loss: 0.021685934\n",
      "loss: 0.021638365\n",
      "loss: 0.021595178\n",
      "loss: 0.021555966\n",
      "loss: 0.021520365\n",
      "loss: 0.021488044\n",
      "loss: 0.021458704\n",
      "loss: 0.021432059\n",
      "Epoch[40/100], loss: 0.021432\n",
      "loss: 0.021407869\n",
      "loss: 0.02138591\n",
      "loss: 0.021365972\n",
      "loss: 0.02134787\n",
      "loss: 0.021331435\n",
      "loss: 0.021316513\n",
      "loss: 0.021302966\n",
      "loss: 0.02129067\n",
      "loss: 0.021279499\n",
      "loss: 0.021269362\n",
      "loss: 0.02126016\n",
      "loss: 0.021251803\n",
      "loss: 0.021244213\n",
      "loss: 0.021237329\n",
      "loss: 0.021231074\n",
      "loss: 0.021225395\n",
      "loss: 0.02122024\n",
      "loss: 0.021215564\n",
      "loss: 0.021211311\n",
      "loss: 0.021207454\n",
      "Epoch[60/100], loss: 0.021207\n",
      "loss: 0.021203952\n",
      "loss: 0.02120077\n",
      "loss: 0.021197883\n",
      "loss: 0.021195265\n",
      "loss: 0.021192882\n",
      "loss: 0.021190722\n",
      "loss: 0.021188762\n",
      "loss: 0.02118698\n",
      "loss: 0.021185363\n",
      "loss: 0.021183899\n",
      "loss: 0.021182563\n",
      "loss: 0.02118135\n",
      "loss: 0.021180253\n",
      "loss: 0.021179257\n",
      "loss: 0.021178348\n",
      "loss: 0.021177528\n",
      "loss: 0.021176782\n",
      "loss: 0.021176105\n",
      "loss: 0.021175489\n",
      "loss: 0.021174932\n",
      "Epoch[80/100], loss: 0.021175\n",
      "loss: 0.021174425\n",
      "loss: 0.021173963\n",
      "loss: 0.021173544\n",
      "loss: 0.021173162\n",
      "loss: 0.02117282\n",
      "loss: 0.021172509\n",
      "loss: 0.021172225\n",
      "loss: 0.021171968\n",
      "loss: 0.021171732\n",
      "loss: 0.021171518\n",
      "loss: 0.021171326\n",
      "loss: 0.02117115\n",
      "loss: 0.02117099\n",
      "loss: 0.021170847\n",
      "loss: 0.021170713\n",
      "loss: 0.021170598\n",
      "loss: 0.021170488\n",
      "loss: 0.021170389\n",
      "loss: 0.021170301\n",
      "loss: 0.021170221\n",
      "Epoch[100/100], loss: 0.021170\n"
     ]
    }
   ],
   "source": [
    "num_epochs = 100\n",
    "learning_rate = 0.5\n",
    "w0_list = []\n",
    "w1_list = []\n",
    "for epoch in range(num_epochs):\n",
    "    inputs = Variable(x_train_bias)\n",
    "    target = Variable(y_train)\n",
    "\n",
    "    # forward - predict\n",
    "    out = model(inputs)\n",
    "\n",
    "    #loss cálculo da função de perda\n",
    "    loss = torch.pow(out - target, 2).mean()\n",
    "    print('loss:',loss.data.numpy())\n",
    "    \n",
    "    # backward propagation - cálculo gradiente\n",
    "    loss.backward()\n",
    "    \n",
    "    # gradiente descendente\n",
    "    model.weight.data = model.weight.data - learning_rate * model.weight.grad.data\n",
    "    \n",
    "    w0_list.append(model.weight.data[0][0].item())\n",
    "    w1_list.append(model.weight.data[0][1].item())\n",
    "\n",
    "    # zeragem parâmetros próximo cálculo do gradiente\n",
    "    model.weight.grad.data.zero_()\n",
    "\n",
    "    # verbose\n",
    "    if (epoch+1) % 20 == 0:\n",
    "        print('Epoch[{}/{}], loss: {:.6f}'\n",
    "              .format(epoch+1, num_epochs, loss.data))"
   ]
  },
  {
   "cell_type": "markdown",
   "id": "70f88489",
   "metadata": {
    "heading_collapsed": true,
    "id": "OyUB8WAmHigk",
    "papermill": {
     "duration": 0.010903,
     "end_time": "2023-04-18T01:16:59.236750",
     "exception": false,
     "start_time": "2023-04-18T01:16:59.225847",
     "status": "completed"
    },
    "tags": []
   },
   "source": [
    "## Avaliação"
   ]
  },
  {
   "cell_type": "code",
   "execution_count": 14,
   "id": "517ba74e",
   "metadata": {
    "ExecuteTime": {
     "end_time": "2017-11-23T23:50:37.785652Z",
     "start_time": "2017-11-23T23:50:37.538639Z"
    },
    "execution": {
     "iopub.execute_input": "2023-04-18T01:16:59.261663Z",
     "iopub.status.busy": "2023-04-18T01:16:59.260550Z",
     "iopub.status.idle": "2023-04-18T01:16:59.468232Z",
     "shell.execute_reply": "2023-04-18T01:16:59.467051Z"
    },
    "executionInfo": {
     "elapsed": 383,
     "status": "ok",
     "timestamp": 1625178002242,
     "user": {
      "displayName": "Vitor Casadei",
      "photoUrl": "https://lh3.googleusercontent.com/a-/AOh14Gi_Qc3i7yEtToSZf9tx_rm0RRTInE8NwNIA5CwhEDM=s64",
      "userId": "15557768782438349168"
     },
     "user_tz": 180
    },
    "hidden": true,
    "id": "9ire-2nCHigl",
    "outputId": "4be24157-d47b-4b62-a0b2-99fd55f9787f",
    "papermill": {
     "duration": 0.222661,
     "end_time": "2023-04-18T01:16:59.470634",
     "exception": false,
     "start_time": "2023-04-18T01:16:59.247973",
     "status": "completed"
    },
    "tags": []
   },
   "outputs": [
    {
     "data": {
      "image/png": "[encoded data removed]",
      "text/plain": [
       "<Figure size 640x480 with 1 Axes>"
      ]
     },
     "metadata": {},
     "output_type": "display_data"
    }
   ],
   "source": [
    "y_pred = model(Variable(x_train_bias))\n",
    "plt.plot(x_train, y_train.numpy(), 'ro', label='Original data')\n",
    "plt.plot(x_train, y_pred.data.numpy(), 'kx-', label='Fitting Line')\n",
    "plt.show()"
   ]
  },
  {
   "cell_type": "markdown",
   "id": "d17b00aa",
   "metadata": {
    "hidden": true,
    "id": "-jQncN7PHigp",
    "papermill": {
     "duration": 0.0113,
     "end_time": "2023-04-18T01:16:59.493566",
     "exception": false,
     "start_time": "2023-04-18T01:16:59.482266",
     "status": "completed"
    },
    "tags": []
   },
   "source": [
    "### Acessando os parâmetros"
   ]
  },
  {
   "cell_type": "code",
   "execution_count": 15,
   "id": "2a338d98",
   "metadata": {
    "ExecuteTime": {
     "end_time": "2017-11-23T23:50:37.797767Z",
     "start_time": "2017-11-23T23:50:37.787839Z"
    },
    "execution": {
     "iopub.execute_input": "2023-04-18T01:16:59.518292Z",
     "iopub.status.busy": "2023-04-18T01:16:59.517875Z",
     "iopub.status.idle": "2023-04-18T01:16:59.526461Z",
     "shell.execute_reply": "2023-04-18T01:16:59.525342Z"
    },
    "executionInfo": {
     "elapsed": 297,
     "status": "ok",
     "timestamp": 1625178006654,
     "user": {
      "displayName": "Vitor Casadei",
      "photoUrl": "https://lh3.googleusercontent.com/a-/AOh14Gi_Qc3i7yEtToSZf9tx_rm0RRTInE8NwNIA5CwhEDM=s64",
      "userId": "15557768782438349168"
     },
     "user_tz": 180
    },
    "hidden": true,
    "id": "byxPWYlFHigq",
    "outputId": "9f50e00f-5e1f-44fd-d611-6938f65f568f",
    "papermill": {
     "duration": 0.0238,
     "end_time": "2023-04-18T01:16:59.528801",
     "exception": false,
     "start_time": "2023-04-18T01:16:59.505001",
     "status": "completed"
    },
    "tags": []
   },
   "outputs": [
    {
     "data": {
      "text/plain": [
       "OrderedDict([('weight', tensor([[0.2631, 0.6830]]))])"
      ]
     },
     "execution_count": 15,
     "metadata": {},
     "output_type": "execute_result"
    }
   ],
   "source": [
    "w_dic = model.state_dict()\n",
    "w_dic"
   ]
  },
  {
   "cell_type": "markdown",
   "id": "4d2382b5",
   "metadata": {
    "hidden": true,
    "id": "mGK_1QtNHigw",
    "papermill": {
     "duration": 0.011378,
     "end_time": "2023-04-18T01:16:59.551897",
     "exception": false,
     "start_time": "2023-04-18T01:16:59.540519",
     "status": "completed"
    },
    "tags": []
   },
   "source": [
    "### Parâmetros ótimos, solução analítica"
   ]
  },
  {
   "cell_type": "code",
   "execution_count": 16,
   "id": "4c6183aa",
   "metadata": {
    "ExecuteTime": {
     "end_time": "2017-11-23T23:50:37.809980Z",
     "start_time": "2017-11-23T23:50:37.800833Z"
    },
    "execution": {
     "iopub.execute_input": "2023-04-18T01:16:59.577923Z",
     "iopub.status.busy": "2023-04-18T01:16:59.576623Z",
     "iopub.status.idle": "2023-04-18T01:16:59.607221Z",
     "shell.execute_reply": "2023-04-18T01:16:59.605783Z"
    },
    "executionInfo": {
     "elapsed": 213,
     "status": "ok",
     "timestamp": 1625178024442,
     "user": {
      "displayName": "Vitor Casadei",
      "photoUrl": "https://lh3.googleusercontent.com/a-/AOh14Gi_Qc3i7yEtToSZf9tx_rm0RRTInE8NwNIA5CwhEDM=s64",
      "userId": "15557768782438349168"
     },
     "user_tz": 180
    },
    "hidden": true,
    "id": "5jrFm0pXHigx",
    "outputId": "51414760-f1e1-4772-f555-43880bda3973",
    "papermill": {
     "duration": 0.046026,
     "end_time": "2023-04-18T01:16:59.609570",
     "exception": false,
     "start_time": "2023-04-18T01:16:59.563544",
     "status": "completed"
    },
    "tags": []
   },
   "outputs": [
    {
     "name": "stdout",
     "output_type": "stream",
     "text": [
      "tensor([[0.2613, 0.6865]])\n"
     ]
    }
   ],
   "source": [
    "x_bias = x_train_bias\n",
    "y = y_train\n",
    "x_bias_t = torch.t(x_bias)\n",
    "w_opt = (torch.inverse(x_bias_t.mm(x_bias)).mm(x_bias_t)).mm(y)\n",
    "print(torch.t(w_opt))"
   ]
  },
  {
   "cell_type": "markdown",
   "id": "159096de",
   "metadata": {
    "heading_collapsed": true,
    "id": "AmTLHbBcHig3",
    "papermill": {
     "duration": 0.011578,
     "end_time": "2023-04-18T01:16:59.633022",
     "exception": false,
     "start_time": "2023-04-18T01:16:59.621444",
     "status": "completed"
    },
    "tags": []
   },
   "source": [
    "# Exercícios"
   ]
  },
  {
   "cell_type": "markdown",
   "id": "37f0deae",
   "metadata": {
    "hidden": true,
    "id": "0826M7y0Hig5",
    "papermill": {
     "duration": 0.011439,
     "end_time": "2023-04-18T01:16:59.656227",
     "exception": false,
     "start_time": "2023-04-18T01:16:59.644788",
     "status": "completed"
    },
    "tags": []
   },
   "source": [
    "1. Por que no final da varredura do laço de treinamento, a perda é impressa utilizando\n",
    "   `loss.data`? Por que precisa do `data`?\n",
    "   -  **Porque o loss é uma Variable e os dados de uma Variable ficam contidos no atributo data.**"
   ]
  },
  {
   "cell_type": "markdown",
   "id": "9765b93d",
   "metadata": {
    "hidden": true,
    "id": "cUhiv-56Hig5",
    "papermill": {
     "duration": 0.011397,
     "end_time": "2023-04-18T01:16:59.679381",
     "exception": false,
     "start_time": "2023-04-18T01:16:59.667984",
     "status": "completed"
    },
    "tags": []
   },
   "source": [
    "- 2) Calcule e imprima o valor da perda (MSE) fazendo o predict da rede com os pesos já\n",
    "   treinados."
   ]
  },
  {
   "cell_type": "code",
   "execution_count": 17,
   "id": "5e2f8737",
   "metadata": {
    "execution": {
     "iopub.execute_input": "2023-04-18T01:16:59.704592Z",
     "iopub.status.busy": "2023-04-18T01:16:59.704184Z",
     "iopub.status.idle": "2023-04-18T01:16:59.711044Z",
     "shell.execute_reply": "2023-04-18T01:16:59.709645Z"
    },
    "papermill": {
     "duration": 0.022132,
     "end_time": "2023-04-18T01:16:59.713202",
     "exception": false,
     "start_time": "2023-04-18T01:16:59.691070",
     "status": "completed"
    },
    "tags": []
   },
   "outputs": [
    {
     "name": "stdout",
     "output_type": "stream",
     "text": [
      "MSE: 0.02117014490067959\n"
     ]
    }
   ],
   "source": [
    "out = model(inputs)\n",
    "loss = torch.pow(out - target, 2).mean()\n",
    "print('MSE:', loss.item())"
   ]
  },
  {
   "cell_type": "markdown",
   "id": "b8b0c341",
   "metadata": {
    "hidden": true,
    "id": "pwrS4OGkHig7",
    "papermill": {
     "duration": 0.011555,
     "end_time": "2023-04-18T01:16:59.736743",
     "exception": false,
     "start_time": "2023-04-18T01:16:59.725188",
     "status": "completed"
    },
    "tags": []
   },
   "source": [
    "- 3) Crie duas listas `w0_list` e `w1_list` para guardar a evolução dos valores dos\n",
    "   parâmetros durante o laço de treinamento.\n",
    "   Modifique o exemplo do gráfico tipo **scatter plot** para visualizar a variação \n",
    "   dos parâmetros do modelo duas dimensões. \n",
    "   Marque neste gráfico o valor ótimo do parâmetro dado pela solução\n",
    "   analítica."
   ]
  },
  {
   "cell_type": "markdown",
   "id": "a7684f9c",
   "metadata": {
    "hidden": true,
    "id": "9zKM4-2UHig7",
    "papermill": {
     "duration": 0.01182,
     "end_time": "2023-04-18T01:16:59.760781",
     "exception": false,
     "start_time": "2023-04-18T01:16:59.748961",
     "status": "completed"
    },
    "tags": []
   },
   "source": [
    "## Ploting vectors"
   ]
  },
  {
   "cell_type": "code",
   "execution_count": 18,
   "id": "5b4dc0b5",
   "metadata": {
    "ExecuteTime": {
     "end_time": "2017-11-23T23:57:26.723894Z",
     "start_time": "2017-11-23T23:57:26.517830Z"
    },
    "execution": {
     "iopub.execute_input": "2023-04-18T01:16:59.787018Z",
     "iopub.status.busy": "2023-04-18T01:16:59.786594Z",
     "iopub.status.idle": "2023-04-18T01:17:00.115164Z",
     "shell.execute_reply": "2023-04-18T01:17:00.114239Z"
    },
    "executionInfo": {
     "elapsed": 749,
     "status": "ok",
     "timestamp": 1547768766767,
     "user": {
      "displayName": "Vitor Casadei",
      "photoUrl": "https://lh5.googleusercontent.com/-OT6T8YZ9rfo/AAAAAAAAAAI/AAAAAAAAIHA/gt0bUaenBok/s64/photo.jpg",
      "userId": "15557768782438349168"
     },
     "user_tz": 240
    },
    "hidden": true,
    "id": "hXA1HhnsHig8",
    "outputId": "e0ebc696-672f-41d6-9feb-643e3d6d5da9",
    "papermill": {
     "duration": 0.344608,
     "end_time": "2023-04-18T01:17:00.117254",
     "exception": false,
     "start_time": "2023-04-18T01:16:59.772646",
     "status": "completed"
    },
    "tags": []
   },
   "outputs": [
    {
     "data": {
      "image/png": "[encoded data removed]",
      "text/plain": [
       "<Figure size 640x480 with 1 Axes>"
      ]
     },
     "metadata": {},
     "output_type": "display_data"
    }
   ],
   "source": [
    "plt.scatter(w0_list,w1_list)\n",
    "w0_old = None\n",
    "for (w0,w1) in zip(w0_list,w1_list):\n",
    "    if w0_old:\n",
    "        plt.arrow(w0_old, w1_old, w0-w0_old, w1-w1_old,\n",
    "                  head_length=0.01,head_width=0.01,shape='full',\n",
    "                  length_includes_head=True)\n",
    "    w0_old,w1_old = w0,w1\n",
    "\n",
    "plt.scatter([w_opt[0].item()], [w_opt[1].item()])\n",
    "plt.show()"
   ]
  },
  {
   "cell_type": "markdown",
   "id": "a8e59a24",
   "metadata": {
    "heading_collapsed": true,
    "id": "ssef368KHihA",
    "papermill": {
     "duration": 0.013758,
     "end_time": "2023-04-18T01:17:00.144144",
     "exception": false,
     "start_time": "2023-04-18T01:17:00.130386",
     "status": "completed"
    },
    "tags": []
   },
   "source": [
    "# Aprendizados"
   ]
  },
  {
   "cell_type": "markdown",
   "id": "c32cc36a",
   "metadata": {
    "papermill": {
     "duration": 0.012345,
     "end_time": "2023-04-18T01:17:00.168875",
     "exception": false,
     "start_time": "2023-04-18T01:17:00.156530",
     "status": "completed"
    },
    "tags": []
   },
   "source": [
    "O PyTorch possui funções e classes que abstraem o processo de treinamento, como por exemplo o Linear, que permite definir o modelo ao informar o número de entradas e saídas."
   ]
  }
 ],
 "metadata": {
  "kernelspec": {
   "display_name": "Python 3",
   "language": "python",
   "name": "python3"
  },
  "language_info": {
   "codemirror_mode": {
    "name": "ipython",
    "version": 3
   },
   "file_extension": ".py",
   "mimetype": "text/x-python",
   "name": "python",
   "nbconvert_exporter": "python",
   "pygments_lexer": "ipython3",
   "version": "3.7.12"
  },
  "papermill": {
   "default_parameters": {},
   "duration": 15.955141,
   "end_time": "2023-04-18T01:17:01.103217",
   "environment_variables": {},
   "exception": null,
   "input_path": "__notebook__.ipynb",
   "output_path": "__notebook__.ipynb",
   "parameters": {},
   "start_time": "2023-04-18T01:16:45.148076",
   "version": "2.4.0"
  }
 },
 "nbformat": 4,
 "nbformat_minor": 5
}
