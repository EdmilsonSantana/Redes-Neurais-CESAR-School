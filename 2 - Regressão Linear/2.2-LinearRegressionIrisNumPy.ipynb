{
 "cells": [
  {
   "cell_type": "markdown",
   "id": "61838831",
   "metadata": {
    "id": "5yQgzdjbf9RT",
    "papermill": {
     "duration": 0.01439,
     "end_time": "2023-04-17T22:41:41.751509",
     "exception": false,
     "start_time": "2023-04-17T22:41:41.737119",
     "status": "completed"
    },
    "tags": []
   },
   "source": [
    "# Regressão Linear com NumPy"
   ]
  },
  {
   "cell_type": "markdown",
   "id": "5fd80fd8",
   "metadata": {
    "heading_collapsed": true,
    "id": "p5HfrYM3f9RU",
    "papermill": {
     "duration": 0.012537,
     "end_time": "2023-04-17T22:41:41.777218",
     "exception": false,
     "start_time": "2023-04-17T22:41:41.764681",
     "status": "completed"
    },
    "tags": []
   },
   "source": [
    "## Objetivos deste experimento"
   ]
  },
  {
   "cell_type": "markdown",
   "id": "1bc8d0b9",
   "metadata": {
    "hidden": true,
    "id": "IIYC2db7f9RW",
    "papermill": {
     "duration": 0.012813,
     "end_time": "2023-04-17T22:41:41.802999",
     "exception": false,
     "start_time": "2023-04-17T22:41:41.790186",
     "status": "completed"
    },
    "tags": []
   },
   "source": [
    "Este exemplo utiliza regressão linear para estimar o comprimento das sépalas da íris a partir do seu comprimento das pétalas.\n",
    "Utiliza-se programação totalmente NumPy com:\n",
    "- o **cálculo do gradiente**, \n",
    "- a **função de perda** e\n",
    "- a atualização dos parâmetros são feitos de forma explícita.\n",
    "- A rede é criada com uma camada como uma classe"
   ]
  },
  {
   "cell_type": "markdown",
   "id": "f995f02d",
   "metadata": {
    "hidden": true,
    "id": "ImJOZIiNf9RW",
    "papermill": {
     "duration": 0.012842,
     "end_time": "2023-04-17T22:41:41.830315",
     "exception": false,
     "start_time": "2023-04-17T22:41:41.817473",
     "status": "completed"
    },
    "tags": []
   },
   "source": [
    "![alt text](https://raw.githubusercontent.com/vcasadei/images/master/RegressaoLinear_Otimizacao.png)"
   ]
  },
  {
   "cell_type": "markdown",
   "id": "3232dc6d",
   "metadata": {
    "heading_collapsed": true,
    "id": "EeTHWCuMf9RX",
    "papermill": {
     "duration": 0.012596,
     "end_time": "2023-04-17T22:41:41.855911",
     "exception": false,
     "start_time": "2023-04-17T22:41:41.843315",
     "status": "completed"
    },
    "tags": []
   },
   "source": [
    "## Importação dos pacotes"
   ]
  },
  {
   "cell_type": "code",
   "execution_count": 1,
   "id": "c8750997",
   "metadata": {
    "ExecuteTime": {
     "end_time": "2017-10-08T11:19:38.728936Z",
     "start_time": "2017-10-08T11:19:36.888541Z"
    },
    "execution": {
     "iopub.execute_input": "2023-04-17T22:41:41.884622Z",
     "iopub.status.busy": "2023-04-17T22:41:41.883754Z",
     "iopub.status.idle": "2023-04-17T22:41:43.281959Z",
     "shell.execute_reply": "2023-04-17T22:41:43.280576Z"
    },
    "hidden": true,
    "id": "5yPytaCLf9RY",
    "papermill": {
     "duration": 1.416213,
     "end_time": "2023-04-17T22:41:43.285178",
     "exception": false,
     "start_time": "2023-04-17T22:41:41.868965",
     "status": "completed"
    },
    "tags": []
   },
   "outputs": [],
   "source": [
    "%matplotlib inline\n",
    "import matplotlib.pyplot as plt   # para plotting\n",
    "\n",
    "from sklearn.datasets import load_iris  # para carregar dataset\n",
    "\n",
    "import numpy as np  # processamento matricial\n",
    "\n",
    "import math\n",
    "\n",
    "np.random.seed(1234)"
   ]
  },
  {
   "cell_type": "markdown",
   "id": "6a8d606a",
   "metadata": {
    "heading_collapsed": true,
    "id": "wDkSLSnmf9Rc",
    "papermill": {
     "duration": 0.012584,
     "end_time": "2023-04-17T22:41:43.310791",
     "exception": false,
     "start_time": "2023-04-17T22:41:43.298207",
     "status": "completed"
    },
    "tags": []
   },
   "source": [
    "## Dataset"
   ]
  },
  {
   "cell_type": "markdown",
   "id": "de418187",
   "metadata": {
    "heading_collapsed": true,
    "hidden": true,
    "id": "ldcOnrBvf9Rd",
    "papermill": {
     "duration": 0.012555,
     "end_time": "2023-04-17T22:41:43.336223",
     "exception": false,
     "start_time": "2023-04-17T22:41:43.323668",
     "status": "completed"
    },
    "tags": []
   },
   "source": [
    "### Leitura dos dados"
   ]
  },
  {
   "cell_type": "code",
   "execution_count": 2,
   "id": "a7683696",
   "metadata": {
    "ExecuteTime": {
     "end_time": "2017-10-08T11:19:38.747769Z",
     "start_time": "2017-10-08T11:19:38.730907Z"
    },
    "execution": {
     "iopub.execute_input": "2023-04-17T22:41:43.364759Z",
     "iopub.status.busy": "2023-04-17T22:41:43.364324Z",
     "iopub.status.idle": "2023-04-17T22:41:43.381538Z",
     "shell.execute_reply": "2023-04-17T22:41:43.380136Z"
    },
    "executionInfo": {
     "elapsed": 732,
     "status": "ok",
     "timestamp": 1623970593209,
     "user": {
      "displayName": "Vitor Casadei",
      "photoUrl": "https://lh3.googleusercontent.com/a-/AOh14Gi_Qc3i7yEtToSZf9tx_rm0RRTInE8NwNIA5CwhEDM=s64",
      "userId": "15557768782438349168"
     },
     "user_tz": 180
    },
    "hidden": true,
    "id": "l3t1qaa0f9Re",
    "outputId": "4a5fa1c0-70c8-4919-9896-f70e16b4a3dc",
    "papermill": {
     "duration": 0.035412,
     "end_time": "2023-04-17T22:41:43.384679",
     "exception": false,
     "start_time": "2023-04-17T22:41:43.349267",
     "status": "completed"
    },
    "tags": []
   },
   "outputs": [
    {
     "name": "stdout",
     "output_type": "stream",
     "text": [
      "x_train.shape: (50, 1) float64\n",
      "y_train.shape: (50, 1) float64\n",
      "x_train[:5]:\n",
      " [[7. ]\n",
      " [6.4]\n",
      " [6.9]\n",
      " [5.5]\n",
      " [6.5]]\n",
      "y_train[:5]:\n",
      " [[4.7]\n",
      " [4.5]\n",
      " [4.9]\n",
      " [4. ]\n",
      " [4.6]]\n"
     ]
    }
   ],
   "source": [
    "iris = load_iris()\n",
    "data = iris.data[iris.target==1,::2]  # comprimento das sépalas e pétalas, indices 0 e 2\n",
    "\n",
    "x_train = data[:,0:1]\n",
    "y_train = data[:,1:2]\n",
    "\n",
    "n_samples = x_train.shape[0]\n",
    "print('x_train.shape:',x_train.shape, x_train.dtype)\n",
    "print('y_train.shape:',y_train.shape, y_train.dtype)\n",
    "\n",
    "print('x_train[:5]:\\n', x_train[:5])\n",
    "print('y_train[:5]:\\n', y_train[:5])"
   ]
  },
  {
   "cell_type": "markdown",
   "id": "5db983a7",
   "metadata": {
    "hidden": true,
    "id": "aPQ-L6FVf9Rk",
    "papermill": {
     "duration": 0.012689,
     "end_time": "2023-04-17T22:41:43.410863",
     "exception": false,
     "start_time": "2023-04-17T22:41:43.398174",
     "status": "completed"
    },
    "tags": []
   },
   "source": [
    "### Normalização dos dados"
   ]
  },
  {
   "cell_type": "code",
   "execution_count": 3,
   "id": "ed7c71aa",
   "metadata": {
    "ExecuteTime": {
     "end_time": "2017-10-08T11:19:38.756343Z",
     "start_time": "2017-10-08T11:19:38.750395Z"
    },
    "execution": {
     "iopub.execute_input": "2023-04-17T22:41:43.439087Z",
     "iopub.status.busy": "2023-04-17T22:41:43.437947Z",
     "iopub.status.idle": "2023-04-17T22:41:43.444902Z",
     "shell.execute_reply": "2023-04-17T22:41:43.443730Z"
    },
    "hidden": true,
    "id": "POM323GEf9Rl",
    "papermill": {
     "duration": 0.023938,
     "end_time": "2023-04-17T22:41:43.447623",
     "exception": false,
     "start_time": "2023-04-17T22:41:43.423685",
     "status": "completed"
    },
    "tags": []
   },
   "outputs": [],
   "source": [
    "x_train -= x_train.min()\n",
    "x_train /= x_train.max()\n",
    "y_train -= y_train.min()\n",
    "y_train /= y_train.max()"
   ]
  },
  {
   "cell_type": "code",
   "execution_count": 4,
   "id": "1825563e",
   "metadata": {
    "ExecuteTime": {
     "end_time": "2017-10-08T11:19:39.127199Z",
     "start_time": "2017-10-08T11:19:38.759104Z"
    },
    "execution": {
     "iopub.execute_input": "2023-04-17T22:41:43.476532Z",
     "iopub.status.busy": "2023-04-17T22:41:43.475261Z",
     "iopub.status.idle": "2023-04-17T22:41:43.775874Z",
     "shell.execute_reply": "2023-04-17T22:41:43.774129Z"
    },
    "executionInfo": {
     "elapsed": 696,
     "status": "ok",
     "timestamp": 1623970118888,
     "user": {
      "displayName": "Vitor Casadei",
      "photoUrl": "https://lh3.googleusercontent.com/a-/AOh14Gi_Qc3i7yEtToSZf9tx_rm0RRTInE8NwNIA5CwhEDM=s64",
      "userId": "15557768782438349168"
     },
     "user_tz": 180
    },
    "hidden": true,
    "id": "dx5AO9Qxf9Rn",
    "outputId": "d9e03912-d34e-4826-8d63-91536da35005",
    "papermill": {
     "duration": 0.318163,
     "end_time": "2023-04-17T22:41:43.778798",
     "exception": false,
     "start_time": "2023-04-17T22:41:43.460635",
     "status": "completed"
    },
    "tags": []
   },
   "outputs": [
    {
     "data": {
      "text/plain": [
       "Text(0, 0.5, 'Comprimento petalas')"
      ]
     },
     "execution_count": 4,
     "metadata": {},
     "output_type": "execute_result"
    },
    {
     "data": {
      "image/png": "[encoded data removed]",
      "text/plain": [
       "<Figure size 640x480 with 1 Axes>"
      ]
     },
     "metadata": {},
     "output_type": "display_data"
    }
   ],
   "source": [
    "plt.scatter(x_train,y_train)\n",
    "plt.xlabel('Comprimento sepalas')\n",
    "plt.ylabel('Comprimento petalas')"
   ]
  },
  {
   "cell_type": "markdown",
   "id": "8012f0a3",
   "metadata": {
    "heading_collapsed": true,
    "id": "poW81teqf9Rr",
    "papermill": {
     "duration": 0.01382,
     "end_time": "2023-04-17T22:41:43.807241",
     "exception": false,
     "start_time": "2023-04-17T22:41:43.793421",
     "status": "completed"
    },
    "tags": []
   },
   "source": [
    "## Modelo da rede"
   ]
  },
  {
   "cell_type": "markdown",
   "id": "7c3ceeae",
   "metadata": {
    "hidden": true,
    "id": "QXFLlJ0_f9Rt",
    "papermill": {
     "duration": 0.013243,
     "end_time": "2023-04-17T22:41:43.833985",
     "exception": false,
     "start_time": "2023-04-17T22:41:43.820742",
     "status": "completed"
    },
    "tags": []
   },
   "source": [
    "### Reta de ajuste"
   ]
  },
  {
   "cell_type": "markdown",
   "id": "da19688f",
   "metadata": {
    "hidden": true,
    "id": "s7JuPXysf9Rt",
    "papermill": {
     "duration": 0.013081,
     "end_time": "2023-04-17T22:41:43.860907",
     "exception": false,
     "start_time": "2023-04-17T22:41:43.847826",
     "status": "completed"
    },
    "tags": []
   },
   "source": [
    "A equação da reta no plano necessita de dois parâmetros, aqui denominados $w_0$ (*bias*) e inclinação $w_1$. Veja figura:\n",
    "\n",
    "![alt text](https://raw.githubusercontent.com/vcasadei/images/master/linhareta.png)\n",
    "\n",
    "A reta de ajuste será dada por:\n",
    "\n",
    "$$ \\hat{y} = w_0 + w_1 x $$\n",
    "\n",
    "onde \n",
    "* $w_1$ é o coeficiente angular da reta e \n",
    "* $w_0$ é a interseção do eixo vertical quando x é igual a zero, também denominado de *bias*.\n",
    "* $x$ é a variável de entrada (comprimento das sépalas) e \n",
    "* $\\hat{y}$ é a predição (comprimento estimado das pétalas)."
   ]
  },
  {
   "cell_type": "markdown",
   "id": "c5fe79ab",
   "metadata": {
    "hidden": true,
    "id": "hwin_xPff9Ru",
    "papermill": {
     "duration": 0.013284,
     "end_time": "2023-04-17T22:41:43.888148",
     "exception": false,
     "start_time": "2023-04-17T22:41:43.874864",
     "status": "completed"
    },
    "tags": []
   },
   "source": [
    "### Linear Regression Model"
   ]
  },
  {
   "cell_type": "markdown",
   "id": "2ab1a6cb",
   "metadata": {
    "hidden": true,
    "id": "c7ilOLnkf9Rw",
    "papermill": {
     "duration": 0.013406,
     "end_time": "2023-04-17T22:41:43.915141",
     "exception": false,
     "start_time": "2023-04-17T22:41:43.901735",
     "status": "completed"
    },
    "tags": []
   },
   "source": [
    "![alt text](https://raw.githubusercontent.com/vcasadei/images/master/RegressaoLinearNeuronio.png)"
   ]
  },
  {
   "cell_type": "markdown",
   "id": "b654d160",
   "metadata": {
    "hidden": true,
    "id": "H0CzMB91f9Rx",
    "papermill": {
     "duration": 0.013149,
     "end_time": "2023-04-17T22:41:43.942096",
     "exception": false,
     "start_time": "2023-04-17T22:41:43.928947",
     "status": "completed"
    },
    "tags": []
   },
   "source": [
    "### Formulação matricial do neurônio"
   ]
  },
  {
   "cell_type": "markdown",
   "id": "acd39f15",
   "metadata": {
    "hidden": true,
    "id": "-wWz_wpYf9Ry",
    "papermill": {
     "duration": 0.013813,
     "end_time": "2023-04-17T22:41:43.969457",
     "exception": false,
     "start_time": "2023-04-17T22:41:43.955644",
     "status": "completed"
    },
    "tags": []
   },
   "source": [
    "* $\\mathbf{w} = [w_0 \\ w_1]$ é vetor linha de parâmetros e \n",
    "* $\\mathbf{x} = [1 \\ x_0] $ é vetor linha de uma amostra (com *bias*).\n",
    "\n",
    "$$ \\hat{y} = 1 w_0 + x_0 w_1 $$\n",
    "\n",
    "$$ [\\hat{y}] = [1 \\ x_0] \\begin{bmatrix} w_0 \\\\ w_1 \\end{bmatrix} $$\n",
    "\n",
    "$$ \\mathbf{\\hat{y}} = \\mathbf{x} \\mathbf{w^T} $$"
   ]
  },
  {
   "cell_type": "markdown",
   "id": "53f73ce4",
   "metadata": {
    "hidden": true,
    "id": "rQ1lc-dYf9Rz",
    "papermill": {
     "duration": 0.013985,
     "end_time": "2023-04-17T22:41:43.997222",
     "exception": false,
     "start_time": "2023-04-17T22:41:43.983237",
     "status": "completed"
    },
    "tags": []
   },
   "source": [
    "### Fazendo o predict de várias amostras"
   ]
  },
  {
   "cell_type": "markdown",
   "id": "791dc03f",
   "metadata": {
    "hidden": true,
    "id": "fh068Clrf9R0",
    "papermill": {
     "duration": 0.013787,
     "end_time": "2023-04-17T22:41:44.025294",
     "exception": false,
     "start_time": "2023-04-17T22:41:44.011507",
     "status": "completed"
    },
    "tags": []
   },
   "source": [
    "$$ \\begin{matrix} \n",
    "\\begin{bmatrix}\n",
    "\\hat{y}_0\\\\ \n",
    "\\hat{y}_1\\\\\n",
    "\\\\\n",
    "\\hat{y}_{M-1} \n",
    "\\end{bmatrix} &=& \\begin{bmatrix}\n",
    "1 & x_0 \\\\ \n",
    "1 & x_1\\\\\n",
    "\\\\ \n",
    "1 & x_{M-1} \\\\ \n",
    "\\end{bmatrix}\n",
    "&\n",
    "\\begin{bmatrix}\n",
    "w_0\\\\ \n",
    "w_1\n",
    "\\end{bmatrix} \\\\\n",
    "(M,1) & & (M,2) & (2,1) \\\\\n",
    "\\end{matrix} $$"
   ]
  },
  {
   "cell_type": "markdown",
   "id": "11a6293c",
   "metadata": {
    "hidden": true,
    "id": "jjSchAsZf9R2",
    "papermill": {
     "duration": 0.014218,
     "end_time": "2023-04-17T22:41:44.053731",
     "exception": false,
     "start_time": "2023-04-17T22:41:44.039513",
     "status": "completed"
    },
    "tags": []
   },
   "source": [
    "### Preenchendo x com coluna de 1's para bias"
   ]
  },
  {
   "cell_type": "code",
   "execution_count": 5,
   "id": "72db03bb",
   "metadata": {
    "ExecuteTime": {
     "end_time": "2017-10-08T11:19:39.135089Z",
     "start_time": "2017-10-08T11:19:39.129385Z"
    },
    "execution": {
     "iopub.execute_input": "2023-04-17T22:41:44.084187Z",
     "iopub.status.busy": "2023-04-17T22:41:44.083293Z",
     "iopub.status.idle": "2023-04-17T22:41:44.089654Z",
     "shell.execute_reply": "2023-04-17T22:41:44.088607Z"
    },
    "hidden": true,
    "id": "plZEY5-tf9R2",
    "papermill": {
     "duration": 0.024987,
     "end_time": "2023-04-17T22:41:44.092380",
     "exception": false,
     "start_time": "2023-04-17T22:41:44.067393",
     "status": "completed"
    },
    "tags": []
   },
   "outputs": [],
   "source": [
    "x_train_bias = np.hstack([np.ones(shape=(n_samples,1)), x_train])"
   ]
  },
  {
   "cell_type": "code",
   "execution_count": 6,
   "id": "86f76b49",
   "metadata": {
    "execution": {
     "iopub.execute_input": "2023-04-17T22:41:44.122011Z",
     "iopub.status.busy": "2023-04-17T22:41:44.121217Z",
     "iopub.status.idle": "2023-04-17T22:41:44.130364Z",
     "shell.execute_reply": "2023-04-17T22:41:44.129135Z"
    },
    "executionInfo": {
     "elapsed": 479,
     "status": "ok",
     "timestamp": 1623970258290,
     "user": {
      "displayName": "Vitor Casadei",
      "photoUrl": "https://lh3.googleusercontent.com/a-/AOh14Gi_Qc3i7yEtToSZf9tx_rm0RRTInE8NwNIA5CwhEDM=s64",
      "userId": "15557768782438349168"
     },
     "user_tz": 180
    },
    "id": "tXYx3JdMf9R6",
    "outputId": "f4edd962-58a2-4378-b74e-2fb8b518b3f3",
    "papermill": {
     "duration": 0.026981,
     "end_time": "2023-04-17T22:41:44.132929",
     "exception": false,
     "start_time": "2023-04-17T22:41:44.105948",
     "status": "completed"
    },
    "tags": []
   },
   "outputs": [
    {
     "data": {
      "text/plain": [
       "array([[1.        , 1.        ],\n",
       "       [1.        , 0.71428571],\n",
       "       [1.        , 0.95238095],\n",
       "       [1.        , 0.28571429],\n",
       "       [1.        , 0.76190476],\n",
       "       [1.        , 0.38095238],\n",
       "       [1.        , 0.66666667],\n",
       "       [1.        , 0.        ],\n",
       "       [1.        , 0.80952381],\n",
       "       [1.        , 0.14285714],\n",
       "       [1.        , 0.04761905],\n",
       "       [1.        , 0.47619048],\n",
       "       [1.        , 0.52380952],\n",
       "       [1.        , 0.57142857],\n",
       "       [1.        , 0.33333333],\n",
       "       [1.        , 0.85714286],\n",
       "       [1.        , 0.33333333],\n",
       "       [1.        , 0.42857143],\n",
       "       [1.        , 0.61904762],\n",
       "       [1.        , 0.33333333],\n",
       "       [1.        , 0.47619048],\n",
       "       [1.        , 0.57142857],\n",
       "       [1.        , 0.66666667],\n",
       "       [1.        , 0.57142857],\n",
       "       [1.        , 0.71428571],\n",
       "       [1.        , 0.80952381],\n",
       "       [1.        , 0.9047619 ],\n",
       "       [1.        , 0.85714286],\n",
       "       [1.        , 0.52380952],\n",
       "       [1.        , 0.38095238],\n",
       "       [1.        , 0.28571429],\n",
       "       [1.        , 0.28571429],\n",
       "       [1.        , 0.42857143],\n",
       "       [1.        , 0.52380952],\n",
       "       [1.        , 0.23809524],\n",
       "       [1.        , 0.52380952],\n",
       "       [1.        , 0.85714286],\n",
       "       [1.        , 0.66666667],\n",
       "       [1.        , 0.33333333],\n",
       "       [1.        , 0.28571429],\n",
       "       [1.        , 0.28571429],\n",
       "       [1.        , 0.57142857],\n",
       "       [1.        , 0.42857143],\n",
       "       [1.        , 0.04761905],\n",
       "       [1.        , 0.33333333],\n",
       "       [1.        , 0.38095238],\n",
       "       [1.        , 0.38095238],\n",
       "       [1.        , 0.61904762],\n",
       "       [1.        , 0.0952381 ],\n",
       "       [1.        , 0.38095238]])"
      ]
     },
     "execution_count": 6,
     "metadata": {},
     "output_type": "execute_result"
    }
   ],
   "source": [
    "x_train_bias"
   ]
  },
  {
   "cell_type": "markdown",
   "id": "afc357b4",
   "metadata": {
    "hidden": true,
    "id": "GOtS_8OSf9SC",
    "papermill": {
     "duration": 0.013323,
     "end_time": "2023-04-17T22:41:44.159952",
     "exception": false,
     "start_time": "2023-04-17T22:41:44.146629",
     "status": "completed"
    },
    "tags": []
   },
   "source": [
    "### Classe com o modelo da rede"
   ]
  },
  {
   "cell_type": "code",
   "execution_count": 7,
   "id": "e6f0c897",
   "metadata": {
    "ExecuteTime": {
     "end_time": "2017-10-08T11:19:39.143879Z",
     "start_time": "2017-10-08T11:19:39.137134Z"
    },
    "execution": {
     "iopub.execute_input": "2023-04-17T22:41:44.190879Z",
     "iopub.status.busy": "2023-04-17T22:41:44.190171Z",
     "iopub.status.idle": "2023-04-17T22:41:44.196911Z",
     "shell.execute_reply": "2023-04-17T22:41:44.195938Z"
    },
    "hidden": true,
    "id": "aKLVIQUtf9SD",
    "papermill": {
     "duration": 0.025095,
     "end_time": "2023-04-17T22:41:44.199708",
     "exception": false,
     "start_time": "2023-04-17T22:41:44.174613",
     "status": "completed"
    },
    "tags": []
   },
   "outputs": [],
   "source": [
    "class Net():\n",
    "    def __init__(self, n_in, n_out):\n",
    "        self.w = np.random.uniform(-0.1,0.1,(n_out,n_in)) #inicialização dos parâmetros\n",
    "    \n",
    "    def forward(self, x_bias):\n",
    "        return x_bias.dot(self.w.T)"
   ]
  },
  {
   "cell_type": "markdown",
   "id": "e6e5ca7f",
   "metadata": {
    "hidden": true,
    "id": "0j0hN9l_f9SH",
    "papermill": {
     "duration": 0.013731,
     "end_time": "2023-04-17T22:41:44.228266",
     "exception": false,
     "start_time": "2023-04-17T22:41:44.214535",
     "status": "completed"
    },
    "tags": []
   },
   "source": [
    "### Criando a rede, instanciando o objeto model"
   ]
  },
  {
   "cell_type": "code",
   "execution_count": 8,
   "id": "9782f206",
   "metadata": {
    "ExecuteTime": {
     "end_time": "2017-10-08T11:19:39.151717Z",
     "start_time": "2017-10-08T11:19:39.146858Z"
    },
    "execution": {
     "iopub.execute_input": "2023-04-17T22:41:44.259183Z",
     "iopub.status.busy": "2023-04-17T22:41:44.258365Z",
     "iopub.status.idle": "2023-04-17T22:41:44.263219Z",
     "shell.execute_reply": "2023-04-17T22:41:44.262318Z"
    },
    "hidden": true,
    "id": "5o5Zkqn5f9SI",
    "papermill": {
     "duration": 0.023022,
     "end_time": "2023-04-17T22:41:44.265656",
     "exception": false,
     "start_time": "2023-04-17T22:41:44.242634",
     "status": "completed"
    },
    "tags": []
   },
   "outputs": [],
   "source": [
    "model = Net(2,1) # duas entradas (1 + x0) e uma saída y_pred"
   ]
  },
  {
   "cell_type": "markdown",
   "id": "ba93c23e",
   "metadata": {
    "hidden": true,
    "id": "F3yolUOGf9SL",
    "papermill": {
     "duration": 0.013818,
     "end_time": "2023-04-17T22:41:44.293338",
     "exception": false,
     "start_time": "2023-04-17T22:41:44.279520",
     "status": "completed"
    },
    "tags": []
   },
   "source": [
    "### Testando o predict da rede (mesmo sem treiná-la)"
   ]
  },
  {
   "cell_type": "code",
   "execution_count": 9,
   "id": "cf2195ee",
   "metadata": {
    "ExecuteTime": {
     "end_time": "2017-10-08T11:19:39.162189Z",
     "start_time": "2017-10-08T11:19:39.156018Z"
    },
    "execution": {
     "iopub.execute_input": "2023-04-17T22:41:44.324393Z",
     "iopub.status.busy": "2023-04-17T22:41:44.323557Z",
     "iopub.status.idle": "2023-04-17T22:41:44.331906Z",
     "shell.execute_reply": "2023-04-17T22:41:44.330417Z"
    },
    "executionInfo": {
     "elapsed": 409,
     "status": "ok",
     "timestamp": 1623970401700,
     "user": {
      "displayName": "Vitor Casadei",
      "photoUrl": "https://lh3.googleusercontent.com/a-/AOh14Gi_Qc3i7yEtToSZf9tx_rm0RRTInE8NwNIA5CwhEDM=s64",
      "userId": "15557768782438349168"
     },
     "user_tz": 180
    },
    "hidden": true,
    "id": "BzkEurfof9SN",
    "outputId": "bf90ab9c-60ab-4eb2-e737-5dac904dd321",
    "papermill": {
     "duration": 0.026721,
     "end_time": "2023-04-17T22:41:44.334371",
     "exception": false,
     "start_time": "2023-04-17T22:41:44.307650",
     "status": "completed"
    },
    "tags": []
   },
   "outputs": [
    {
     "data": {
      "text/plain": [
       "array([[-0.09602795],\n",
       "       [ 0.0661236 ],\n",
       "       [-0.06857828],\n",
       "       [-0.05573871]])"
      ]
     },
     "execution_count": 9,
     "metadata": {},
     "output_type": "execute_result"
    }
   ],
   "source": [
    "xin = np.random.randn(4,2) # 4 amostras, 2 entradas (1 + x0)\n",
    "ypred = model.forward(xin)\n",
    "ypred"
   ]
  },
  {
   "cell_type": "code",
   "execution_count": 10,
   "id": "73a813fd",
   "metadata": {
    "execution": {
     "iopub.execute_input": "2023-04-17T22:41:44.364866Z",
     "iopub.status.busy": "2023-04-17T22:41:44.364394Z",
     "iopub.status.idle": "2023-04-17T22:41:44.372349Z",
     "shell.execute_reply": "2023-04-17T22:41:44.371089Z"
    },
    "papermill": {
     "duration": 0.026366,
     "end_time": "2023-04-17T22:41:44.374780",
     "exception": false,
     "start_time": "2023-04-17T22:41:44.348414",
     "status": "completed"
    },
    "tags": []
   },
   "outputs": [
    {
     "data": {
      "text/plain": [
       "array([[-0.06169611,  0.02442175]])"
      ]
     },
     "execution_count": 10,
     "metadata": {},
     "output_type": "execute_result"
    }
   ],
   "source": [
    "model.w"
   ]
  },
  {
   "cell_type": "code",
   "execution_count": 11,
   "id": "99c3bbe8",
   "metadata": {
    "execution": {
     "iopub.execute_input": "2023-04-17T22:41:44.404950Z",
     "iopub.status.busy": "2023-04-17T22:41:44.404506Z",
     "iopub.status.idle": "2023-04-17T22:41:44.409595Z",
     "shell.execute_reply": "2023-04-17T22:41:44.408600Z"
    },
    "papermill": {
     "duration": 0.022675,
     "end_time": "2023-04-17T22:41:44.411781",
     "exception": false,
     "start_time": "2023-04-17T22:41:44.389106",
     "status": "completed"
    },
    "tags": []
   },
   "outputs": [],
   "source": [
    "y_pred = model.forward(x_train_bias)"
   ]
  },
  {
   "cell_type": "code",
   "execution_count": 12,
   "id": "1410b0a0",
   "metadata": {
    "execution": {
     "iopub.execute_input": "2023-04-17T22:41:44.442396Z",
     "iopub.status.busy": "2023-04-17T22:41:44.441620Z",
     "iopub.status.idle": "2023-04-17T22:41:44.448473Z",
     "shell.execute_reply": "2023-04-17T22:41:44.447377Z"
    },
    "papermill": {
     "duration": 0.025076,
     "end_time": "2023-04-17T22:41:44.450980",
     "exception": false,
     "start_time": "2023-04-17T22:41:44.425904",
     "status": "completed"
    },
    "tags": []
   },
   "outputs": [
    {
     "data": {
      "text/plain": [
       "0.46916299392848965"
      ]
     },
     "execution_count": 12,
     "metadata": {},
     "output_type": "execute_result"
    }
   ],
   "source": [
    "loss = np.square(y_pred - y_train).mean()\n",
    "loss"
   ]
  },
  {
   "cell_type": "markdown",
   "id": "a3ee0680",
   "metadata": {
    "heading_collapsed": true,
    "id": "edoSiy--f9SS",
    "papermill": {
     "duration": 0.013854,
     "end_time": "2023-04-17T22:41:44.479062",
     "exception": false,
     "start_time": "2023-04-17T22:41:44.465208",
     "status": "completed"
    },
    "tags": []
   },
   "source": [
    "## Treinamento via gradiente descendente"
   ]
  },
  {
   "cell_type": "markdown",
   "id": "a37152cd",
   "metadata": {
    "hidden": true,
    "id": "SnkXXFref9ST",
    "papermill": {
     "duration": 0.013909,
     "end_time": "2023-04-17T22:41:44.507111",
     "exception": false,
     "start_time": "2023-04-17T22:41:44.493202",
     "status": "completed"
    },
    "tags": []
   },
   "source": [
    "Função de perda:\n",
    "$$ J(\\hat{y_i},y_i) = \\frac{1}{M} \\sum_{i=0}^{M-1} (\\hat{y_i} - y_i)^2 $$"
   ]
  },
  {
   "cell_type": "markdown",
   "id": "fa3c7aa6",
   "metadata": {
    "ExecuteTime": {
     "end_time": "2017-10-05T14:05:06.244776",
     "start_time": "2017-10-05T14:05:06.240743"
    },
    "hidden": true,
    "id": "6W5QcPwUf9SU",
    "papermill": {
     "duration": 0.01379,
     "end_time": "2023-04-17T22:41:44.534996",
     "exception": false,
     "start_time": "2023-04-17T22:41:44.521206",
     "status": "completed"
    },
    "tags": []
   },
   "source": [
    "Gradiente:\n",
    "$$  \\mathbf{\\nabla{J_w}} = \\frac{2}{M}\\mathbf{x^T}(\\mathbf{x w^T} - \\mathbf{y}) $$"
   ]
  },
  {
   "cell_type": "markdown",
   "id": "97880112",
   "metadata": {
    "ExecuteTime": {
     "end_time": "2017-10-05T14:06:17.929718",
     "start_time": "2017-10-05T14:06:17.925519"
    },
    "hidden": true,
    "id": "6OoQuuvAf9SU",
    "papermill": {
     "duration": 0.013829,
     "end_time": "2023-04-17T22:41:44.562955",
     "exception": false,
     "start_time": "2023-04-17T22:41:44.549126",
     "status": "completed"
    },
    "tags": []
   },
   "source": [
    "Atualização dos parâmetros pelo gradiente descendente:\n",
    "$$ \\mathbf{w} = \\mathbf{w} − \\eta (\\mathbf{\\nabla J_w})^T $$"
   ]
  },
  {
   "cell_type": "markdown",
   "id": "ba91c913",
   "metadata": {
    "hidden": true,
    "id": "YM0fEnAdf9SW",
    "papermill": {
     "duration": 0.013746,
     "end_time": "2023-04-17T22:41:44.590806",
     "exception": false,
     "start_time": "2023-04-17T22:41:44.577060",
     "status": "completed"
    },
    "tags": []
   },
   "source": [
    "### Laço de treinamento"
   ]
  },
  {
   "cell_type": "code",
   "execution_count": 13,
   "id": "8519a3f7",
   "metadata": {
    "ExecuteTime": {
     "end_time": "2017-10-08T11:19:39.183784Z",
     "start_time": "2017-10-08T11:19:39.165347Z"
    },
    "execution": {
     "iopub.execute_input": "2023-04-17T22:41:44.621904Z",
     "iopub.status.busy": "2023-04-17T22:41:44.620744Z",
     "iopub.status.idle": "2023-04-17T22:41:44.635553Z",
     "shell.execute_reply": "2023-04-17T22:41:44.634116Z"
    },
    "executionInfo": {
     "elapsed": 1164,
     "status": "ok",
     "timestamp": 1623970616388,
     "user": {
      "displayName": "Vitor Casadei",
      "photoUrl": "https://lh3.googleusercontent.com/a-/AOh14Gi_Qc3i7yEtToSZf9tx_rm0RRTInE8NwNIA5CwhEDM=s64",
      "userId": "15557768782438349168"
     },
     "user_tz": 180
    },
    "hidden": true,
    "id": "BiCGgqp6f9SX",
    "outputId": "a4f27950-2f44-4135-da7e-4aec9addef77",
    "papermill": {
     "duration": 0.03357,
     "end_time": "2023-04-17T22:41:44.638571",
     "exception": false,
     "start_time": "2023-04-17T22:41:44.605001",
     "status": "completed"
    },
    "tags": []
   },
   "outputs": [
    {
     "name": "stdout",
     "output_type": "stream",
     "text": [
      "Epoch[1/100], loss: 0.469163\n",
      "Epoch[2/100], loss: 0.058070\n",
      "Epoch[3/100], loss: 0.030543\n",
      "Epoch[4/100], loss: 0.028105\n",
      "Epoch[5/100], loss: 0.027364\n",
      "Epoch[6/100], loss: 0.026787\n",
      "Epoch[7/100], loss: 0.026269\n",
      "Epoch[8/100], loss: 0.025799\n",
      "Epoch[9/100], loss: 0.025373\n",
      "Epoch[10/100], loss: 0.024986\n",
      "Epoch[11/100], loss: 0.024634\n",
      "Epoch[12/100], loss: 0.024315\n",
      "Epoch[13/100], loss: 0.024025\n",
      "Epoch[14/100], loss: 0.023762\n",
      "Epoch[15/100], loss: 0.023524\n",
      "Epoch[16/100], loss: 0.023307\n",
      "Epoch[17/100], loss: 0.023110\n",
      "Epoch[18/100], loss: 0.022931\n",
      "Epoch[19/100], loss: 0.022769\n",
      "Epoch[20/100], loss: 0.022622\n",
      "Epoch[21/100], loss: 0.022488\n",
      "Epoch[22/100], loss: 0.022366\n",
      "Epoch[23/100], loss: 0.022256\n",
      "Epoch[24/100], loss: 0.022156\n",
      "Epoch[25/100], loss: 0.022065\n",
      "Epoch[26/100], loss: 0.021983\n",
      "Epoch[27/100], loss: 0.021908\n",
      "Epoch[28/100], loss: 0.021840\n",
      "Epoch[29/100], loss: 0.021778\n",
      "Epoch[30/100], loss: 0.021722\n",
      "Epoch[31/100], loss: 0.021671\n",
      "Epoch[32/100], loss: 0.021625\n",
      "Epoch[33/100], loss: 0.021583\n",
      "Epoch[34/100], loss: 0.021545\n",
      "Epoch[35/100], loss: 0.021510\n",
      "Epoch[36/100], loss: 0.021479\n",
      "Epoch[37/100], loss: 0.021450\n",
      "Epoch[38/100], loss: 0.021425\n",
      "Epoch[39/100], loss: 0.021401\n",
      "Epoch[40/100], loss: 0.021380\n",
      "Epoch[41/100], loss: 0.021360\n",
      "Epoch[42/100], loss: 0.021343\n",
      "Epoch[43/100], loss: 0.021327\n",
      "Epoch[44/100], loss: 0.021312\n",
      "Epoch[45/100], loss: 0.021299\n",
      "Epoch[46/100], loss: 0.021287\n",
      "Epoch[47/100], loss: 0.021276\n",
      "Epoch[48/100], loss: 0.021267\n",
      "Epoch[49/100], loss: 0.021258\n",
      "Epoch[50/100], loss: 0.021249\n",
      "Epoch[51/100], loss: 0.021242\n",
      "Epoch[52/100], loss: 0.021235\n",
      "Epoch[53/100], loss: 0.021229\n",
      "Epoch[54/100], loss: 0.021224\n",
      "Epoch[55/100], loss: 0.021219\n",
      "Epoch[56/100], loss: 0.021214\n",
      "Epoch[57/100], loss: 0.021210\n",
      "Epoch[58/100], loss: 0.021206\n",
      "Epoch[59/100], loss: 0.021203\n",
      "Epoch[60/100], loss: 0.021200\n",
      "Epoch[61/100], loss: 0.021197\n",
      "Epoch[62/100], loss: 0.021195\n",
      "Epoch[63/100], loss: 0.021192\n",
      "Epoch[64/100], loss: 0.021190\n",
      "Epoch[65/100], loss: 0.021188\n",
      "Epoch[66/100], loss: 0.021186\n",
      "Epoch[67/100], loss: 0.021185\n",
      "Epoch[68/100], loss: 0.021183\n",
      "Epoch[69/100], loss: 0.021182\n",
      "Epoch[70/100], loss: 0.021181\n",
      "Epoch[71/100], loss: 0.021180\n",
      "Epoch[72/100], loss: 0.021179\n",
      "Epoch[73/100], loss: 0.021178\n",
      "Epoch[74/100], loss: 0.021177\n",
      "Epoch[75/100], loss: 0.021177\n",
      "Epoch[76/100], loss: 0.021176\n",
      "Epoch[77/100], loss: 0.021175\n",
      "Epoch[78/100], loss: 0.021175\n",
      "Epoch[79/100], loss: 0.021174\n",
      "Epoch[80/100], loss: 0.021174\n",
      "Epoch[81/100], loss: 0.021173\n",
      "Epoch[82/100], loss: 0.021173\n",
      "Epoch[83/100], loss: 0.021173\n",
      "Epoch[84/100], loss: 0.021172\n",
      "Epoch[85/100], loss: 0.021172\n",
      "Epoch[86/100], loss: 0.021172\n",
      "Epoch[87/100], loss: 0.021172\n",
      "Epoch[88/100], loss: 0.021171\n",
      "Epoch[89/100], loss: 0.021171\n",
      "Epoch[90/100], loss: 0.021171\n",
      "Epoch[91/100], loss: 0.021171\n",
      "Epoch[92/100], loss: 0.021171\n",
      "Epoch[93/100], loss: 0.021171\n",
      "Epoch[94/100], loss: 0.021171\n",
      "Epoch[95/100], loss: 0.021170\n",
      "Epoch[96/100], loss: 0.021170\n",
      "Epoch[97/100], loss: 0.021170\n",
      "Epoch[98/100], loss: 0.021170\n",
      "Epoch[99/100], loss: 0.021170\n",
      "Epoch[100/100], loss: 0.021170\n"
     ]
    }
   ],
   "source": [
    "num_epochs = 100\n",
    "learning_rate = 0.5\n",
    "losses = []\n",
    "for epoch in range(num_epochs):\n",
    "\n",
    "    # forward - predict\n",
    "    y_pred = model.forward(x_train_bias)\n",
    "\n",
    "    #loss cálculo da função de perda\n",
    "    loss = np.square(y_pred - y_train).mean()\n",
    "\n",
    "    # cálculo do gradiente pelas derivadas parciais\n",
    "    w_grad = (2.0/n_samples) * (x_train_bias.T).dot(x_train_bias.dot(model.w.T) - y_train)\n",
    "    \n",
    "    # gradiente descendente\n",
    "    model.w = model.w - learning_rate * w_grad.T\n",
    "    \n",
    "    losses.append(loss)\n",
    "\n",
    "    # verbose \n",
    "    if (epoch+1) % 1 == 0:\n",
    "        print('Epoch[{}/{}], loss: {:.6f}'\n",
    "              .format(epoch+1, num_epochs, loss))"
   ]
  },
  {
   "cell_type": "markdown",
   "id": "b857ca57",
   "metadata": {
    "heading_collapsed": true,
    "id": "1QGlDZABf9Sd",
    "papermill": {
     "duration": 0.014153,
     "end_time": "2023-04-17T22:41:44.667110",
     "exception": false,
     "start_time": "2023-04-17T22:41:44.652957",
     "status": "completed"
    },
    "tags": []
   },
   "source": [
    "## Avaliação"
   ]
  },
  {
   "cell_type": "code",
   "execution_count": 14,
   "id": "ff72a0ae",
   "metadata": {
    "execution": {
     "iopub.execute_input": "2023-04-17T22:41:44.698104Z",
     "iopub.status.busy": "2023-04-17T22:41:44.697591Z",
     "iopub.status.idle": "2023-04-17T22:41:44.918278Z",
     "shell.execute_reply": "2023-04-17T22:41:44.916802Z"
    },
    "papermill": {
     "duration": 0.241826,
     "end_time": "2023-04-17T22:41:44.923299",
     "exception": false,
     "start_time": "2023-04-17T22:41:44.681473",
     "status": "completed"
    },
    "tags": []
   },
   "outputs": [
    {
     "data": {
      "image/png": "[encoded data removed]",
      "text/plain": [
       "<Figure size 640x480 with 1 Axes>"
      ]
     },
     "metadata": {},
     "output_type": "display_data"
    }
   ],
   "source": [
    "plt.plot(losses)\n",
    "plt.xlabel('Epochs')\n",
    "plt.ylabel('Loss')\n",
    "plt.title('Loss x Epochs')\n",
    "plt.show()"
   ]
  },
  {
   "cell_type": "markdown",
   "id": "b84f5c2d",
   "metadata": {
    "hidden": true,
    "id": "6TIimlCmf9Si",
    "papermill": {
     "duration": 0.014904,
     "end_time": "2023-04-17T22:41:44.956177",
     "exception": false,
     "start_time": "2023-04-17T22:41:44.941273",
     "status": "completed"
    },
    "tags": []
   },
   "source": [
    "### Predict"
   ]
  },
  {
   "cell_type": "code",
   "execution_count": 15,
   "id": "8c308a70",
   "metadata": {
    "ExecuteTime": {
     "end_time": "2017-10-08T11:19:39.408412Z",
     "start_time": "2017-10-08T11:19:39.186021Z"
    },
    "execution": {
     "iopub.execute_input": "2023-04-17T22:41:44.988965Z",
     "iopub.status.busy": "2023-04-17T22:41:44.988068Z",
     "iopub.status.idle": "2023-04-17T22:41:45.226303Z",
     "shell.execute_reply": "2023-04-17T22:41:45.224521Z"
    },
    "executionInfo": {
     "elapsed": 875,
     "status": "ok",
     "timestamp": 1623970706050,
     "user": {
      "displayName": "Vitor Casadei",
      "photoUrl": "https://lh3.googleusercontent.com/a-/AOh14Gi_Qc3i7yEtToSZf9tx_rm0RRTInE8NwNIA5CwhEDM=s64",
      "userId": "15557768782438349168"
     },
     "user_tz": 180
    },
    "hidden": true,
    "id": "ToXwbrlsf9Sk",
    "outputId": "bf8dad09-157d-4e7c-b3bc-775fe8c91b4b",
    "papermill": {
     "duration": 0.258363,
     "end_time": "2023-04-17T22:41:45.229297",
     "exception": false,
     "start_time": "2023-04-17T22:41:44.970934",
     "status": "completed"
    },
    "tags": []
   },
   "outputs": [
    {
     "data": {
      "text/plain": [
       "[<matplotlib.lines.Line2D at 0x7867854f8a10>]"
      ]
     },
     "execution_count": 15,
     "metadata": {},
     "output_type": "execute_result"
    },
    {
     "data": {
      "image/png": "[encoded data removed]",
      "text/plain": [
       "<Figure size 640x480 with 1 Axes>"
      ]
     },
     "metadata": {},
     "output_type": "display_data"
    }
   ],
   "source": [
    "y_pred = model.forward(x_train_bias)\n",
    "plt.plot(x_train, y_train, 'ro', label='Original data')\n",
    "plt.plot(x_train, y_pred, 'kx-', label='Fitting Line')"
   ]
  },
  {
   "cell_type": "markdown",
   "id": "416c3f84",
   "metadata": {
    "hidden": true,
    "id": "kQ1hGdItf9So",
    "papermill": {
     "duration": 0.015243,
     "end_time": "2023-04-17T22:41:45.259978",
     "exception": false,
     "start_time": "2023-04-17T22:41:45.244735",
     "status": "completed"
    },
    "tags": []
   },
   "source": [
    "### Parâmetros treinados"
   ]
  },
  {
   "cell_type": "code",
   "execution_count": 16,
   "id": "14356e9f",
   "metadata": {
    "ExecuteTime": {
     "end_time": "2017-10-08T11:19:39.417569Z",
     "start_time": "2017-10-08T11:19:39.411060Z"
    },
    "execution": {
     "iopub.execute_input": "2023-04-17T22:41:45.292542Z",
     "iopub.status.busy": "2023-04-17T22:41:45.292084Z",
     "iopub.status.idle": "2023-04-17T22:41:45.299496Z",
     "shell.execute_reply": "2023-04-17T22:41:45.297610Z"
    },
    "executionInfo": {
     "elapsed": 542,
     "status": "ok",
     "timestamp": 1623970716891,
     "user": {
      "displayName": "Vitor Casadei",
      "photoUrl": "https://lh3.googleusercontent.com/a-/AOh14Gi_Qc3i7yEtToSZf9tx_rm0RRTInE8NwNIA5CwhEDM=s64",
      "userId": "15557768782438349168"
     },
     "user_tz": 180
    },
    "hidden": true,
    "id": "IcEOxTg9f9Sp",
    "outputId": "9d45c9cf-392a-4339-c420-b8d0819321ef",
    "papermill": {
     "duration": 0.027009,
     "end_time": "2023-04-17T22:41:45.302203",
     "exception": false,
     "start_time": "2023-04-17T22:41:45.275194",
     "status": "completed"
    },
    "tags": []
   },
   "outputs": [
    {
     "name": "stdout",
     "output_type": "stream",
     "text": [
      "[[0.26295353 0.68335641]]\n"
     ]
    }
   ],
   "source": [
    "print(model.w)"
   ]
  },
  {
   "cell_type": "markdown",
   "id": "d1d974ee",
   "metadata": {
    "hidden": true,
    "id": "73n0qSOMf9Sr",
    "papermill": {
     "duration": 0.015211,
     "end_time": "2023-04-17T22:41:45.332917",
     "exception": false,
     "start_time": "2023-04-17T22:41:45.317706",
     "status": "completed"
    },
    "tags": []
   },
   "source": [
    "### Avaliação do modelo"
   ]
  },
  {
   "cell_type": "code",
   "execution_count": 17,
   "id": "769ea6b6",
   "metadata": {
    "execution": {
     "iopub.execute_input": "2023-04-17T22:41:45.366181Z",
     "iopub.status.busy": "2023-04-17T22:41:45.364886Z",
     "iopub.status.idle": "2023-04-17T22:41:45.372875Z",
     "shell.execute_reply": "2023-04-17T22:41:45.371886Z"
    },
    "executionInfo": {
     "elapsed": 515,
     "status": "ok",
     "timestamp": 1623970727597,
     "user": {
      "displayName": "Vitor Casadei",
      "photoUrl": "https://lh3.googleusercontent.com/a-/AOh14Gi_Qc3i7yEtToSZf9tx_rm0RRTInE8NwNIA5CwhEDM=s64",
      "userId": "15557768782438349168"
     },
     "user_tz": 180
    },
    "hidden": true,
    "id": "dI2TE8W6f9Ss",
    "outputId": "e258b829-e4a2-40e4-8f53-41d4262e15fd",
    "papermill": {
     "duration": 0.02714,
     "end_time": "2023-04-17T22:41:45.375435",
     "exception": false,
     "start_time": "2023-04-17T22:41:45.348295",
     "status": "completed"
    },
    "tags": []
   },
   "outputs": [
    {
     "data": {
      "text/plain": [
       "0.02117000379151052"
      ]
     },
     "execution_count": 17,
     "metadata": {},
     "output_type": "execute_result"
    }
   ],
   "source": [
    "loss = np.square(y_pred - y_train).mean()\n",
    "loss"
   ]
  },
  {
   "cell_type": "markdown",
   "id": "0f712d21",
   "metadata": {
    "hidden": true,
    "id": "cv6q3ElSf9Sv",
    "papermill": {
     "duration": 0.015334,
     "end_time": "2023-04-17T22:41:45.406624",
     "exception": false,
     "start_time": "2023-04-17T22:41:45.391290",
     "status": "completed"
    },
    "tags": []
   },
   "source": [
    "### Valor ótimo, solução analítica"
   ]
  },
  {
   "cell_type": "markdown",
   "id": "140bc7ae",
   "metadata": {
    "hidden": true,
    "id": "qYgHOaNmf9Sv",
    "papermill": {
     "duration": 0.015024,
     "end_time": "2023-04-17T22:41:45.437705",
     "exception": false,
     "start_time": "2023-04-17T22:41:45.422681",
     "status": "completed"
    },
    "tags": []
   },
   "source": [
    "$$  \\mathbf{w} =(\\mathbf{x^T} \\mathbf{x})^{−1}\\mathbf{x^T} \\mathbf{y} $$"
   ]
  },
  {
   "cell_type": "code",
   "execution_count": 18,
   "id": "10d6e16c",
   "metadata": {
    "ExecuteTime": {
     "end_time": "2017-10-08T11:19:39.432480Z",
     "start_time": "2017-10-08T11:19:39.420006Z"
    },
    "execution": {
     "iopub.execute_input": "2023-04-17T22:41:45.471459Z",
     "iopub.status.busy": "2023-04-17T22:41:45.470987Z",
     "iopub.status.idle": "2023-04-17T22:41:45.479987Z",
     "shell.execute_reply": "2023-04-17T22:41:45.478296Z"
    },
    "executionInfo": {
     "elapsed": 519,
     "status": "ok",
     "timestamp": 1623970739792,
     "user": {
      "displayName": "Vitor Casadei",
      "photoUrl": "https://lh3.googleusercontent.com/a-/AOh14Gi_Qc3i7yEtToSZf9tx_rm0RRTInE8NwNIA5CwhEDM=s64",
      "userId": "15557768782438349168"
     },
     "user_tz": 180
    },
    "hidden": true,
    "id": "OmrggYvmf9Sw",
    "outputId": "9220d8f4-a6a2-4799-e746-29327229b0e0",
    "papermill": {
     "duration": 0.029583,
     "end_time": "2023-04-17T22:41:45.482938",
     "exception": false,
     "start_time": "2023-04-17T22:41:45.453355",
     "status": "completed"
    },
    "tags": []
   },
   "outputs": [
    {
     "name": "stdout",
     "output_type": "stream",
     "text": [
      "[[0.26134159 0.68646976]]\n"
     ]
    }
   ],
   "source": [
    "x = x_train_bias\n",
    "y = y_train\n",
    "w_opt = (np.linalg.inv((x.T).dot(x)).dot(x.T)).dot(y)\n",
    "print(w_opt.T)"
   ]
  },
  {
   "cell_type": "code",
   "execution_count": 19,
   "id": "f973f5ee",
   "metadata": {
    "execution": {
     "iopub.execute_input": "2023-04-17T22:41:45.516757Z",
     "iopub.status.busy": "2023-04-17T22:41:45.516318Z",
     "iopub.status.idle": "2023-04-17T22:41:45.523590Z",
     "shell.execute_reply": "2023-04-17T22:41:45.521728Z"
    },
    "papermill": {
     "duration": 0.028293,
     "end_time": "2023-04-17T22:41:45.526872",
     "exception": false,
     "start_time": "2023-04-17T22:41:45.498579",
     "status": "completed"
    },
    "tags": []
   },
   "outputs": [],
   "source": [
    "model.w = w_opt.T"
   ]
  },
  {
   "cell_type": "code",
   "execution_count": 20,
   "id": "d8abb891",
   "metadata": {
    "execution": {
     "iopub.execute_input": "2023-04-17T22:41:45.561968Z",
     "iopub.status.busy": "2023-04-17T22:41:45.560432Z",
     "iopub.status.idle": "2023-04-17T22:41:45.569852Z",
     "shell.execute_reply": "2023-04-17T22:41:45.568496Z"
    },
    "papermill": {
     "duration": 0.029087,
     "end_time": "2023-04-17T22:41:45.572342",
     "exception": false,
     "start_time": "2023-04-17T22:41:45.543255",
     "status": "completed"
    },
    "tags": []
   },
   "outputs": [
    {
     "data": {
      "text/plain": [
       "0.021169424119097165"
      ]
     },
     "execution_count": 20,
     "metadata": {},
     "output_type": "execute_result"
    }
   ],
   "source": [
    "y_pred = model.forward(x_train_bias)\n",
    "loss_opt = np.square(y_pred - y_train).mean()\n",
    "loss_opt"
   ]
  },
  {
   "cell_type": "code",
   "execution_count": 21,
   "id": "24d3bf46",
   "metadata": {
    "execution": {
     "iopub.execute_input": "2023-04-17T22:41:45.605456Z",
     "iopub.status.busy": "2023-04-17T22:41:45.604980Z",
     "iopub.status.idle": "2023-04-17T22:41:45.613356Z",
     "shell.execute_reply": "2023-04-17T22:41:45.611780Z"
    },
    "papermill": {
     "duration": 0.027846,
     "end_time": "2023-04-17T22:41:45.615720",
     "exception": false,
     "start_time": "2023-04-17T22:41:45.587874",
     "status": "completed"
    },
    "tags": []
   },
   "outputs": [
    {
     "data": {
      "text/plain": [
       "(0.02117000379151052, 0.021169424119097165)"
      ]
     },
     "execution_count": 21,
     "metadata": {},
     "output_type": "execute_result"
    }
   ],
   "source": [
    "loss, loss_opt"
   ]
  },
  {
   "cell_type": "markdown",
   "id": "5f126698",
   "metadata": {
    "heading_collapsed": true,
    "id": "2eMOcW8Ff9Sz",
    "papermill": {
     "duration": 0.015267,
     "end_time": "2023-04-17T22:41:45.646767",
     "exception": false,
     "start_time": "2023-04-17T22:41:45.631500",
     "status": "completed"
    },
    "tags": []
   },
   "source": [
    "# Exercícios"
   ]
  },
  {
   "cell_type": "markdown",
   "id": "f036db10",
   "metadata": {
    "hidden": true,
    "id": "tCKeOB1-f9S1",
    "papermill": {
     "duration": 0.015258,
     "end_time": "2023-04-17T22:41:45.677698",
     "exception": false,
     "start_time": "2023-04-17T22:41:45.662440",
     "status": "completed"
    },
    "tags": []
   },
   "source": [
    "## Questões"
   ]
  },
  {
   "cell_type": "markdown",
   "id": "10249243",
   "metadata": {
    "hidden": true,
    "id": "c-KyP13vf9S2",
    "papermill": {
     "duration": 0.015302,
     "end_time": "2023-04-17T22:41:45.708658",
     "exception": false,
     "start_time": "2023-04-17T22:41:45.693356",
     "status": "completed"
    },
    "tags": []
   },
   "source": [
    "1. Quantos parâmetros são treinados nesse modelo?\n",
    "    - **2 parâmetros**\n",
    "\n",
    "2. Qual é o número de atributos de entrada para a rede?\n",
    "    - **2 atributos**\n",
    "\n",
    "3. Qual é o número de saídas da rede?\n",
    "    - **1 saída**\n",
    "\n",
    "4. Suponha que eu tenha agora 5 mil amostras para fazer a predição. Qual é o shape da matriz de entrada? \n",
    "   Qual é o shape do matriz de saída?\n",
    "   - **Shape de entrada é (5000, 2) e saída é (5000, 1)**\n"
   ]
  },
  {
   "cell_type": "markdown",
   "id": "ddcdc984",
   "metadata": {
    "hidden": true,
    "id": "oaj0t2gpf9S3",
    "papermill": {
     "duration": 0.015134,
     "end_time": "2023-04-17T22:41:45.739420",
     "exception": false,
     "start_time": "2023-04-17T22:41:45.724286",
     "status": "completed"
    },
    "tags": []
   },
   "source": [
    "## Atividades"
   ]
  },
  {
   "cell_type": "markdown",
   "id": "a969533e",
   "metadata": {
    "hidden": true,
    "id": "pR_fNYurf9S3",
    "papermill": {
     "duration": 0.015439,
     "end_time": "2023-04-17T22:41:45.770441",
     "exception": false,
     "start_time": "2023-04-17T22:41:45.755002",
     "status": "completed"
    },
    "tags": []
   },
   "source": [
    "1. Modifique o laço do treinamento via gradiente descendente para guardar em uma lista, o valor da perda no final\n",
    "   de cada época. Após o treinamento, plote o valor da perda em função da época.\n",
    "2. Calcule o valor da perda (MSE) da rede com os parâmetros inicializados, sem serem treinados.\n",
    "3. Coloque os valores dos pesos da solução ótima analítica no modelo da rede e calcule o valor da perda (MSE) e\n",
    "   compare com o valor da perda obtida pelo método da otimização via gradiente descendente."
   ]
  },
  {
   "cell_type": "markdown",
   "id": "ff08587f",
   "metadata": {
    "id": "tgmMhSm2f9S4",
    "papermill": {
     "duration": 0.015213,
     "end_time": "2023-04-17T22:41:45.801291",
     "exception": false,
     "start_time": "2023-04-17T22:41:45.786078",
     "status": "completed"
    },
    "tags": []
   },
   "source": [
    "# Aprendizados"
   ]
  },
  {
   "cell_type": "markdown",
   "id": "7c82604e",
   "metadata": {
    "papermill": {
     "duration": 0.015781,
     "end_time": "2023-04-17T22:41:45.832733",
     "exception": false,
     "start_time": "2023-04-17T22:41:45.816952",
     "status": "completed"
    },
    "tags": []
   },
   "source": [
    "Foi possível entender como são implementadas as principais funções do processo de treinamento:\n",
    "1. Gradiente descendente (cálculo da derivada e atualização dos pesos)\n",
    "2. Função de custo (MSE)\n",
    "3. Inicialização e forward dos pesos x entradas."
   ]
  }
 ],
 "metadata": {
  "kernelspec": {
   "display_name": "Python 3",
   "language": "python",
   "name": "python3"
  },
  "language_info": {
   "codemirror_mode": {
    "name": "ipython",
    "version": 3
   },
   "file_extension": ".py",
   "mimetype": "text/x-python",
   "name": "python",
   "nbconvert_exporter": "python",
   "pygments_lexer": "ipython3",
   "version": "3.7.12"
  },
  "papermill": {
   "default_parameters": {},
   "duration": 18.121457,
   "end_time": "2023-04-17T22:41:46.672656",
   "environment_variables": {},
   "exception": null,
   "input_path": "__notebook__.ipynb",
   "output_path": "__notebook__.ipynb",
   "parameters": {},
   "start_time": "2023-04-17T22:41:28.551199",
   "version": "2.4.0"
  }
 },
 "nbformat": 4,
 "nbformat_minor": 5
}
