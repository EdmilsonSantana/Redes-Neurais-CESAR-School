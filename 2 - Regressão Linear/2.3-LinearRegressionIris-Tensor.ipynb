{
 "cells": [
  {
   "cell_type": "markdown",
   "id": "16cbefba",
   "metadata": {
    "id": "FLBIxJCuhqix",
    "papermill": {
     "duration": 0.010274,
     "end_time": "2023-04-17T23:16:56.382561",
     "exception": false,
     "start_time": "2023-04-17T23:16:56.372287",
     "status": "completed"
    },
    "tags": []
   },
   "source": [
    "# Exercício Regressão Linear com PyTorch"
   ]
  },
  {
   "cell_type": "markdown",
   "id": "3d63f089",
   "metadata": {
    "ExecuteTime": {
     "end_time": "2017-11-23T20:02:40.968451Z",
     "start_time": "2017-11-23T20:02:40.961876Z"
    },
    "id": "7ifi42Klhqix",
    "papermill": {
     "duration": 0.008617,
     "end_time": "2023-04-17T23:16:56.400379",
     "exception": false,
     "start_time": "2023-04-17T23:16:56.391762",
     "status": "completed"
    },
    "tags": []
   },
   "source": [
    "O objetivo desse notebook é reescrevê-lo porém utilizando tensores do PyTorch.\n",
    "\n",
    "Os nomes das funções do PyTorch são próximas das funções do Torch original escrito\n",
    "na linguagem Lua, porém não são iguais."
   ]
  },
  {
   "cell_type": "markdown",
   "id": "c562a655",
   "metadata": {
    "id": "y1KiGNl3hqi0",
    "papermill": {
     "duration": 0.008604,
     "end_time": "2023-04-17T23:16:56.418059",
     "exception": false,
     "start_time": "2023-04-17T23:16:56.409455",
     "status": "completed"
    },
    "tags": []
   },
   "source": [
    "## Importação dos pacotes"
   ]
  },
  {
   "cell_type": "code",
   "execution_count": 1,
   "id": "70a35df0",
   "metadata": {
    "ExecuteTime": {
     "end_time": "2018-02-04T16:01:57.407205Z",
     "start_time": "2018-02-04T16:01:55.699674Z"
    },
    "execution": {
     "iopub.execute_input": "2023-04-17T23:16:56.438558Z",
     "iopub.status.busy": "2023-04-17T23:16:56.437681Z",
     "iopub.status.idle": "2023-04-17T23:17:00.337506Z",
     "shell.execute_reply": "2023-04-17T23:17:00.336200Z"
    },
    "executionInfo": {
     "elapsed": 227,
     "status": "ok",
     "timestamp": 1623964752533,
     "user": {
      "displayName": "Vitor Casadei",
      "photoUrl": "https://lh3.googleusercontent.com/a-/AOh14Gi_Qc3i7yEtToSZf9tx_rm0RRTInE8NwNIA5CwhEDM=s64",
      "userId": "15557768782438349168"
     },
     "user_tz": 180
    },
    "id": "AjzEaCTrhqi1",
    "papermill": {
     "duration": 3.914305,
     "end_time": "2023-04-17T23:17:00.341397",
     "exception": false,
     "start_time": "2023-04-17T23:16:56.427092",
     "status": "completed"
    },
    "tags": []
   },
   "outputs": [],
   "source": [
    "%matplotlib inline\n",
    "import torch\n",
    "\n",
    "import matplotlib.pyplot as plt\n",
    "from sklearn.datasets import load_iris\n",
    "\n",
    "torch.manual_seed(1234)\n",
    "\n",
    "def print_assert(r):\n",
    "    if r:\n",
    "        return 'OK!'\n",
    "    else:\n",
    "        return 'Incorreto!'"
   ]
  },
  {
   "cell_type": "markdown",
   "id": "a546260a",
   "metadata": {
    "id": "T1KoBM1Khqi4",
    "papermill": {
     "duration": 0.009302,
     "end_time": "2023-04-17T23:17:00.361090",
     "exception": false,
     "start_time": "2023-04-17T23:17:00.351788",
     "status": "completed"
    },
    "tags": []
   },
   "source": [
    "## Dataset"
   ]
  },
  {
   "cell_type": "markdown",
   "id": "4ac8bf8a",
   "metadata": {
    "id": "8p8NrS7Lhqi5",
    "papermill": {
     "duration": 0.00858,
     "end_time": "2023-04-17T23:17:00.379946",
     "exception": false,
     "start_time": "2023-04-17T23:17:00.371366",
     "status": "completed"
    },
    "tags": []
   },
   "source": [
    "### Leitura dos dados"
   ]
  },
  {
   "cell_type": "code",
   "execution_count": 2,
   "id": "91e60aab",
   "metadata": {
    "ExecuteTime": {
     "end_time": "2018-02-04T16:01:58.800961Z",
     "start_time": "2018-02-04T16:01:58.778655Z"
    },
    "execution": {
     "iopub.execute_input": "2023-04-17T23:17:00.400741Z",
     "iopub.status.busy": "2023-04-17T23:17:00.399670Z",
     "iopub.status.idle": "2023-04-17T23:17:00.572420Z",
     "shell.execute_reply": "2023-04-17T23:17:00.569732Z"
    },
    "executionInfo": {
     "elapsed": 287,
     "status": "ok",
     "timestamp": 1623964760453,
     "user": {
      "displayName": "Vitor Casadei",
      "photoUrl": "https://lh3.googleusercontent.com/a-/AOh14Gi_Qc3i7yEtToSZf9tx_rm0RRTInE8NwNIA5CwhEDM=s64",
      "userId": "15557768782438349168"
     },
     "user_tz": 180
    },
    "id": "bz2JpDCChqi6",
    "outputId": "d6c59e73-552d-4e68-dd07-77fa01c2f479",
    "papermill": {
     "duration": 0.187787,
     "end_time": "2023-04-17T23:17:00.576646",
     "exception": false,
     "start_time": "2023-04-17T23:17:00.388859",
     "status": "completed"
    },
    "tags": []
   },
   "outputs": [
    {
     "name": "stdout",
     "output_type": "stream",
     "text": [
      "x_train.shape: torch.Size([50, 1]) <class 'torch.Tensor'>\n",
      "y_train.shape: torch.Size([50, 1]) <class 'torch.Tensor'>\n",
      "x_train[:5]:\n",
      " tensor([[7.0000],\n",
      "        [6.4000],\n",
      "        [6.9000],\n",
      "        [5.5000],\n",
      "        [6.5000]])\n",
      "y_train[:5]:\n",
      " tensor([[4.7000],\n",
      "        [4.5000],\n",
      "        [4.9000],\n",
      "        [4.0000],\n",
      "        [4.6000]])\n"
     ]
    },
    {
     "data": {
      "text/html": [
       "<div>\n",
       "<style scoped>\n",
       "    .dataframe tbody tr th:only-of-type {\n",
       "        vertical-align: middle;\n",
       "    }\n",
       "\n",
       "    .dataframe tbody tr th {\n",
       "        vertical-align: top;\n",
       "    }\n",
       "\n",
       "    .dataframe thead th {\n",
       "        text-align: right;\n",
       "    }\n",
       "</style>\n",
       "<table border=\"1\" class=\"dataframe\">\n",
       "  <thead>\n",
       "    <tr style=\"text-align: right;\">\n",
       "      <th></th>\n",
       "      <th>x_in</th>\n",
       "      <th>y_in</th>\n",
       "    </tr>\n",
       "  </thead>\n",
       "  <tbody>\n",
       "    <tr>\n",
       "      <th>0</th>\n",
       "      <td>7.0</td>\n",
       "      <td>4.7</td>\n",
       "    </tr>\n",
       "    <tr>\n",
       "      <th>1</th>\n",
       "      <td>6.4</td>\n",
       "      <td>4.5</td>\n",
       "    </tr>\n",
       "    <tr>\n",
       "      <th>2</th>\n",
       "      <td>6.9</td>\n",
       "      <td>4.9</td>\n",
       "    </tr>\n",
       "    <tr>\n",
       "      <th>3</th>\n",
       "      <td>5.5</td>\n",
       "      <td>4.0</td>\n",
       "    </tr>\n",
       "    <tr>\n",
       "      <th>4</th>\n",
       "      <td>6.5</td>\n",
       "      <td>4.6</td>\n",
       "    </tr>\n",
       "  </tbody>\n",
       "</table>\n",
       "</div>"
      ],
      "text/plain": [
       "   x_in  y_in\n",
       "0   7.0   4.7\n",
       "1   6.4   4.5\n",
       "2   6.9   4.9\n",
       "3   5.5   4.0\n",
       "4   6.5   4.6"
      ]
     },
     "execution_count": 2,
     "metadata": {},
     "output_type": "execute_result"
    }
   ],
   "source": [
    "import pandas as pd\n",
    "iris = load_iris()\n",
    "data = iris.data[iris.target==1,::2]  # comprimento das sépalas e pétalas, indices 0 e 2\n",
    "\n",
    "x_in = data[:,0:1]\n",
    "y_in = data[:,1:2]\n",
    "\n",
    "x_train = torch.FloatTensor(x_in)\n",
    "y_train = torch.FloatTensor(y_in)\n",
    "\n",
    "n_samples = x_train.size(0)\n",
    "print('x_train.shape:',x_train.shape, type(x_train))\n",
    "print('y_train.shape:',y_train.shape, type(y_train))\n",
    "\n",
    "print('x_train[:5]:\\n', x_train[:5])\n",
    "print('y_train[:5]:\\n', y_train[:5])\n",
    "\n",
    "iris_pd = pd.DataFrame(x_in, columns=['x_in'])\n",
    "iris_pd['y_in'] = y_in\n",
    "iris_pd.head()"
   ]
  },
  {
   "cell_type": "markdown",
   "id": "e96f7f05",
   "metadata": {
    "id": "EdDMPH5Ehqi_",
    "papermill": {
     "duration": 0.008941,
     "end_time": "2023-04-17T23:17:00.596449",
     "exception": false,
     "start_time": "2023-04-17T23:17:00.587508",
     "status": "completed"
    },
    "tags": []
   },
   "source": [
    "### Normalização dos dados"
   ]
  },
  {
   "cell_type": "code",
   "execution_count": 3,
   "id": "2d2ea915",
   "metadata": {
    "ExecuteTime": {
     "end_time": "2018-02-04T16:02:00.272143Z",
     "start_time": "2018-02-04T16:02:00.266943Z"
    },
    "execution": {
     "iopub.execute_input": "2023-04-17T23:17:00.617412Z",
     "iopub.status.busy": "2023-04-17T23:17:00.616620Z",
     "iopub.status.idle": "2023-04-17T23:17:00.911841Z",
     "shell.execute_reply": "2023-04-17T23:17:00.910645Z"
    },
    "executionInfo": {
     "elapsed": 406,
     "status": "ok",
     "timestamp": 1623964763990,
     "user": {
      "displayName": "Vitor Casadei",
      "photoUrl": "https://lh3.googleusercontent.com/a-/AOh14Gi_Qc3i7yEtToSZf9tx_rm0RRTInE8NwNIA5CwhEDM=s64",
      "userId": "15557768782438349168"
     },
     "user_tz": 180
    },
    "id": "CthUVnEBhqjB",
    "outputId": "5d9c95aa-87a5-4e96-9307-c6d353f96200",
    "papermill": {
     "duration": 0.308883,
     "end_time": "2023-04-17T23:17:00.914506",
     "exception": false,
     "start_time": "2023-04-17T23:17:00.605623",
     "status": "completed"
    },
    "tags": []
   },
   "outputs": [
    {
     "data": {
      "text/plain": [
       "Text(0, 0.5, 'Comprimento petalas')"
      ]
     },
     "execution_count": 3,
     "metadata": {},
     "output_type": "execute_result"
    },
    {
     "data": {
      "image/png": "[encoded data removed]",
      "text/plain": [
       "<Figure size 640x480 with 1 Axes>"
      ]
     },
     "metadata": {},
     "output_type": "display_data"
    }
   ],
   "source": [
    "x_train -= x_train.min()\n",
    "x_train /= x_train.max()\n",
    "y_train -= y_train.min()\n",
    "y_train /= y_train.max()\n",
    "\n",
    "plt.scatter(x_train,y_train)\n",
    "plt.xlabel('Comprimento sepalas')\n",
    "plt.ylabel('Comprimento petalas')"
   ]
  },
  {
   "cell_type": "markdown",
   "id": "3d9d490d",
   "metadata": {
    "id": "l6bRM0fZhqjD",
    "papermill": {
     "duration": 0.009466,
     "end_time": "2023-04-17T23:17:00.933950",
     "exception": false,
     "start_time": "2023-04-17T23:17:00.924484",
     "status": "completed"
    },
    "tags": []
   },
   "source": [
    "### criação do `x_train_bias`"
   ]
  },
  {
   "cell_type": "markdown",
   "id": "33a44d98",
   "metadata": {
    "id": "19c3cPARhqjE",
    "papermill": {
     "duration": 0.00929,
     "end_time": "2023-04-17T23:17:00.953052",
     "exception": false,
     "start_time": "2023-04-17T23:17:00.943762",
     "status": "completed"
    },
    "tags": []
   },
   "source": [
    "faça o `x_train_bias` ser uma matriz com 1s na primeira coluna e x_train na segunda coluna.\n",
    "\n",
    "\n",
    "\n",
    "\n",
    "Dica: você pode precisar da função [torch.cat](http://pytorch.org/docs/master/torch.html#torch.cat) e [torch.ones](http://pytorch.org/docs/master/torch.html#torch.ones)."
   ]
  },
  {
   "cell_type": "code",
   "execution_count": 4,
   "id": "3018de33",
   "metadata": {
    "execution": {
     "iopub.execute_input": "2023-04-17T23:17:00.974775Z",
     "iopub.status.busy": "2023-04-17T23:17:00.973930Z",
     "iopub.status.idle": "2023-04-17T23:17:00.983881Z",
     "shell.execute_reply": "2023-04-17T23:17:00.982800Z"
    },
    "executionInfo": {
     "elapsed": 256,
     "status": "ok",
     "timestamp": 1623964767606,
     "user": {
      "displayName": "Vitor Casadei",
      "photoUrl": "https://lh3.googleusercontent.com/a-/AOh14Gi_Qc3i7yEtToSZf9tx_rm0RRTInE8NwNIA5CwhEDM=s64",
      "userId": "15557768782438349168"
     },
     "user_tz": 180
    },
    "id": "5CiVS_025I_q",
    "outputId": "bd2d0c19-6855-4f35-8852-eb2172021a9a",
    "papermill": {
     "duration": 0.023791,
     "end_time": "2023-04-17T23:17:00.986559",
     "exception": false,
     "start_time": "2023-04-17T23:17:00.962768",
     "status": "completed"
    },
    "tags": []
   },
   "outputs": [
    {
     "data": {
      "text/plain": [
       "tensor([[1.],\n",
       "        [1.],\n",
       "        [1.]])"
      ]
     },
     "execution_count": 4,
     "metadata": {},
     "output_type": "execute_result"
    }
   ],
   "source": [
    "bias = torch.ones(x_train.shape)\n",
    "bias[:3]"
   ]
  },
  {
   "cell_type": "code",
   "execution_count": 5,
   "id": "9c7bae1a",
   "metadata": {
    "execution": {
     "iopub.execute_input": "2023-04-17T23:17:01.009300Z",
     "iopub.status.busy": "2023-04-17T23:17:01.007898Z",
     "iopub.status.idle": "2023-04-17T23:17:01.021914Z",
     "shell.execute_reply": "2023-04-17T23:17:01.020620Z"
    },
    "papermill": {
     "duration": 0.027995,
     "end_time": "2023-04-17T23:17:01.024539",
     "exception": false,
     "start_time": "2023-04-17T23:17:00.996544",
     "status": "completed"
    },
    "tags": []
   },
   "outputs": [
    {
     "data": {
      "text/plain": [
       "tensor([[1.0000, 1.0000],\n",
       "        [1.0000, 0.7143],\n",
       "        [1.0000, 0.9524],\n",
       "        [1.0000, 0.2857],\n",
       "        [1.0000, 0.7619],\n",
       "        [1.0000, 0.3810],\n",
       "        [1.0000, 0.6667],\n",
       "        [1.0000, 0.0000],\n",
       "        [1.0000, 0.8095],\n",
       "        [1.0000, 0.1429]])"
      ]
     },
     "execution_count": 5,
     "metadata": {},
     "output_type": "execute_result"
    }
   ],
   "source": [
    "x_train_bias = torch.cat((bias, x_train), dim=1)\n",
    "x_train_bias[:10]"
   ]
  },
  {
   "cell_type": "markdown",
   "id": "02ff3fa8",
   "metadata": {
    "papermill": {
     "duration": 0.009863,
     "end_time": "2023-04-17T23:17:01.044477",
     "exception": false,
     "start_time": "2023-04-17T23:17:01.034614",
     "status": "completed"
    },
    "tags": []
   },
   "source": [
    "<details>\n",
    "<summary>Mostrar Resultado</summary>\n",
    "\n",
    "```python\n",
    "x_train_bias = torch.cat((torch.ones(n_samples, 1), x_train), dim=1)\n",
    "print(x_train_bias.size())\n",
    "```\n",
    "\n",
    "</details>\n"
   ]
  },
  {
   "cell_type": "code",
   "execution_count": 6,
   "id": "4498e61d",
   "metadata": {
    "ExecuteTime": {
     "end_time": "2018-02-04T16:02:06.278514Z",
     "start_time": "2018-02-04T16:02:06.268450Z"
    },
    "execution": {
     "iopub.execute_input": "2023-04-17T23:17:01.067044Z",
     "iopub.status.busy": "2023-04-17T23:17:01.066572Z",
     "iopub.status.idle": "2023-04-17T23:17:01.076270Z",
     "shell.execute_reply": "2023-04-17T23:17:01.075034Z"
    },
    "executionInfo": {
     "elapsed": 10,
     "status": "ok",
     "timestamp": 1623964768966,
     "user": {
      "displayName": "Vitor Casadei",
      "photoUrl": "https://lh3.googleusercontent.com/a-/AOh14Gi_Qc3i7yEtToSZf9tx_rm0RRTInE8NwNIA5CwhEDM=s64",
      "userId": "15557768782438349168"
     },
     "user_tz": 180
    },
    "id": "TdpisrMYhqjI",
    "outputId": "9ca25d1f-7feb-4223-ff5d-3028da2ffcb9",
    "papermill": {
     "duration": 0.024555,
     "end_time": "2023-04-17T23:17:01.079168",
     "exception": false,
     "start_time": "2023-04-17T23:17:01.054613",
     "status": "completed"
    },
    "tags": []
   },
   "outputs": [
    {
     "name": "stdout",
     "output_type": "stream",
     "text": [
      "x_train_bias é um tensor: OK!\n",
      "tamanho do x_train_bias: OK!\n",
      "primeira coluna é só de uns: OK!\n",
      "segunda coluna é igual a x_train: OK!\n"
     ]
    }
   ],
   "source": [
    "# Verificação do exercício - Execute para testar sua implementação\n",
    "\n",
    "print('x_train_bias é um tensor: {}'.format(print_assert(\n",
    "    isinstance(x_train_bias, torch.FloatTensor)\n",
    ")))\n",
    "\n",
    "    \n",
    "print('tamanho do x_train_bias: {}'.format(print_assert(\n",
    "    x_train_bias.size() == torch.Size([50, 2])\n",
    ")))\n",
    "\n",
    "print('primeira coluna é só de uns: {}'.format(print_assert(\n",
    "    (x_train_bias[:, 0] - torch.ones(n_samples)).sum() == 0\n",
    ")))\n",
    "\n",
    "print('segunda coluna é igual a x_train: {}'.format(print_assert(\n",
    "    (x_train_bias[:, 1] - x_train.reshape(50)).sum() == 0\n",
    ")))\n"
   ]
  },
  {
   "cell_type": "markdown",
   "id": "87f2e092",
   "metadata": {
    "id": "Lg9Tq18khqjO",
    "papermill": {
     "duration": 0.011065,
     "end_time": "2023-04-17T23:17:01.100511",
     "exception": false,
     "start_time": "2023-04-17T23:17:01.089446",
     "status": "completed"
    },
    "tags": []
   },
   "source": [
    "## Modelo da rede"
   ]
  },
  {
   "cell_type": "markdown",
   "id": "891e6e2a",
   "metadata": {
    "id": "UR6aot_thqjO",
    "papermill": {
     "duration": 0.010031,
     "end_time": "2023-04-17T23:17:01.121247",
     "exception": false,
     "start_time": "2023-04-17T23:17:01.111216",
     "status": "completed"
    },
    "tags": []
   },
   "source": [
    "### Definição da classe"
   ]
  },
  {
   "cell_type": "code",
   "execution_count": 7,
   "id": "c8f81d59",
   "metadata": {
    "ExecuteTime": {
     "end_time": "2018-02-04T16:02:09.598222Z",
     "start_time": "2018-02-04T16:02:09.591078Z"
    },
    "execution": {
     "iopub.execute_input": "2023-04-17T23:17:01.143990Z",
     "iopub.status.busy": "2023-04-17T23:17:01.143565Z",
     "iopub.status.idle": "2023-04-17T23:17:01.150360Z",
     "shell.execute_reply": "2023-04-17T23:17:01.149000Z"
    },
    "executionInfo": {
     "elapsed": 298,
     "status": "ok",
     "timestamp": 1623964779959,
     "user": {
      "displayName": "Vitor Casadei",
      "photoUrl": "https://lh3.googleusercontent.com/a-/AOh14Gi_Qc3i7yEtToSZf9tx_rm0RRTInE8NwNIA5CwhEDM=s64",
      "userId": "15557768782438349168"
     },
     "user_tz": 180
    },
    "id": "_H18CQOXhqjP",
    "papermill": {
     "duration": 0.021425,
     "end_time": "2023-04-17T23:17:01.152976",
     "exception": false,
     "start_time": "2023-04-17T23:17:01.131551",
     "status": "completed"
    },
    "tags": []
   },
   "outputs": [],
   "source": [
    "class Net():\n",
    "    def __init__(self, n_in, n_out):\n",
    "        self.w = torch.Tensor(n_out, n_in)\n",
    "        self.w.uniform_(-0.1,0.1) #inicialização dos parâmetros\n",
    "    \n",
    "    def forward(self, x_bias):\n",
    "        return x_bias.matmul(torch.t(self.w)) ## W*X\n",
    "    "
   ]
  },
  {
   "cell_type": "markdown",
   "id": "90132c66",
   "metadata": {
    "id": "vj9y-Ck5hqjS",
    "papermill": {
     "duration": 0.010424,
     "end_time": "2023-04-17T23:17:01.173988",
     "exception": false,
     "start_time": "2023-04-17T23:17:01.163564",
     "status": "completed"
    },
    "tags": []
   },
   "source": [
    "### Instanciando a rede"
   ]
  },
  {
   "cell_type": "code",
   "execution_count": 8,
   "id": "e8c4ee9f",
   "metadata": {
    "ExecuteTime": {
     "end_time": "2018-02-04T16:02:11.321744Z",
     "start_time": "2018-02-04T16:02:11.317928Z"
    },
    "execution": {
     "iopub.execute_input": "2023-04-17T23:17:01.197085Z",
     "iopub.status.busy": "2023-04-17T23:17:01.196633Z",
     "iopub.status.idle": "2023-04-17T23:17:01.208482Z",
     "shell.execute_reply": "2023-04-17T23:17:01.207165Z"
    },
    "executionInfo": {
     "elapsed": 237,
     "status": "ok",
     "timestamp": 1623964782219,
     "user": {
      "displayName": "Vitor Casadei",
      "photoUrl": "https://lh3.googleusercontent.com/a-/AOh14Gi_Qc3i7yEtToSZf9tx_rm0RRTInE8NwNIA5CwhEDM=s64",
      "userId": "15557768782438349168"
     },
     "user_tz": 180
    },
    "id": "Hrmnfv3bhqjT",
    "papermill": {
     "duration": 0.027247,
     "end_time": "2023-04-17T23:17:01.211704",
     "exception": false,
     "start_time": "2023-04-17T23:17:01.184457",
     "status": "completed"
    },
    "tags": []
   },
   "outputs": [],
   "source": [
    "model = Net(2,1)"
   ]
  },
  {
   "cell_type": "markdown",
   "id": "a2a25082",
   "metadata": {
    "id": "-Y-XBG1FhqjV",
    "papermill": {
     "duration": 0.009846,
     "end_time": "2023-04-17T23:17:01.231869",
     "exception": false,
     "start_time": "2023-04-17T23:17:01.222023",
     "status": "completed"
    },
    "tags": []
   },
   "source": [
    "### Testando o predict da rede"
   ]
  },
  {
   "cell_type": "code",
   "execution_count": 9,
   "id": "d2228c00",
   "metadata": {
    "ExecuteTime": {
     "end_time": "2018-02-04T16:02:13.479757Z",
     "start_time": "2018-02-04T16:02:13.409349Z"
    },
    "execution": {
     "iopub.execute_input": "2023-04-17T23:17:01.255283Z",
     "iopub.status.busy": "2023-04-17T23:17:01.254707Z",
     "iopub.status.idle": "2023-04-17T23:17:01.275981Z",
     "shell.execute_reply": "2023-04-17T23:17:01.274832Z"
    },
    "executionInfo": {
     "elapsed": 245,
     "status": "ok",
     "timestamp": 1623964784014,
     "user": {
      "displayName": "Vitor Casadei",
      "photoUrl": "https://lh3.googleusercontent.com/a-/AOh14Gi_Qc3i7yEtToSZf9tx_rm0RRTInE8NwNIA5CwhEDM=s64",
      "userId": "15557768782438349168"
     },
     "user_tz": 180
    },
    "id": "yhStqIqShqjV",
    "outputId": "58d0fff0-d754-4843-8fd1-2e028749b981",
    "papermill": {
     "duration": 0.036616,
     "end_time": "2023-04-17T23:17:01.278612",
     "exception": false,
     "start_time": "2023-04-17T23:17:01.241996",
     "status": "completed"
    },
    "tags": []
   },
   "outputs": [
    {
     "data": {
      "text/plain": [
       "tensor([[-0.1138],\n",
       "        [-0.1138],\n",
       "        [-0.1138],\n",
       "        [-0.1138]])"
      ]
     },
     "execution_count": 9,
     "metadata": {},
     "output_type": "execute_result"
    }
   ],
   "source": [
    "model.forward(torch.ones((4,2)))"
   ]
  },
  {
   "cell_type": "code",
   "execution_count": 10,
   "id": "de953b68",
   "metadata": {
    "execution": {
     "iopub.execute_input": "2023-04-17T23:17:01.302034Z",
     "iopub.status.busy": "2023-04-17T23:17:01.301150Z",
     "iopub.status.idle": "2023-04-17T23:17:01.316440Z",
     "shell.execute_reply": "2023-04-17T23:17:01.314977Z"
    },
    "papermill": {
     "duration": 0.02966,
     "end_time": "2023-04-17T23:17:01.319085",
     "exception": false,
     "start_time": "2023-04-17T23:17:01.289425",
     "status": "completed"
    },
    "tags": []
   },
   "outputs": [
    {
     "data": {
      "text/plain": [
       "0.5461399555206299"
      ]
     },
     "execution_count": 10,
     "metadata": {},
     "output_type": "execute_result"
    }
   ],
   "source": [
    "y_pred = model.forward(x_train_bias)\n",
    "loss = torch.mean(torch.square(y_pred - y_train))\n",
    "loss.item()"
   ]
  },
  {
   "cell_type": "markdown",
   "id": "75d1a0e8",
   "metadata": {
    "id": "4vanbhwdhqjZ",
    "papermill": {
     "duration": 0.010114,
     "end_time": "2023-04-17T23:17:01.339681",
     "exception": false,
     "start_time": "2023-04-17T23:17:01.329567",
     "status": "completed"
    },
    "tags": []
   },
   "source": [
    "## Treinamento"
   ]
  },
  {
   "cell_type": "markdown",
   "id": "d652055e",
   "metadata": {
    "id": "mYrL0yOnhqjb",
    "papermill": {
     "duration": 0.009957,
     "end_time": "2023-04-17T23:17:01.359996",
     "exception": false,
     "start_time": "2023-04-17T23:17:01.350039",
     "status": "completed"
    },
    "tags": []
   },
   "source": [
    "### Exercício 2 - Treinamento"
   ]
  },
  {
   "cell_type": "markdown",
   "id": "d4fee685",
   "metadata": {
    "id": "ZCOpAvN5hqjb",
    "papermill": {
     "duration": 0.010014,
     "end_time": "2023-04-17T23:17:01.380379",
     "exception": false,
     "start_time": "2023-04-17T23:17:01.370365",
     "status": "completed"
    },
    "tags": []
   },
   "source": [
    "Refaça o código de treinamento da rede, mas agora utilizando somente Tensores do PyTorch. Faça o mesmo procedimento que o notebook [LinearRegressionIrisNumPy](https://github.com/EdmilsonSantana/Redes-Neurais-CESAR-School/blob/2022.02/2%20-%20Regress%C3%A3o%20Linear/2.2-LinearRegressionIrisNumPy.ipynb). Para consultar as operações disponíveis no PyTorch use a [documentação do PyTorch](http://pytorch.org/docs/master/torch.html).\n",
    "\n",
    "Funções que podem ser úteis:\n",
    "- torch.t\n",
    "- torch.mean\n",
    "- torch.matmul"
   ]
  },
  {
   "cell_type": "code",
   "execution_count": 11,
   "id": "de54dc51",
   "metadata": {
    "ExecuteTime": {
     "end_time": "2018-02-04T16:02:18.464526Z",
     "start_time": "2018-02-04T16:02:18.452463Z"
    },
    "execution": {
     "iopub.execute_input": "2023-04-17T23:17:01.403965Z",
     "iopub.status.busy": "2023-04-17T23:17:01.403118Z",
     "iopub.status.idle": "2023-04-17T23:17:01.421424Z",
     "shell.execute_reply": "2023-04-17T23:17:01.419332Z"
    },
    "executionInfo": {
     "elapsed": 227,
     "status": "ok",
     "timestamp": 1623964789961,
     "user": {
      "displayName": "Vitor Casadei",
      "photoUrl": "https://lh3.googleusercontent.com/a-/AOh14Gi_Qc3i7yEtToSZf9tx_rm0RRTInE8NwNIA5CwhEDM=s64",
      "userId": "15557768782438349168"
     },
     "user_tz": 180
    },
    "id": "NEqW54M7hqji",
    "outputId": "14b5db89-46eb-4263-d98b-bacde47b1f4d",
    "papermill": {
     "duration": 0.03349,
     "end_time": "2023-04-17T23:17:01.424416",
     "exception": false,
     "start_time": "2023-04-17T23:17:01.390926",
     "status": "completed"
    },
    "tags": []
   },
   "outputs": [
    {
     "name": "stdout",
     "output_type": "stream",
     "text": [
      "Epoch[20/100], loss: 0.022786\n",
      "Epoch[40/100], loss: 0.021403\n",
      "Epoch[60/100], loss: 0.021203\n",
      "Epoch[80/100], loss: 0.021174\n",
      "Epoch[100/100], loss: 0.021170\n"
     ]
    }
   ],
   "source": [
    "num_epochs = 100\n",
    "learning_rate = 0.5\n",
    "losses = []\n",
    "for epoch in range(num_epochs):\n",
    "\n",
    "    # forward - predict\n",
    "    y_pred = model.forward(x_train_bias)\n",
    "\n",
    "    #loss cálculo da função de perda\n",
    "    loss = torch.mean(torch.square(y_pred - y_train))\n",
    "    \n",
    "    losses.append(loss)\n",
    "\n",
    "    # cálculo do gradiente pelas derivadas parciais\n",
    "    y_diff = torch.matmul(x_train_bias, torch.t(model.w)) - y_train\n",
    "    w_grad = (2.0/n_samples) * torch.matmul(torch.t(x_train_bias), y_diff)\n",
    "\n",
    "    # gradiente descendente\n",
    "    model.w = model.w - learning_rate * torch.t(w_grad)\n",
    "    \n",
    "    # verbose\n",
    "    if (epoch+1) % 20 == 0:\n",
    "        print('Epoch[{}/{}], loss: {:.6f}'\n",
    "              .format(epoch+1, num_epochs, loss))"
   ]
  },
  {
   "cell_type": "markdown",
   "id": "60bf1097",
   "metadata": {
    "papermill": {
     "duration": 0.009904,
     "end_time": "2023-04-17T23:17:01.444845",
     "exception": false,
     "start_time": "2023-04-17T23:17:01.434941",
     "status": "completed"
    },
    "tags": []
   },
   "source": [
    "<details>\n",
    "<summary>Mostrar Resultado</summary>\n",
    "\n",
    "```python\n",
    "num_epochs = 100\n",
    "learning_rate = 0.5\n",
    "for epoch in range(num_epochs):\n",
    "\n",
    "    # forward - predict\n",
    "    y_pred = model.forward(x_train_bias)\n",
    "\n",
    "    #loss cálculo da função de perda\n",
    "    #loss = np.square(y_pred - y_train).mean()\n",
    "    loss = torch.mean((y_pred - y_train)**2)\n",
    "    \n",
    "    # cálculo do gradiente pelas derivadas parciais\n",
    "    #w_grad = (2.0/n_samples) * (x_train_bias.T).dot(x_train_bias.dot(model.w.T) - y_train)\n",
    "    w_grad = (2.0/n_samples) * x_train_bias.t().matmul(x_train_bias.matmul(model.w.t()) - y_train)\n",
    "    \n",
    "    # gradiente descendente\n",
    "    #model.w = model.w - learning_rate * w_grad.T\n",
    "    model.w = model.w - learning_rate * w_grad.t()\n",
    "    \n",
    "    # verbose\n",
    "    if (epoch+1) % 20 == 0:\n",
    "        print('Epoch[{}/{}], loss: {:.6f}'\n",
    "              .format(epoch+1, num_epochs, loss))\n",
    "```\n",
    "\n",
    "</details>\n"
   ]
  },
  {
   "cell_type": "markdown",
   "id": "daa53357",
   "metadata": {
    "id": "mYnhoBb8hqjp",
    "papermill": {
     "duration": 0.010075,
     "end_time": "2023-04-17T23:17:01.465243",
     "exception": false,
     "start_time": "2023-04-17T23:17:01.455168",
     "status": "completed"
    },
    "tags": []
   },
   "source": [
    "## Avaliação"
   ]
  },
  {
   "cell_type": "markdown",
   "id": "1bc7fc24",
   "metadata": {
    "id": "yK5vrBd1hqjq",
    "papermill": {
     "duration": 0.009949,
     "end_time": "2023-04-17T23:17:01.486215",
     "exception": false,
     "start_time": "2023-04-17T23:17:01.476266",
     "status": "completed"
    },
    "tags": []
   },
   "source": [
    "### Predict"
   ]
  },
  {
   "cell_type": "code",
   "execution_count": 12,
   "id": "a3abf0b6",
   "metadata": {
    "ExecuteTime": {
     "end_time": "2018-02-04T16:02:22.149118Z",
     "start_time": "2018-02-04T16:02:21.945738Z"
    },
    "execution": {
     "iopub.execute_input": "2023-04-17T23:17:01.508980Z",
     "iopub.status.busy": "2023-04-17T23:17:01.508514Z",
     "iopub.status.idle": "2023-04-17T23:17:01.729575Z",
     "shell.execute_reply": "2023-04-17T23:17:01.728288Z"
    },
    "executionInfo": {
     "elapsed": 280,
     "status": "ok",
     "timestamp": 1623964793760,
     "user": {
      "displayName": "Vitor Casadei",
      "photoUrl": "https://lh3.googleusercontent.com/a-/AOh14Gi_Qc3i7yEtToSZf9tx_rm0RRTInE8NwNIA5CwhEDM=s64",
      "userId": "15557768782438349168"
     },
     "user_tz": 180
    },
    "id": "ieHyyJ25hqjr",
    "outputId": "cd5e3ebb-d91c-4952-a32f-0ac797f9def3",
    "papermill": {
     "duration": 0.2358,
     "end_time": "2023-04-17T23:17:01.732383",
     "exception": false,
     "start_time": "2023-04-17T23:17:01.496583",
     "status": "completed"
    },
    "tags": []
   },
   "outputs": [
    {
     "data": {
      "image/png": "[encoded data removed]",
      "text/plain": [
       "<Figure size 640x480 with 1 Axes>"
      ]
     },
     "metadata": {},
     "output_type": "display_data"
    }
   ],
   "source": [
    "y_pred = model.forward(x_train_bias)\n",
    "plt.plot(x_train.numpy(), y_train.numpy(), 'ro', label='Original data')\n",
    "plt.plot(x_train.numpy(), y_pred.numpy(), 'kx-', label='Fitting Line')\n",
    "plt.show()"
   ]
  },
  {
   "cell_type": "code",
   "execution_count": 13,
   "id": "c8419ff1",
   "metadata": {
    "execution": {
     "iopub.execute_input": "2023-04-17T23:17:01.756483Z",
     "iopub.status.busy": "2023-04-17T23:17:01.756000Z",
     "iopub.status.idle": "2023-04-17T23:17:01.972890Z",
     "shell.execute_reply": "2023-04-17T23:17:01.971906Z"
    },
    "papermill": {
     "duration": 0.231882,
     "end_time": "2023-04-17T23:17:01.975269",
     "exception": false,
     "start_time": "2023-04-17T23:17:01.743387",
     "status": "completed"
    },
    "tags": []
   },
   "outputs": [
    {
     "data": {
      "image/png": "[encoded data removed]",
      "text/plain": [
       "<Figure size 640x480 with 1 Axes>"
      ]
     },
     "metadata": {},
     "output_type": "display_data"
    }
   ],
   "source": [
    "plt.plot(losses)\n",
    "plt.xlabel('Epochs')\n",
    "plt.ylabel('Loss')\n",
    "plt.title('Loss x Epochs')\n",
    "plt.show()"
   ]
  },
  {
   "cell_type": "markdown",
   "id": "7f3f49f0",
   "metadata": {
    "id": "h8pcSIHBhqjx",
    "papermill": {
     "duration": 0.011408,
     "end_time": "2023-04-17T23:17:01.998218",
     "exception": false,
     "start_time": "2023-04-17T23:17:01.986810",
     "status": "completed"
    },
    "tags": []
   },
   "source": [
    "### Parâmetro treinado"
   ]
  },
  {
   "cell_type": "code",
   "execution_count": 14,
   "id": "701f8626",
   "metadata": {
    "ExecuteTime": {
     "end_time": "2018-02-04T16:02:25.042712Z",
     "start_time": "2018-02-04T16:02:25.035458Z"
    },
    "execution": {
     "iopub.execute_input": "2023-04-17T23:17:02.023522Z",
     "iopub.status.busy": "2023-04-17T23:17:02.023049Z",
     "iopub.status.idle": "2023-04-17T23:17:02.030523Z",
     "shell.execute_reply": "2023-04-17T23:17:02.028750Z"
    },
    "executionInfo": {
     "elapsed": 237,
     "status": "ok",
     "timestamp": 1623964796759,
     "user": {
      "displayName": "Vitor Casadei",
      "photoUrl": "https://lh3.googleusercontent.com/a-/AOh14Gi_Qc3i7yEtToSZf9tx_rm0RRTInE8NwNIA5CwhEDM=s64",
      "userId": "15557768782438349168"
     },
     "user_tz": 180
    },
    "id": "uXLo4RF8hqjy",
    "outputId": "bd576490-fc9d-444a-ab32-7ff93e883670",
    "papermill": {
     "duration": 0.023482,
     "end_time": "2023-04-17T23:17:02.033160",
     "exception": false,
     "start_time": "2023-04-17T23:17:02.009678",
     "status": "completed"
    },
    "tags": []
   },
   "outputs": [
    {
     "name": "stdout",
     "output_type": "stream",
     "text": [
      "tensor([[0.2630, 0.6832]])\n"
     ]
    }
   ],
   "source": [
    "print(model.w)"
   ]
  },
  {
   "cell_type": "code",
   "execution_count": 15,
   "id": "50611a89",
   "metadata": {
    "ExecuteTime": {
     "end_time": "2018-02-04T16:08:31.867782Z",
     "start_time": "2018-02-04T16:08:31.863719Z"
    },
    "execution": {
     "iopub.execute_input": "2023-04-17T23:17:02.058235Z",
     "iopub.status.busy": "2023-04-17T23:17:02.057514Z",
     "iopub.status.idle": "2023-04-17T23:17:02.095397Z",
     "shell.execute_reply": "2023-04-17T23:17:02.093673Z"
    },
    "executionInfo": {
     "elapsed": 24,
     "status": "ok",
     "timestamp": 1623964797864,
     "user": {
      "displayName": "Vitor Casadei",
      "photoUrl": "https://lh3.googleusercontent.com/a-/AOh14Gi_Qc3i7yEtToSZf9tx_rm0RRTInE8NwNIA5CwhEDM=s64",
      "userId": "15557768782438349168"
     },
     "user_tz": 180
    },
    "id": "8To9Xp_7hqj1",
    "outputId": "8426f55c-984f-4254-91c6-a3e6548053c1",
    "papermill": {
     "duration": 0.053706,
     "end_time": "2023-04-17T23:17:02.098315",
     "exception": false,
     "start_time": "2023-04-17T23:17:02.044609",
     "status": "completed"
    },
    "tags": []
   },
   "outputs": [
    {
     "name": "stdout",
     "output_type": "stream",
     "text": [
      "tensor([[0.2613, 0.6865]])\n"
     ]
    }
   ],
   "source": [
    "x_bias = x_train_bias\n",
    "y = y_train\n",
    "w_opt = (torch.inverse(x_bias.t().mm(x_bias)).mm(x_bias.t())).mm(y)\n",
    "print(w_opt.t())"
   ]
  }
 ],
 "metadata": {
  "kernelspec": {
   "display_name": "Python 3",
   "language": "python",
   "name": "python3"
  },
  "language_info": {
   "codemirror_mode": {
    "name": "ipython",
    "version": 3
   },
   "file_extension": ".py",
   "mimetype": "text/x-python",
   "name": "python",
   "nbconvert_exporter": "python",
   "pygments_lexer": "ipython3",
   "version": "3.7.12"
  },
  "papermill": {
   "default_parameters": {},
   "duration": 19.596903,
   "end_time": "2023-04-17T23:17:03.235875",
   "environment_variables": {},
   "exception": null,
   "input_path": "__notebook__.ipynb",
   "output_path": "__notebook__.ipynb",
   "parameters": {},
   "start_time": "2023-04-17T23:16:43.638972",
   "version": "2.4.0"
  }
 },
 "nbformat": 4,
 "nbformat_minor": 5
}
