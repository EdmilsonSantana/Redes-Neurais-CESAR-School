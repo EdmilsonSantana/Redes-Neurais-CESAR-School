{
 "cells": [
  {
   "cell_type": "markdown",
   "id": "3d92ea04",
   "metadata": {
    "id": "oybr0ygpH3at",
    "papermill": {
     "duration": 0.009177,
     "end_time": "2023-04-18T02:00:10.787626",
     "exception": false,
     "start_time": "2023-04-18T02:00:10.778449",
     "status": "completed"
    },
    "tags": []
   },
   "source": [
    "# Regressão Linear com PyTorch"
   ]
  },
  {
   "cell_type": "markdown",
   "id": "2a718c14",
   "metadata": {
    "id": "4AZBwvGWH3au",
    "papermill": {
     "duration": 0.007633,
     "end_time": "2023-04-18T02:00:10.803500",
     "exception": false,
     "start_time": "2023-04-18T02:00:10.795867",
     "status": "completed"
    },
    "tags": []
   },
   "source": [
    "## Objetivos"
   ]
  },
  {
   "cell_type": "markdown",
   "id": "1bb569aa",
   "metadata": {
    "id": "PesKBcQYH3av",
    "papermill": {
     "duration": 0.007765,
     "end_time": "2023-04-18T02:00:10.820025",
     "exception": false,
     "start_time": "2023-04-18T02:00:10.812260",
     "status": "completed"
    },
    "tags": []
   },
   "source": [
    "Este exemplo utiliza regressão linear para estimar o comprimento das sépalas da íris a partir do seu comprimento das pétalas.\n",
    "Utiliza-se:\n",
    "- a função de perda MSE do PyTorch, \n",
    "- treinamento dos parâmetros via gradiente descendente usando o otimizador.\n",
    "- A rede é criada com uma camada nn.Linear()"
   ]
  },
  {
   "cell_type": "markdown",
   "id": "0d1a10ce",
   "metadata": {
    "id": "rPwFmfTpH3ax",
    "papermill": {
     "duration": 0.007628,
     "end_time": "2023-04-18T02:00:10.835737",
     "exception": false,
     "start_time": "2023-04-18T02:00:10.828109",
     "status": "completed"
    },
    "tags": []
   },
   "source": [
    "## Importação dos pacotes"
   ]
  },
  {
   "cell_type": "code",
   "execution_count": 1,
   "id": "b5d25c00",
   "metadata": {
    "ExecuteTime": {
     "end_time": "2017-10-08T11:23:37.927166Z",
     "start_time": "2017-10-08T11:23:36.900382Z"
    },
    "execution": {
     "iopub.execute_input": "2023-04-18T02:00:10.855329Z",
     "iopub.status.busy": "2023-04-18T02:00:10.854450Z",
     "iopub.status.idle": "2023-04-18T02:00:14.878668Z",
     "shell.execute_reply": "2023-04-18T02:00:14.877139Z"
    },
    "executionInfo": {
     "elapsed": 1106,
     "status": "ok",
     "timestamp": 1547849233184,
     "user": {
      "displayName": "Vitor Casadei",
      "photoUrl": "https://lh5.googleusercontent.com/-OT6T8YZ9rfo/AAAAAAAAAAI/AAAAAAAAIHA/gt0bUaenBok/s64/photo.jpg",
      "userId": "15557768782438349168"
     },
     "user_tz": 240
    },
    "id": "EJa19XZsH3ax",
    "outputId": "0cf1e9c9-6d3d-400c-87e2-6b08e6b99331",
    "papermill": {
     "duration": 4.038279,
     "end_time": "2023-04-18T02:00:14.882061",
     "exception": false,
     "start_time": "2023-04-18T02:00:10.843782",
     "status": "completed"
    },
    "tags": []
   },
   "outputs": [
    {
     "data": {
      "text/plain": [
       "<torch._C.Generator at 0x7d1a35ba5d30>"
      ]
     },
     "execution_count": 1,
     "metadata": {},
     "output_type": "execute_result"
    }
   ],
   "source": [
    "%matplotlib inline\n",
    "import torch\n",
    "from torch import nn, optim\n",
    "from torch.autograd import Variable\n",
    "import numpy as np\n",
    "import matplotlib.pyplot as plt\n",
    "from sklearn.datasets import load_iris\n",
    "\n",
    "plt.style.use('seaborn-deep')\n",
    "\n",
    "torch.manual_seed(1234)"
   ]
  },
  {
   "cell_type": "markdown",
   "id": "96bddf3c",
   "metadata": {
    "id": "zkVqshBgH3a3",
    "papermill": {
     "duration": 0.007829,
     "end_time": "2023-04-18T02:00:14.898668",
     "exception": false,
     "start_time": "2023-04-18T02:00:14.890839",
     "status": "completed"
    },
    "tags": []
   },
   "source": [
    "## Leitura dos dados"
   ]
  },
  {
   "cell_type": "code",
   "execution_count": 2,
   "id": "d85b054e",
   "metadata": {
    "ExecuteTime": {
     "end_time": "2017-10-08T11:23:37.946805Z",
     "start_time": "2017-10-08T11:23:37.929142Z"
    },
    "execution": {
     "iopub.execute_input": "2023-04-18T02:00:14.916984Z",
     "iopub.status.busy": "2023-04-18T02:00:14.916405Z",
     "iopub.status.idle": "2023-04-18T02:00:14.934775Z",
     "shell.execute_reply": "2023-04-18T02:00:14.932688Z"
    },
    "executionInfo": {
     "elapsed": 740,
     "status": "ok",
     "timestamp": 1547849237044,
     "user": {
      "displayName": "Vitor Casadei",
      "photoUrl": "https://lh5.googleusercontent.com/-OT6T8YZ9rfo/AAAAAAAAAAI/AAAAAAAAIHA/gt0bUaenBok/s64/photo.jpg",
      "userId": "15557768782438349168"
     },
     "user_tz": 240
    },
    "id": "FNRdrYnrH3a4",
    "outputId": "efabf0df-7bd7-4465-eb72-4609f9a5b688",
    "papermill": {
     "duration": 0.030874,
     "end_time": "2023-04-18T02:00:14.937656",
     "exception": false,
     "start_time": "2023-04-18T02:00:14.906782",
     "status": "completed"
    },
    "tags": []
   },
   "outputs": [
    {
     "name": "stdout",
     "output_type": "stream",
     "text": [
      "x_train.shape: (50, 1) float32\n",
      "y_train.shape: (50, 1) float32\n",
      "x_train[:5]:\n",
      " [[7. ]\n",
      " [6.4]\n",
      " [6.9]\n",
      " [5.5]\n",
      " [6.5]]\n",
      "y_train[:5]:\n",
      " [[4.7]\n",
      " [4.5]\n",
      " [4.9]\n",
      " [4. ]\n",
      " [4.6]]\n"
     ]
    }
   ],
   "source": [
    "iris = load_iris()\n",
    "data = iris.data[iris.target==1,::2]  # comprimento das sépalas e pétalas, indices 0 e 2\n",
    "\n",
    "x_train = data[:,0:1].astype(np.float32)\n",
    "y_train = data[:,1:2].astype(np.float32)\n",
    "\n",
    "n_samples = x_train.shape[0]\n",
    "print('x_train.shape:',x_train.shape, x_train.dtype)\n",
    "print('y_train.shape:',y_train.shape, y_train.dtype)\n",
    "\n",
    "print('x_train[:5]:\\n', x_train[:5])\n",
    "print('y_train[:5]:\\n', y_train[:5])"
   ]
  },
  {
   "cell_type": "markdown",
   "id": "ab329662",
   "metadata": {
    "id": "CI2oB--zH3a7",
    "papermill": {
     "duration": 0.008108,
     "end_time": "2023-04-18T02:00:14.955710",
     "exception": false,
     "start_time": "2023-04-18T02:00:14.947602",
     "status": "completed"
    },
    "tags": []
   },
   "source": [
    "### Normalização dos dados"
   ]
  },
  {
   "cell_type": "code",
   "execution_count": 3,
   "id": "e069246c",
   "metadata": {
    "ExecuteTime": {
     "end_time": "2017-10-08T11:23:37.956211Z",
     "start_time": "2017-10-08T11:23:37.949927Z"
    },
    "execution": {
     "iopub.execute_input": "2023-04-18T02:00:14.974436Z",
     "iopub.status.busy": "2023-04-18T02:00:14.973993Z",
     "iopub.status.idle": "2023-04-18T02:00:14.979713Z",
     "shell.execute_reply": "2023-04-18T02:00:14.978549Z"
    },
    "id": "VwvLO3hIH3a9",
    "papermill": {
     "duration": 0.018139,
     "end_time": "2023-04-18T02:00:14.982088",
     "exception": false,
     "start_time": "2023-04-18T02:00:14.963949",
     "status": "completed"
    },
    "tags": []
   },
   "outputs": [],
   "source": [
    "x_train -= x_train.min()\n",
    "x_train /= x_train.max()\n",
    "y_train -= y_train.min()\n",
    "y_train /= y_train.max()\n"
   ]
  },
  {
   "cell_type": "code",
   "execution_count": 4,
   "id": "ad19a1ff",
   "metadata": {
    "ExecuteTime": {
     "end_time": "2017-10-08T11:23:37.963170Z",
     "start_time": "2017-10-08T11:23:37.958475Z"
    },
    "execution": {
     "iopub.execute_input": "2023-04-18T02:00:15.000835Z",
     "iopub.status.busy": "2023-04-18T02:00:15.000447Z",
     "iopub.status.idle": "2023-04-18T02:00:15.006393Z",
     "shell.execute_reply": "2023-04-18T02:00:15.004962Z"
    },
    "id": "lKjd3VQNH3a-",
    "papermill": {
     "duration": 0.018839,
     "end_time": "2023-04-18T02:00:15.009281",
     "exception": false,
     "start_time": "2023-04-18T02:00:14.990442",
     "status": "completed"
    },
    "tags": []
   },
   "outputs": [],
   "source": [
    "x_train_bias = np.hstack([np.ones(shape=(n_samples,1)), x_train])"
   ]
  },
  {
   "cell_type": "code",
   "execution_count": 5,
   "id": "23b310cf",
   "metadata": {
    "ExecuteTime": {
     "end_time": "2017-10-08T11:23:37.970031Z",
     "start_time": "2017-10-08T11:23:37.965786Z"
    },
    "execution": {
     "iopub.execute_input": "2023-04-18T02:00:15.029303Z",
     "iopub.status.busy": "2023-04-18T02:00:15.028828Z",
     "iopub.status.idle": "2023-04-18T02:00:15.070814Z",
     "shell.execute_reply": "2023-04-18T02:00:15.069361Z"
    },
    "id": "R2gg3Z8zH3bB",
    "papermill": {
     "duration": 0.054861,
     "end_time": "2023-04-18T02:00:15.073594",
     "exception": false,
     "start_time": "2023-04-18T02:00:15.018733",
     "status": "completed"
    },
    "tags": []
   },
   "outputs": [],
   "source": [
    "x_train_bias = torch.FloatTensor(x_train_bias)\n",
    "y_train      = torch.FloatTensor(y_train)"
   ]
  },
  {
   "cell_type": "markdown",
   "id": "d0576d37",
   "metadata": {
    "id": "Zj_4-yzuH3bE",
    "papermill": {
     "duration": 0.008143,
     "end_time": "2023-04-18T02:00:15.090497",
     "exception": false,
     "start_time": "2023-04-18T02:00:15.082354",
     "status": "completed"
    },
    "tags": []
   },
   "source": [
    "## Criação do modelo da rede"
   ]
  },
  {
   "cell_type": "code",
   "execution_count": 6,
   "id": "0909b768",
   "metadata": {
    "ExecuteTime": {
     "end_time": "2017-10-08T11:23:37.978113Z",
     "start_time": "2017-10-08T11:23:37.972879Z"
    },
    "execution": {
     "iopub.execute_input": "2023-04-18T02:00:15.108676Z",
     "iopub.status.busy": "2023-04-18T02:00:15.108237Z",
     "iopub.status.idle": "2023-04-18T02:00:15.130822Z",
     "shell.execute_reply": "2023-04-18T02:00:15.129721Z"
    },
    "id": "AxkP2_ojH3bE",
    "papermill": {
     "duration": 0.035094,
     "end_time": "2023-04-18T02:00:15.133756",
     "exception": false,
     "start_time": "2023-04-18T02:00:15.098662",
     "status": "completed"
    },
    "tags": []
   },
   "outputs": [],
   "source": [
    "model = torch.nn.Linear(2, 1, bias=False)"
   ]
  },
  {
   "cell_type": "markdown",
   "id": "9ed03fc7",
   "metadata": {
    "id": "G4azDkxbH3bI",
    "papermill": {
     "duration": 0.007863,
     "end_time": "2023-04-18T02:00:15.151008",
     "exception": false,
     "start_time": "2023-04-18T02:00:15.143145",
     "status": "completed"
    },
    "tags": []
   },
   "source": [
    "### Verificando a inicialização dos parâmetros"
   ]
  },
  {
   "cell_type": "code",
   "execution_count": 7,
   "id": "854926bc",
   "metadata": {
    "ExecuteTime": {
     "end_time": "2017-10-08T11:23:37.989441Z",
     "start_time": "2017-10-08T11:23:37.980969Z"
    },
    "execution": {
     "iopub.execute_input": "2023-04-18T02:00:15.170399Z",
     "iopub.status.busy": "2023-04-18T02:00:15.169614Z",
     "iopub.status.idle": "2023-04-18T02:00:15.238721Z",
     "shell.execute_reply": "2023-04-18T02:00:15.237314Z"
    },
    "executionInfo": {
     "elapsed": 827,
     "status": "ok",
     "timestamp": 1547850224903,
     "user": {
      "displayName": "Vitor Casadei",
      "photoUrl": "https://lh5.googleusercontent.com/-OT6T8YZ9rfo/AAAAAAAAAAI/AAAAAAAAIHA/gt0bUaenBok/s64/photo.jpg",
      "userId": "15557768782438349168"
     },
     "user_tz": 240
    },
    "id": "hihjBHEFH3bJ",
    "outputId": "40c03b0e-e31c-451b-fbb1-30941dfe82fa",
    "papermill": {
     "duration": 0.082268,
     "end_time": "2023-04-18T02:00:15.241557",
     "exception": false,
     "start_time": "2023-04-18T02:00:15.159289",
     "status": "completed"
    },
    "tags": []
   },
   "outputs": [
    {
     "name": "stderr",
     "output_type": "stream",
     "text": [
      "/opt/conda/lib/python3.7/site-packages/ipykernel_launcher.py:2: UserWarning: nn.init.uniform is now deprecated in favor of nn.init.uniform_.\n",
      "  \n"
     ]
    },
    {
     "data": {
      "text/plain": [
       "tensor([[-0.0480, -0.0267]])"
      ]
     },
     "execution_count": 7,
     "metadata": {},
     "output_type": "execute_result"
    }
   ],
   "source": [
    "model.weight.data = torch.zeros(1,2)\n",
    "torch.nn.init.uniform(model.weight.data, -0.1, 0.1)\n",
    "model.weight.data"
   ]
  },
  {
   "cell_type": "markdown",
   "id": "49e38766",
   "metadata": {
    "id": "plBKu2guH3bM",
    "papermill": {
     "duration": 0.00811,
     "end_time": "2023-04-18T02:00:15.258328",
     "exception": false,
     "start_time": "2023-04-18T02:00:15.250218",
     "status": "completed"
    },
    "tags": []
   },
   "source": [
    "### Testando o predict da rede"
   ]
  },
  {
   "cell_type": "code",
   "execution_count": 8,
   "id": "b752bc1a",
   "metadata": {
    "ExecuteTime": {
     "end_time": "2017-10-08T11:23:38.041043Z",
     "start_time": "2017-10-08T11:23:37.992008Z"
    },
    "execution": {
     "iopub.execute_input": "2023-04-18T02:00:15.277015Z",
     "iopub.status.busy": "2023-04-18T02:00:15.276606Z",
     "iopub.status.idle": "2023-04-18T02:00:15.303516Z",
     "shell.execute_reply": "2023-04-18T02:00:15.302483Z"
    },
    "executionInfo": {
     "elapsed": 715,
     "status": "ok",
     "timestamp": 1547849271353,
     "user": {
      "displayName": "Vitor Casadei",
      "photoUrl": "https://lh5.googleusercontent.com/-OT6T8YZ9rfo/AAAAAAAAAAI/AAAAAAAAIHA/gt0bUaenBok/s64/photo.jpg",
      "userId": "15557768782438349168"
     },
     "user_tz": 240
    },
    "id": "o9X_PZ8jH3bM",
    "outputId": "6a92d3fc-c430-4754-f6d6-6eb7363505a1",
    "papermill": {
     "duration": 0.039385,
     "end_time": "2023-04-18T02:00:15.306182",
     "exception": false,
     "start_time": "2023-04-18T02:00:15.266797",
     "status": "completed"
    },
    "tags": []
   },
   "outputs": [
    {
     "data": {
      "text/plain": [
       "tensor([[-0.0747],\n",
       "        [-0.0747],\n",
       "        [-0.0747],\n",
       "        [-0.0747],\n",
       "        [-0.0747]], grad_fn=<MmBackward0>)"
      ]
     },
     "execution_count": 8,
     "metadata": {},
     "output_type": "execute_result"
    }
   ],
   "source": [
    "model(Variable(torch.ones((5,2))))"
   ]
  },
  {
   "cell_type": "markdown",
   "id": "0e9834e0",
   "metadata": {
    "id": "NDVeAyDCH3bQ",
    "papermill": {
     "duration": 0.00843,
     "end_time": "2023-04-18T02:00:15.323188",
     "exception": false,
     "start_time": "2023-04-18T02:00:15.314758",
     "status": "completed"
    },
    "tags": []
   },
   "source": [
    "## Treinamento"
   ]
  },
  {
   "cell_type": "markdown",
   "id": "6c158ac2",
   "metadata": {
    "id": "8p4jG3kqH3bR",
    "papermill": {
     "duration": 0.008259,
     "end_time": "2023-04-18T02:00:15.339961",
     "exception": false,
     "start_time": "2023-04-18T02:00:15.331702",
     "status": "completed"
    },
    "tags": []
   },
   "source": [
    "### Definindo função de perda e otimizador"
   ]
  },
  {
   "cell_type": "code",
   "execution_count": 9,
   "id": "e41cfc38",
   "metadata": {
    "ExecuteTime": {
     "end_time": "2017-10-08T11:23:38.049936Z",
     "start_time": "2017-10-08T11:23:38.043559Z"
    },
    "execution": {
     "iopub.execute_input": "2023-04-18T02:00:15.359969Z",
     "iopub.status.busy": "2023-04-18T02:00:15.358714Z",
     "iopub.status.idle": "2023-04-18T02:00:15.364484Z",
     "shell.execute_reply": "2023-04-18T02:00:15.363318Z"
    },
    "id": "yzC5JAvtH3bR",
    "papermill": {
     "duration": 0.018396,
     "end_time": "2023-04-18T02:00:15.367067",
     "exception": false,
     "start_time": "2023-04-18T02:00:15.348671",
     "status": "completed"
    },
    "tags": []
   },
   "outputs": [],
   "source": [
    "criterion = nn.MSELoss()\n",
    "optimizer = optim.SGD(model.parameters(), lr=0.3)"
   ]
  },
  {
   "cell_type": "markdown",
   "id": "4f0cf27e",
   "metadata": {
    "id": "JJe4KvCdH3bV",
    "papermill": {
     "duration": 0.008324,
     "end_time": "2023-04-18T02:00:15.383982",
     "exception": false,
     "start_time": "2023-04-18T02:00:15.375658",
     "status": "completed"
    },
    "tags": []
   },
   "source": [
    "### Laço de treinamento"
   ]
  },
  {
   "cell_type": "code",
   "execution_count": 10,
   "id": "78bbb5bb",
   "metadata": {
    "ExecuteTime": {
     "end_time": "2017-10-08T11:23:38.128839Z",
     "start_time": "2017-10-08T11:23:38.053061Z"
    },
    "execution": {
     "iopub.execute_input": "2023-04-18T02:00:15.403481Z",
     "iopub.status.busy": "2023-04-18T02:00:15.403057Z",
     "iopub.status.idle": "2023-04-18T02:00:15.468230Z",
     "shell.execute_reply": "2023-04-18T02:00:15.466374Z"
    },
    "executionInfo": {
     "elapsed": 760,
     "status": "ok",
     "timestamp": 1547850228547,
     "user": {
      "displayName": "Vitor Casadei",
      "photoUrl": "https://lh5.googleusercontent.com/-OT6T8YZ9rfo/AAAAAAAAAAI/AAAAAAAAIHA/gt0bUaenBok/s64/photo.jpg",
      "userId": "15557768782438349168"
     },
     "user_tz": 240
    },
    "id": "P_icCuI9H3bW",
    "outputId": "38b25cdc-fdea-4a0f-d75d-f42e60770b7b",
    "papermill": {
     "duration": 0.078159,
     "end_time": "2023-04-18T02:00:15.470911",
     "exception": false,
     "start_time": "2023-04-18T02:00:15.392752",
     "status": "completed"
    },
    "tags": []
   },
   "outputs": [
    {
     "name": "stdout",
     "output_type": "stream",
     "text": [
      "Epoch[20/120], loss: 0.024990\n",
      "Epoch[40/120], loss: 0.022381\n",
      "Epoch[60/120], loss: 0.021554\n",
      "Epoch[80/120], loss: 0.021291\n",
      "Epoch[100/120], loss: 0.021208\n",
      "Epoch[120/120], loss: 0.021182\n"
     ]
    }
   ],
   "source": [
    "num_epochs = 120\n",
    "w0_list = []\n",
    "w1_list = []\n",
    "losses = []\n",
    "for epoch in range(num_epochs):\n",
    "    inputs = Variable(x_train_bias)\n",
    "    target = Variable(y_train)\n",
    "\n",
    "    # forward - predict\n",
    "    out = model(inputs)\n",
    "    \n",
    "    w0_list.append(model.weight.data[0][0].item())\n",
    "    w1_list.append(model.weight.data[0][1].item())\n",
    "\n",
    "    #loss cálculo da função de perda\n",
    "    loss = criterion(out, target)\n",
    "\n",
    "    losses.append(loss.item())\n",
    "\n",
    "    # backward e otimizador\n",
    "    optimizer.zero_grad()\n",
    "    loss.backward()\n",
    "    optimizer.step()\n",
    "    \n",
    "    # verbose\n",
    "    if (epoch+1) % 20 == 0:\n",
    "        print('Epoch[{}/{}], loss: {:.6f}'\n",
    "              .format(epoch+1, num_epochs, loss.data))"
   ]
  },
  {
   "cell_type": "markdown",
   "id": "69384843",
   "metadata": {
    "id": "krvBJhZIH3bd",
    "papermill": {
     "duration": 0.008184,
     "end_time": "2023-04-18T02:00:15.487878",
     "exception": false,
     "start_time": "2023-04-18T02:00:15.479694",
     "status": "completed"
    },
    "tags": []
   },
   "source": [
    "## Avaliação"
   ]
  },
  {
   "cell_type": "code",
   "execution_count": 11,
   "id": "751ae3d4",
   "metadata": {
    "ExecuteTime": {
     "end_time": "2017-10-08T11:23:38.343311Z",
     "start_time": "2017-10-08T11:23:38.131051Z"
    },
    "execution": {
     "iopub.execute_input": "2023-04-18T02:00:15.507095Z",
     "iopub.status.busy": "2023-04-18T02:00:15.506688Z",
     "iopub.status.idle": "2023-04-18T02:00:15.745782Z",
     "shell.execute_reply": "2023-04-18T02:00:15.744779Z"
    },
    "executionInfo": {
     "elapsed": 815,
     "status": "ok",
     "timestamp": 1547849432151,
     "user": {
      "displayName": "Vitor Casadei",
      "photoUrl": "https://lh5.googleusercontent.com/-OT6T8YZ9rfo/AAAAAAAAAAI/AAAAAAAAIHA/gt0bUaenBok/s64/photo.jpg",
      "userId": "15557768782438349168"
     },
     "user_tz": 240
    },
    "id": "ImMHVPKMH3bf",
    "outputId": "cfe3f366-9a91-4d28-e137-99bb537bf47d",
    "papermill": {
     "duration": 0.251758,
     "end_time": "2023-04-18T02:00:15.748242",
     "exception": false,
     "start_time": "2023-04-18T02:00:15.496484",
     "status": "completed"
    },
    "tags": []
   },
   "outputs": [
    {
     "data": {
      "image/png": "[encoded data removed]",
      "text/plain": [
       "<Figure size 640x480 with 1 Axes>"
      ]
     },
     "metadata": {},
     "output_type": "display_data"
    }
   ],
   "source": [
    "y_pred = model(Variable(x_train_bias))\n",
    "plt.plot(x_train, y_train.numpy(), 'ro', label='Original data')\n",
    "plt.plot(x_train, y_pred.data.numpy(), 'kx-', label='Fitting Line')\n",
    "plt.show()"
   ]
  },
  {
   "cell_type": "markdown",
   "id": "5d48973c",
   "metadata": {
    "id": "bStL-pkSH3bt",
    "papermill": {
     "duration": 0.009123,
     "end_time": "2023-04-18T02:00:15.766354",
     "exception": false,
     "start_time": "2023-04-18T02:00:15.757231",
     "status": "completed"
    },
    "tags": []
   },
   "source": [
    "# Exercícios"
   ]
  },
  {
   "cell_type": "markdown",
   "id": "0249f570",
   "metadata": {
    "id": "_nMQjjzmH3bt",
    "papermill": {
     "duration": 0.009054,
     "end_time": "2023-04-18T02:00:15.784460",
     "exception": false,
     "start_time": "2023-04-18T02:00:15.775406",
     "status": "completed"
    },
    "tags": []
   },
   "source": [
    "- 1) Calcule o valor da função de custo (MSE) depois da rede treinada, utilizando a\n",
    "   função `criterion` utilizada no laço de treinamento."
   ]
  },
  {
   "cell_type": "code",
   "execution_count": 12,
   "id": "4b52fe63",
   "metadata": {
    "execution": {
     "iopub.execute_input": "2023-04-18T02:00:15.806241Z",
     "iopub.status.busy": "2023-04-18T02:00:15.805772Z",
     "iopub.status.idle": "2023-04-18T02:00:15.813246Z",
     "shell.execute_reply": "2023-04-18T02:00:15.811588Z"
    },
    "papermill": {
     "duration": 0.022174,
     "end_time": "2023-04-18T02:00:15.815942",
     "exception": false,
     "start_time": "2023-04-18T02:00:15.793768",
     "status": "completed"
    },
    "tags": []
   },
   "outputs": [
    {
     "name": "stdout",
     "output_type": "stream",
     "text": [
      "MSE: 0.021181009709835052\n"
     ]
    }
   ],
   "source": [
    "out = model(Variable(x_train_bias))\n",
    "loss = criterion(out, Variable(y_train))\n",
    "print('MSE:', loss.item())"
   ]
  },
  {
   "cell_type": "markdown",
   "id": "abeaeffd",
   "metadata": {
    "papermill": {
     "duration": 0.008629,
     "end_time": "2023-04-18T02:00:15.833792",
     "exception": false,
     "start_time": "2023-04-18T02:00:15.825163",
     "status": "completed"
    },
    "tags": []
   },
   "source": [
    "<details>\n",
    "<summary>Mostrar Resultado</summary>\n",
    "\n",
    "```python\n",
    "y_pred = model(Variable(x_train_bias))\n",
    "loss = criterion(y_pred, Variable(y_train))\n",
    "print(loss)\n",
    "```\n",
    "\n",
    "</details>"
   ]
  },
  {
   "cell_type": "markdown",
   "id": "59ad0e71",
   "metadata": {
    "id": "xovYuu6-H3bu",
    "papermill": {
     "duration": 0.008912,
     "end_time": "2023-04-18T02:00:15.853790",
     "exception": false,
     "start_time": "2023-04-18T02:00:15.844878",
     "status": "completed"
    },
    "tags": []
   },
   "source": [
    "- 2) Faça igual o exercício do notebook anterior, de plotar um gráfico scatterplot para\n",
    "   mostrar a evolução dos parâmetros durante o treinamento pelo gradiente descendente."
   ]
  },
  {
   "cell_type": "markdown",
   "id": "048c61a4",
   "metadata": {
    "papermill": {
     "duration": 0.009307,
     "end_time": "2023-04-18T02:00:15.872628",
     "exception": false,
     "start_time": "2023-04-18T02:00:15.863321",
     "status": "completed"
    },
    "tags": []
   },
   "source": [
    "<details>\n",
    "<summary>Mostrar Resultado</summary>\n",
    "\n",
    "```python\n",
    "plt.scatter(w0_list,w1_list)\n",
    "w0_old = None\n",
    "for (w0,w1) in zip(w0_list,w1_list):\n",
    "    if w0_old:\n",
    "        plt.arrow(w0_old, w1_old, w0-w0_old, w1-w1_old,\n",
    "                  head_length=0.01,head_width=0.01,shape='full',\n",
    "                  length_includes_head=True)\n",
    "    w0_old,w1_old = w0,w1\n",
    "```\n",
    "\n",
    "</details>"
   ]
  },
  {
   "cell_type": "markdown",
   "id": "24226071",
   "metadata": {
    "id": "H23QVayeH3bu",
    "papermill": {
     "duration": 0.009023,
     "end_time": "2023-04-18T02:00:15.890845",
     "exception": false,
     "start_time": "2023-04-18T02:00:15.881822",
     "status": "completed"
    },
    "tags": []
   },
   "source": [
    "- 3) Procure sobrepor a função de perda neste gráfico. (exercício mais difícil)."
   ]
  },
  {
   "cell_type": "code",
   "execution_count": 13,
   "id": "e8c3e6ba",
   "metadata": {
    "execution": {
     "iopub.execute_input": "2023-04-18T02:00:15.911712Z",
     "iopub.status.busy": "2023-04-18T02:00:15.911240Z",
     "iopub.status.idle": "2023-04-18T02:00:16.226720Z",
     "shell.execute_reply": "2023-04-18T02:00:16.225375Z"
    },
    "papermill": {
     "duration": 0.329272,
     "end_time": "2023-04-18T02:00:16.229364",
     "exception": false,
     "start_time": "2023-04-18T02:00:15.900092",
     "status": "completed"
    },
    "tags": []
   },
   "outputs": [
    {
     "data": {
      "image/png": "[encoded data removed]",
      "text/plain": [
       "<Figure size 640x480 with 2 Axes>"
      ]
     },
     "metadata": {},
     "output_type": "display_data"
    }
   ],
   "source": [
    "x = range(num_epochs)\n",
    "fig,ax = plt.subplots()\n",
    "\n",
    "ax.plot(x, losses, color=\"red\",marker=\"x\")\n",
    "ax.set_ylabel(\"Loss\",color=\"red\",fontsize=12)\n",
    "\n",
    "ax2 = ax.twinx()\n",
    "\n",
    "ax2.plot(x, w0_list, color=\"blue\", marker=\"o\")\n",
    "ax2.plot(x, w1_list, color=\"blue\", marker=\"o\")\n",
    "\n",
    "ax2.set_xlabel(\"Epochs\", fontsize = 14)\n",
    "ax2.set_ylabel(\"Weight\", color=\"blue\",fontsize=12)\n",
    "plt.show()"
   ]
  },
  {
   "cell_type": "markdown",
   "id": "029d9fd7",
   "metadata": {
    "id": "P_si86jRH3bw",
    "papermill": {
     "duration": 0.01015,
     "end_time": "2023-04-18T02:00:16.250065",
     "exception": false,
     "start_time": "2023-04-18T02:00:16.239915",
     "status": "completed"
    },
    "tags": []
   },
   "source": [
    "# Aprendizados"
   ]
  },
  {
   "cell_type": "markdown",
   "id": "188c6aa9",
   "metadata": {
    "id": "rrRR4zs3H3bx",
    "papermill": {
     "duration": 0.009287,
     "end_time": "2023-04-18T02:00:16.269488",
     "exception": false,
     "start_time": "2023-04-18T02:00:16.260201",
     "status": "completed"
    },
    "tags": []
   },
   "source": [
    "Não é necessário implementar as funções de custo e otimização / atualização dos parâmetros. O PyTorch possui classes responsáveis por essa etapa do treinamento."
   ]
  }
 ],
 "metadata": {
  "kernelspec": {
   "display_name": "Python 3",
   "language": "python",
   "name": "python3"
  },
  "language_info": {
   "codemirror_mode": {
    "name": "ipython",
    "version": 3
   },
   "file_extension": ".py",
   "mimetype": "text/x-python",
   "name": "python",
   "nbconvert_exporter": "python",
   "pygments_lexer": "ipython3",
   "version": "3.7.12"
  },
  "papermill": {
   "default_parameters": {},
   "duration": 17.996842,
   "end_time": "2023-04-18T02:00:17.404504",
   "environment_variables": {},
   "exception": null,
   "input_path": "__notebook__.ipynb",
   "output_path": "__notebook__.ipynb",
   "parameters": {},
   "start_time": "2023-04-18T01:59:59.407662",
   "version": "2.4.0"
  }
 },
 "nbformat": 4,
 "nbformat_minor": 5
}
